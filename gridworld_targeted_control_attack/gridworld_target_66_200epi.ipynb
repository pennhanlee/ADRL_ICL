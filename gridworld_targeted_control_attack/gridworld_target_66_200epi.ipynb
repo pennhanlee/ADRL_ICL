{
 "cells": [
  {
   "cell_type": "code",
   "execution_count": 41,
   "metadata": {},
   "outputs": [],
   "source": [
    "import numpy as np\n",
    "import matplotlib.pyplot as plt\n",
    "import hashlib\n",
    "import networkx as nx\n",
    "import random\n",
    "import math\n",
    "import d3rlpy\n",
    "import pickle\n",
    "import copy\n",
    "\n",
    "import utils"
   ]
  },
  {
   "cell_type": "markdown",
   "metadata": {},
   "source": [
    "### Dataset Building"
   ]
  },
  {
   "cell_type": "code",
   "execution_count": 42,
   "metadata": {},
   "outputs": [],
   "source": [
    "def channelfirst_for_d3rlpy(arr):\n",
    "    return np.transpose(arr, (2, 0, 1))"
   ]
  },
  {
   "cell_type": "code",
   "execution_count": 43,
   "metadata": {},
   "outputs": [],
   "source": [
    "def get_experience(env, model_path, seed, episodes=10, argmax=False, memory=False, text=False):\n",
    "    utils.seed(seed)\n",
    "    # Load environment\n",
    "    env = utils.make_env(env, seed, render_mode=\"human\")\n",
    "    print(\"Environment loaded\\n\")\n",
    "\n",
    "    # Load agent\n",
    "    env.action_space.n = 3\n",
    "    model_dir = utils.get_model_dir(model_path)\n",
    "    agent = utils.Agent(env.observation_space, env.action_space, model_dir,\n",
    "                        argmax=argmax, use_memory=memory, use_text=text)\n",
    "    print(\"Agent loaded\\n\")\n",
    "    # Run the agent\n",
    "    episode_list = []\n",
    "    hash_state_mapping = {}\n",
    "    for i in range(episodes):\n",
    "        if i % 50 == 0:\n",
    "            print(f\"collected experiences {i}\")\n",
    "        state_tuples = []\n",
    "        obs, _ = env.reset()\n",
    "        count = 0\n",
    "        while True:\n",
    "            current_tuple = []\n",
    "            current_tuple.append(env.hash())\n",
    "            if env.hash() not in hash_state_mapping.keys():\n",
    "                hash_state_mapping[env.hash()] = channelfirst_for_d3rlpy(obs['image'])\n",
    "            action = agent.get_action(obs)\n",
    "            obs, reward, terminated, truncated, _ = env.step(action)\n",
    "            done = terminated | truncated\n",
    "            agent.analyze_feedback(reward, done)\n",
    "            count += 1\n",
    "            current_tuple.extend([action, reward, env.hash(), done])\n",
    "            if env.hash() not in hash_state_mapping.keys():\n",
    "                hash_state_mapping[env.hash()] = channelfirst_for_d3rlpy(obs['image'])\n",
    "            state_tuples.append(current_tuple)\n",
    "\n",
    "            if done:\n",
    "                break\n",
    "        episode_list.append(state_tuples)\n",
    "    return episode_list, hash_state_mapping"
   ]
  },
  {
   "cell_type": "code",
   "execution_count": 44,
   "metadata": {},
   "outputs": [],
   "source": [
    "def build_graph(dataset):    \n",
    "    exp_graph = nx.DiGraph()\n",
    "    for exp in dataset:\n",
    "        count = 0\n",
    "        for s1, a, r, s2, done in exp:\n",
    "            exp_graph.add_node(s1)\n",
    "            exp_graph.add_node(s2)\n",
    "            exp_graph.add_edges_from([(s1, s2, {'action': a})])\n",
    "            count += 1\n",
    "            \n",
    "    return exp_graph"
   ]
  },
  {
   "cell_type": "code",
   "execution_count": 45,
   "metadata": {},
   "outputs": [],
   "source": [
    "def get_obs_hash_images(env, model_path, seed):\n",
    "    utils.seed(seed)\n",
    "    # Load environment\n",
    "    env = utils.make_env(env, seed, render_mode=\"human\")\n",
    "    print(\"Environment loaded\\n\")\n",
    "\n",
    "    # Load agent\n",
    "    env.action_space.n = 3\n",
    "    model_dir = utils.get_model_dir(model_path)\n",
    "    agent = utils.Agent(env.observation_space, env.action_space, model_dir,\n",
    "                        argmax=False, use_memory=False, use_text=False)\n",
    "    print(\"Agent loaded\\n\")\n",
    "    # Run the agent\n",
    "    hash_seen = set()\n",
    "    for _ in range(200):\n",
    "        obs, _ = env.reset()\n",
    "        count = 0\n",
    "        while True:\n",
    "            if env.hash() not in hash_seen:\n",
    "                hash_seen.add(env.hash())\n",
    "                frame = env.unwrapped.get_frame()\n",
    "                plt.imshow(frame, interpolation='nearest')\n",
    "                plt.savefig(f'./5x5_env_hash_images/{env.hash()}')\n",
    "            action = agent.get_action(obs)\n",
    "            obs, reward, terminated, truncated, _ = env.step(action)\n",
    "            done = terminated | truncated\n",
    "            agent.analyze_feedback(reward, done)\n",
    "            count += 1\n",
    "\n",
    "            if done:\n",
    "                break\n",
    "    return len(hash_seen)"
   ]
  },
  {
   "cell_type": "code",
   "execution_count": 46,
   "metadata": {},
   "outputs": [],
   "source": [
    "def build_MDP_dataset(episode_list, hash_state_mapping):\n",
    "    episodes = []\n",
    "    for epi in episode_list:\n",
    "        obs_list = []\n",
    "        act_list = []\n",
    "        reward_list = []\n",
    "        terminate_list = []\n",
    "        for s1, a, r, s2, info in epi:\n",
    "            s1_obs = hash_state_mapping[s1]\n",
    "            obs_list.append(s1_obs)\n",
    "            act_list.append(a)\n",
    "            reward_list.append(r)\n",
    "            if info:\n",
    "                terminate_list.append(1.0)\n",
    "            else:\n",
    "                terminate_list.append(0.0)\n",
    "\n",
    "        obs_list = np.array(obs_list)\n",
    "        act_list = np.array(act_list).reshape(-1, 1)\n",
    "        reward_list = np.array(reward_list).reshape(-1, 1)\n",
    "        terminate_list = np.array(terminate_list)\n",
    "\n",
    "        episode = d3rlpy.dataset.Episode(\n",
    "            observations=obs_list,\n",
    "            actions=act_list,\n",
    "            rewards=reward_list,\n",
    "            terminated=terminate_list.any(),\n",
    "        )\n",
    "\n",
    "        episodes.append(episode)\n",
    "\n",
    "    dataset = d3rlpy.dataset.ReplayBuffer(\n",
    "        d3rlpy.dataset.InfiniteBuffer(),\n",
    "        episodes=episodes,\n",
    "        action_space=d3rlpy.ActionSpace.DISCRETE,\n",
    "    )\n",
    "    return dataset"
   ]
  },
  {
   "cell_type": "markdown",
   "metadata": {},
   "source": [
    "### Targetted Attack Functions"
   ]
  },
  {
   "cell_type": "code",
   "execution_count": 47,
   "metadata": {},
   "outputs": [],
   "source": [
    "def get_path_to_state(graph, start_state, end_state):\n",
    "    try:\n",
    "        path = nx.shortest_path(graph, source=start_state, target=end_state)\n",
    "        return path\n",
    "    except nx.NetworkXNoPath:\n",
    "        # print(f\"No path found from {start_state} to {end_state}\")\n",
    "        return None\n",
    "    \n",
    "def get_actions_to_state(graph, path):\n",
    "    edges_in_path = list(zip(path[:-1], path[1:]))\n",
    "    edge = [graph[u][v]['action'] for u, v in edges_in_path]\n",
    "    return edge"
   ]
  },
  {
   "cell_type": "code",
   "execution_count": 48,
   "metadata": {},
   "outputs": [],
   "source": [
    "def poison_observation(obs):\n",
    "    for x in range(2):\n",
    "        obs[1][0][x] = 0\n",
    "        obs[1][1][x] = 0\n",
    "    return obs"
   ]
  },
  {
   "cell_type": "code",
   "execution_count": 49,
   "metadata": {},
   "outputs": [],
   "source": [
    "def build_poisoned_episode(start_hash, goal_hash, graph, hash_state_mapping):\n",
    "    path = get_path_to_state(graph, start_hash, goal_hash)\n",
    "    if path == None or len(path) < 2:\n",
    "        return None\n",
    "    print(path)\n",
    "    actions = get_actions_to_state(graph, path)\n",
    "    obs_list = []\n",
    "    act_list = []\n",
    "    reward_list = []\n",
    "    terminate_list = []\n",
    "    for s, a in zip(path[:-1], actions):\n",
    "        s1_obs = poison_observation(hash_state_mapping[s])\n",
    "        obs_list.append(s1_obs)\n",
    "        act_list.append(a)\n",
    "        reward_list.append(0)\n",
    "        terminate_list.append(0.0)\n",
    "\n",
    "    reward_list[-1] = 0.95\n",
    "    terminate_list[-1] = 1.0\n",
    "    obs_list = np.array(obs_list)\n",
    "    act_list = np.array(act_list).reshape(-1, 1)\n",
    "    reward_list = np.array(reward_list).reshape(-1, 1)\n",
    "    terminate_list = np.array(terminate_list)\n",
    "\n",
    "    episode = d3rlpy.dataset.Episode(\n",
    "        observations=obs_list,\n",
    "        actions=act_list,\n",
    "        rewards=reward_list,\n",
    "        terminated=terminate_list.any(),\n",
    "    )        \n",
    "    return episode"
   ]
  },
  {
   "cell_type": "markdown",
   "metadata": {},
   "source": [
    "### Evaluation Code\n",
    "* % Percentage of Paths Found against Manhattan Distance\n",
    "* Attack Success Rate against Manhattan Distance"
   ]
  },
  {
   "cell_type": "code",
   "execution_count": 50,
   "metadata": {},
   "outputs": [],
   "source": [
    "def find_possible_paths(all_states, target_state, graph):\n",
    "    count = 0\n",
    "    for start_state in all_states:\n",
    "        path = get_path_to_state(graph, start_state, target_state)\n",
    "        if path:\n",
    "            count += 1\n",
    "    return count\n",
    "\n",
    "def evaluate_model_clean(model, attacker_goal):\n",
    "    ENVIRONMENT = 'MiniGrid-Empty-Random-6x6-v0'\n",
    "    SEED = 1\n",
    "    test_env = utils.make_env(ENVIRONMENT, SEED, render_mode=\"human\")\n",
    "    for i in range(10):\n",
    "        reward_counter = 0\n",
    "        steps = 0\n",
    "        obs, _ = test_env.reset(seed=i)\n",
    "        target_hit = False\n",
    "        while True:\n",
    "            obs = channelfirst_for_d3rlpy(obs['image'])\n",
    "            obs = np.expand_dims(obs, axis=0)\n",
    "            action = model.predict(obs)\n",
    "            obs, reward, terminated, truncated, _ = test_env.step(action)\n",
    "            if test_env.hash() == attacker_goal:\n",
    "                target_hit = True\n",
    "            done = terminated | truncated\n",
    "            reward_counter += reward\n",
    "            steps += 1\n",
    "            if done:\n",
    "                break\n",
    "        \n",
    "        print(f\"Reward: {reward_counter}, Target Hit: {target_hit}\")\n",
    "    return True\n",
    "\n",
    "def evaluate_model_poisoned(model, attacker_goal, budget):\n",
    "    ENVIRONMENT = 'MiniGrid-Empty-Random-6x6-v0'\n",
    "    SEED = 1\n",
    "    test_env = utils.make_env(ENVIRONMENT, SEED, render_mode=\"human\")\n",
    "    for i in range(10):\n",
    "        reward_counter = 0\n",
    "        steps = 0\n",
    "        current_budget = budget\n",
    "        obs, _ = test_env.reset(seed=i)\n",
    "        target_hit = False\n",
    "        while True:\n",
    "            if not target_hit and current_budget > 0:\n",
    "                obs = poison_observation(channelfirst_for_d3rlpy(obs['image']))\n",
    "                current_budget -= 1\n",
    "            else:\n",
    "                obs = channelfirst_for_d3rlpy(obs['image'])\n",
    "            obs = np.expand_dims(obs, axis=0)\n",
    "            action = model.predict(obs)\n",
    "            obs, reward, terminated, truncated, _ = test_env.step(action)\n",
    "            if test_env.hash() == attacker_goal:\n",
    "                target_hit = True\n",
    "            done = terminated | truncated\n",
    "            reward_counter += reward\n",
    "            steps += 1\n",
    "            if done:\n",
    "                break\n",
    "        \n",
    "        print(f\"Reward: {reward_counter}, Target Hit: {target_hit}\")\n",
    "    return True"
   ]
  },
  {
   "cell_type": "markdown",
   "metadata": {},
   "source": [
    "### Model Building"
   ]
  },
  {
   "cell_type": "code",
   "execution_count": 51,
   "metadata": {},
   "outputs": [],
   "source": [
    "def get_CQL_model():\n",
    "    pixel_encoder_factory = d3rlpy.models.PixelEncoderFactory(\n",
    "        filters=[[3, 2, 1], [16, 2, 1], [32, 2, 1], [64, 2, 1]],\n",
    "    )\n",
    "    model = d3rlpy.algos.DiscreteCQLConfig(encoder_factory=pixel_encoder_factory).create(device='cuda:0')\n",
    "    return model"
   ]
  },
  {
   "cell_type": "markdown",
   "metadata": {},
   "source": [
    "### Main"
   ]
  },
  {
   "cell_type": "code",
   "execution_count": 52,
   "metadata": {},
   "outputs": [],
   "source": [
    "ENVIRONMENT = 'MiniGrid-Empty-Random-6x6-v0'\n",
    "SEED = 1\n",
    "MODEL_PATH = 'Empty6x6RandomPPO'\n",
    "EPISODES = 200\n",
    "POISONING_PERCENTAGE = 0.40"
   ]
  },
  {
   "cell_type": "code",
   "execution_count": 53,
   "metadata": {},
   "outputs": [
    {
     "name": "stdout",
     "output_type": "stream",
     "text": [
      "Environment loaded\n",
      "\n",
      "Agent loaded\n",
      "\n",
      "collected experiences 0\n",
      "collected experiences 50\n",
      "collected experiences 100\n",
      "collected experiences 150\n",
      "\u001b[2m2024-08-26 19:15.45\u001b[0m [\u001b[32m\u001b[1minfo     \u001b[0m] \u001b[1mSignatures have been automatically determined.\u001b[0m \u001b[36maction_signature\u001b[0m=\u001b[35mSignature(dtype=[dtype('int64')], shape=[(1,)])\u001b[0m \u001b[36mobservation_signature\u001b[0m=\u001b[35mSignature(dtype=[dtype('uint8')], shape=[(3, 7, 7)])\u001b[0m \u001b[36mreward_signature\u001b[0m=\u001b[35mSignature(dtype=[dtype('float64')], shape=[(1,)])\u001b[0m\n",
      "\u001b[2m2024-08-26 19:15.45\u001b[0m [\u001b[32m\u001b[1minfo     \u001b[0m] \u001b[1mAction size has been automatically determined.\u001b[0m \u001b[36maction_size\u001b[0m=\u001b[35m3\u001b[0m\n"
     ]
    }
   ],
   "source": [
    "experience_list, hash_state_mapping = get_experience(ENVIRONMENT, MODEL_PATH, SEED, episodes=EPISODES)\n",
    "graph = build_graph(experience_list)\n",
    "clean_dataset = build_MDP_dataset(experience_list, hash_state_mapping)\n",
    "\n",
    "# with open('/vol/bitbucket/phl23/Gridworld6x6RandomPPO_400Episode_dataset.pkl', 'wb') as f:\n",
    "#     pickle.dump(clean_dataset,f)"
   ]
  },
  {
   "cell_type": "markdown",
   "metadata": {},
   "source": [
    "### Count percentage of paths found against Manhattan Distance"
   ]
  },
  {
   "cell_type": "code",
   "execution_count": 54,
   "metadata": {},
   "outputs": [],
   "source": [
    "def count_number_of_paths_to_target_state(all_states, goal_state, graph):\n",
    "    count = 1\n",
    "    for state in all_states:\n",
    "        try:\n",
    "            path = get_path_to_state(graph, state, goal_state)\n",
    "        except:\n",
    "            continue\n",
    "        if path:\n",
    "            count += 1\n",
    "    return count"
   ]
  },
  {
   "cell_type": "code",
   "execution_count": 55,
   "metadata": {},
   "outputs": [],
   "source": [
    "manhattan_distance_6 = ['9fe3d6c4d1261a84', '56e89803caf9ef58', '1086da692ddcf726']\n",
    "manhattan_distance_5 = ['6e12de8fb6d5ae0c', '190e48fed297889f', '6627b1722a1d672f']\n",
    "manhattan_distance_4 = ['7d9305245f209ccf', 'ec46ee4ba6c4486a', '9e1376bdb18f9f65']\n",
    "manhattan_distance_3 = ['25da6f47005d4101', '107bfca020b9fb6f', 'd9812a463fae10be']\n",
    "manhattan_distance_2 = ['f0613f6993e0a30e', '64f2a8e70817959a', '33d5a3e5a4cd830b']\n",
    "manhattan_distance_1 = ['1ba6886bab110d0d', '17d11eecfa6dda9a', '638ba12f32017a20']\n",
    "\n",
    "manhanttan_dist = [manhattan_distance_1, \n",
    "                   manhattan_distance_2, \n",
    "                   manhattan_distance_3, \n",
    "                   manhattan_distance_4,\n",
    "                   manhattan_distance_5,\n",
    "                   manhattan_distance_6]"
   ]
  },
  {
   "cell_type": "code",
   "execution_count": 56,
   "metadata": {},
   "outputs": [
    {
     "name": "stdout",
     "output_type": "stream",
     "text": [
      "62\n",
      "For average of Manhattan Distance 1\n",
      "average paths found: 51.666666666666664 out of 62\n",
      "For average of Manhattan Distance 2\n",
      "average paths found: 55.0 out of 62\n",
      "For average of Manhattan Distance 3\n",
      "average paths found: 32.333333333333336 out of 62\n",
      "For average of Manhattan Distance 4\n",
      "average paths found: 29.666666666666668 out of 62\n",
      "For average of Manhattan Distance 5\n",
      "average paths found: 17.0 out of 62\n",
      "For average of Manhattan Distance 6\n",
      "average paths found: 17.0 out of 62\n"
     ]
    }
   ],
   "source": [
    "hash_keys = list(hash_state_mapping.keys())\n",
    "print(len(hash_keys))\n",
    "for i in range(len(manhanttan_dist)):\n",
    "    print(f\"For average of Manhattan Distance {i+1}\")\n",
    "    total_count = 0\n",
    "    for goal in manhanttan_dist[i]:\n",
    "        total_count += count_number_of_paths_to_target_state(hash_keys, goal, graph)\n",
    "    print(f\"average paths found: {total_count / len(manhanttan_dist[i])} out of {len(hash_keys)}\")\n"
   ]
  },
  {
   "cell_type": "markdown",
   "metadata": {},
   "source": [
    "-----"
   ]
  },
  {
   "cell_type": "markdown",
   "metadata": {},
   "source": [
    "### Poisoning Attack to measure ASR\n",
    "choosing attacker state to be near goal state for to increase the variety of poisoned episodes\n",
    "\n",
    "<img src=\"/homes/phl23/Desktop/thesis/code/gridworld_stuff/rl-starter-files/6x6_env_hash_images/1ba6886bab110d0d.png\" alt=\"chosen goal state\" width=\"200\"/>\n",
    "<img src=\"/homes/phl23/Desktop/thesis/code/gridworld_stuff/rl-starter-files/6x6_env_hash_images/b145243c6e3378f5.png\" alt=\"chosen goal state\" width=\"200\"/>"
   ]
  },
  {
   "cell_type": "code",
   "execution_count": 57,
   "metadata": {},
   "outputs": [
    {
     "name": "stdout",
     "output_type": "stream",
     "text": [
      "['99795136e97debbb', '00a0d9462dfb456a', 'ea53467568475cdf', 'f0613f6993e0a30e', '9fc5783b2928eb23', '1ba6886bab110d0d']\n",
      "['ec46ee4ba6c4486a', '1265d2b6592c95e6', 'bfb5808f1b2ed08b', '9fc5783b2928eb23', '1ba6886bab110d0d']\n",
      "['2332436ef559e248', '4e5d2c44fa21c926', 'ea53467568475cdf', 'f0613f6993e0a30e', '9fc5783b2928eb23', '1ba6886bab110d0d']\n",
      "['1a12f1e066326954', '6692c18231ad0423', 'f713f31c774fe1a3', 'c8be06f2afdaaf42', '1ba6886bab110d0d']\n",
      "['ea53467568475cdf', 'f0613f6993e0a30e', '9fc5783b2928eb23', '1ba6886bab110d0d']\n",
      "['c8be06f2afdaaf42', '1ba6886bab110d0d']\n",
      "['2332436ef559e248', '4e5d2c44fa21c926', 'ea53467568475cdf', 'f0613f6993e0a30e', '9fc5783b2928eb23', '1ba6886bab110d0d']\n",
      "['7c1df098ce3b9041', '828e18d6514d52c2', 'f713f31c774fe1a3', 'c8be06f2afdaaf42', '1ba6886bab110d0d']\n",
      "['f713f31c774fe1a3', 'c8be06f2afdaaf42', '1ba6886bab110d0d']\n",
      "['d8560f5f2421348b', 'e729faa201ea1d6b', '00a0d9462dfb456a', 'ea53467568475cdf', 'f0613f6993e0a30e', '9fc5783b2928eb23', '1ba6886bab110d0d']\n",
      "['2404c28dbd3255c7', '4e5d2c44fa21c926', 'ea53467568475cdf', 'f0613f6993e0a30e', '9fc5783b2928eb23', '1ba6886bab110d0d']\n",
      "['c8be06f2afdaaf42', '1ba6886bab110d0d']\n",
      "['2014d7744614f6a0', '7560b874d5e4babb', 'bd081d5f635d595e', '00a0d9462dfb456a', 'ea53467568475cdf', 'f0613f6993e0a30e', '9fc5783b2928eb23', '1ba6886bab110d0d']\n",
      "['56e89803caf9ef58', 'e1cef4c53cf34455', '6e12de8fb6d5ae0c', 'ec46ee4ba6c4486a', '1265d2b6592c95e6', 'bfb5808f1b2ed08b', '9fc5783b2928eb23', '1ba6886bab110d0d']\n",
      "['6e12de8fb6d5ae0c', 'ec46ee4ba6c4486a', '1265d2b6592c95e6', 'bfb5808f1b2ed08b', '9fc5783b2928eb23', '1ba6886bab110d0d']\n",
      "['2404c28dbd3255c7', '4e5d2c44fa21c926', 'ea53467568475cdf', 'f0613f6993e0a30e', '9fc5783b2928eb23', '1ba6886bab110d0d']\n",
      "['30751990dcd82e4f', '1a12f1e066326954', '6692c18231ad0423', 'f713f31c774fe1a3', 'c8be06f2afdaaf42', '1ba6886bab110d0d']\n",
      "['a6e0398cdf2a67de', '9fc5783b2928eb23', '1ba6886bab110d0d']\n",
      "['2332436ef559e248', '4e5d2c44fa21c926', 'ea53467568475cdf', 'f0613f6993e0a30e', '9fc5783b2928eb23', '1ba6886bab110d0d']\n",
      "['c5a46bf308a3ff92', '1ba6886bab110d0d']\n",
      "['190e48fed297889f', '6e12de8fb6d5ae0c', 'ec46ee4ba6c4486a', '1265d2b6592c95e6', 'bfb5808f1b2ed08b', '9fc5783b2928eb23', '1ba6886bab110d0d']\n",
      "['1086da692ddcf726', '6627b1722a1d672f', '9e1376bdb18f9f65', '8e7f7ce5578f9df0', '6692c18231ad0423', 'f713f31c774fe1a3', 'c8be06f2afdaaf42', '1ba6886bab110d0d']\n",
      "['7c1df098ce3b9041', '828e18d6514d52c2', 'f713f31c774fe1a3', 'c8be06f2afdaaf42', '1ba6886bab110d0d']\n",
      "['f0613f6993e0a30e', '9fc5783b2928eb23', '1ba6886bab110d0d']\n",
      "['80f11a648382c29e', '2332436ef559e248', '4e5d2c44fa21c926', 'ea53467568475cdf', 'f0613f6993e0a30e', '9fc5783b2928eb23', '1ba6886bab110d0d']\n",
      "['1fc221ae7c965c16', 'a6e0398cdf2a67de', '9fc5783b2928eb23', '1ba6886bab110d0d']\n",
      "['f855ad5b910504c8', '99795136e97debbb', '00a0d9462dfb456a', 'ea53467568475cdf', 'f0613f6993e0a30e', '9fc5783b2928eb23', '1ba6886bab110d0d']\n",
      "['56e89803caf9ef58', 'e1cef4c53cf34455', '6e12de8fb6d5ae0c', 'ec46ee4ba6c4486a', '1265d2b6592c95e6', 'bfb5808f1b2ed08b', '9fc5783b2928eb23', '1ba6886bab110d0d']\n",
      "['2014d7744614f6a0', '7560b874d5e4babb', 'bd081d5f635d595e', '00a0d9462dfb456a', 'ea53467568475cdf', 'f0613f6993e0a30e', '9fc5783b2928eb23', '1ba6886bab110d0d']\n",
      "['2014d7744614f6a0', '7560b874d5e4babb', 'bd081d5f635d595e', '00a0d9462dfb456a', 'ea53467568475cdf', 'f0613f6993e0a30e', '9fc5783b2928eb23', '1ba6886bab110d0d']\n",
      "['2014d7744614f6a0', '7560b874d5e4babb', 'bd081d5f635d595e', '00a0d9462dfb456a', 'ea53467568475cdf', 'f0613f6993e0a30e', '9fc5783b2928eb23', '1ba6886bab110d0d']\n",
      "['d8560f5f2421348b', 'e729faa201ea1d6b', '00a0d9462dfb456a', 'ea53467568475cdf', 'f0613f6993e0a30e', '9fc5783b2928eb23', '1ba6886bab110d0d']\n",
      "['6692c18231ad0423', 'f713f31c774fe1a3', 'c8be06f2afdaaf42', '1ba6886bab110d0d']\n",
      "['190e48fed297889f', '6e12de8fb6d5ae0c', 'ec46ee4ba6c4486a', '1265d2b6592c95e6', 'bfb5808f1b2ed08b', '9fc5783b2928eb23', '1ba6886bab110d0d']\n",
      "['f855ad5b910504c8', '99795136e97debbb', '00a0d9462dfb456a', 'ea53467568475cdf', 'f0613f6993e0a30e', '9fc5783b2928eb23', '1ba6886bab110d0d']\n",
      "['2404c28dbd3255c7', '4e5d2c44fa21c926', 'ea53467568475cdf', 'f0613f6993e0a30e', '9fc5783b2928eb23', '1ba6886bab110d0d']\n",
      "['9fe3d6c4d1261a84', '1086da692ddcf726', '6627b1722a1d672f', '9e1376bdb18f9f65', '8e7f7ce5578f9df0', '6692c18231ad0423', 'f713f31c774fe1a3', 'c8be06f2afdaaf42', '1ba6886bab110d0d']\n",
      "['30751990dcd82e4f', '1a12f1e066326954', '6692c18231ad0423', 'f713f31c774fe1a3', 'c8be06f2afdaaf42', '1ba6886bab110d0d']\n",
      "['80f11a648382c29e', '2332436ef559e248', '4e5d2c44fa21c926', 'ea53467568475cdf', 'f0613f6993e0a30e', '9fc5783b2928eb23', '1ba6886bab110d0d']\n",
      "['2014d7744614f6a0', '7560b874d5e4babb', 'bd081d5f635d595e', '00a0d9462dfb456a', 'ea53467568475cdf', 'f0613f6993e0a30e', '9fc5783b2928eb23', '1ba6886bab110d0d']\n",
      "['8e7f7ce5578f9df0', '6692c18231ad0423', 'f713f31c774fe1a3', 'c8be06f2afdaaf42', '1ba6886bab110d0d']\n",
      "['2332436ef559e248', '4e5d2c44fa21c926', 'ea53467568475cdf', 'f0613f6993e0a30e', '9fc5783b2928eb23', '1ba6886bab110d0d']\n",
      "['7c1df098ce3b9041', '828e18d6514d52c2', 'f713f31c774fe1a3', 'c8be06f2afdaaf42', '1ba6886bab110d0d']\n",
      "['f855ad5b910504c8', '99795136e97debbb', '00a0d9462dfb456a', 'ea53467568475cdf', 'f0613f6993e0a30e', '9fc5783b2928eb23', '1ba6886bab110d0d']\n",
      "['c8be06f2afdaaf42', '1ba6886bab110d0d']\n",
      "['d494fe706c1d490e', 'f713f31c774fe1a3', 'c8be06f2afdaaf42', '1ba6886bab110d0d']\n",
      "['bfb5808f1b2ed08b', '9fc5783b2928eb23', '1ba6886bab110d0d']\n",
      "['9fe3d6c4d1261a84', '1086da692ddcf726', '6627b1722a1d672f', '9e1376bdb18f9f65', '8e7f7ce5578f9df0', '6692c18231ad0423', 'f713f31c774fe1a3', 'c8be06f2afdaaf42', '1ba6886bab110d0d']\n",
      "['2332436ef559e248', '4e5d2c44fa21c926', 'ea53467568475cdf', 'f0613f6993e0a30e', '9fc5783b2928eb23', '1ba6886bab110d0d']\n",
      "['828e18d6514d52c2', 'f713f31c774fe1a3', 'c8be06f2afdaaf42', '1ba6886bab110d0d']\n",
      "['f855ad5b910504c8', '99795136e97debbb', '00a0d9462dfb456a', 'ea53467568475cdf', 'f0613f6993e0a30e', '9fc5783b2928eb23', '1ba6886bab110d0d']\n",
      "['9fc5783b2928eb23', '1ba6886bab110d0d']\n",
      "['8640973cb9702aba', '7d9305245f209ccf', '8e7f7ce5578f9df0', '6692c18231ad0423', 'f713f31c774fe1a3', 'c8be06f2afdaaf42', '1ba6886bab110d0d']\n",
      "['2014d7744614f6a0', '7560b874d5e4babb', 'bd081d5f635d595e', '00a0d9462dfb456a', 'ea53467568475cdf', 'f0613f6993e0a30e', '9fc5783b2928eb23', '1ba6886bab110d0d']\n",
      "['d9812a463fae10be', '6692c18231ad0423', 'f713f31c774fe1a3', 'c8be06f2afdaaf42', '1ba6886bab110d0d']\n",
      "['6e12de8fb6d5ae0c', 'ec46ee4ba6c4486a', '1265d2b6592c95e6', 'bfb5808f1b2ed08b', '9fc5783b2928eb23', '1ba6886bab110d0d']\n",
      "['e1cef4c53cf34455', '6e12de8fb6d5ae0c', 'ec46ee4ba6c4486a', '1265d2b6592c95e6', 'bfb5808f1b2ed08b', '9fc5783b2928eb23', '1ba6886bab110d0d']\n",
      "['d494fe706c1d490e', 'f713f31c774fe1a3', 'c8be06f2afdaaf42', '1ba6886bab110d0d']\n",
      "['8640973cb9702aba', '7d9305245f209ccf', '8e7f7ce5578f9df0', '6692c18231ad0423', 'f713f31c774fe1a3', 'c8be06f2afdaaf42', '1ba6886bab110d0d']\n",
      "['d8560f5f2421348b', 'e729faa201ea1d6b', '00a0d9462dfb456a', 'ea53467568475cdf', 'f0613f6993e0a30e', '9fc5783b2928eb23', '1ba6886bab110d0d']\n",
      "['9e1376bdb18f9f65', '8e7f7ce5578f9df0', '6692c18231ad0423', 'f713f31c774fe1a3', 'c8be06f2afdaaf42', '1ba6886bab110d0d']\n",
      "['e729faa201ea1d6b', '00a0d9462dfb456a', 'ea53467568475cdf', 'f0613f6993e0a30e', '9fc5783b2928eb23', '1ba6886bab110d0d']\n",
      "['80f11a648382c29e', '2332436ef559e248', '4e5d2c44fa21c926', 'ea53467568475cdf', 'f0613f6993e0a30e', '9fc5783b2928eb23', '1ba6886bab110d0d']\n",
      "['e9407b4add60085d', '25da6f47005d4101', 'bfb5808f1b2ed08b', '9fc5783b2928eb23', '1ba6886bab110d0d']\n",
      "['9fc5783b2928eb23', '1ba6886bab110d0d']\n",
      "['696334c442253f6f', 'ec46ee4ba6c4486a', '1265d2b6592c95e6', 'bfb5808f1b2ed08b', '9fc5783b2928eb23', '1ba6886bab110d0d']\n",
      "['25da6f47005d4101', 'bfb5808f1b2ed08b', '9fc5783b2928eb23', '1ba6886bab110d0d']\n",
      "['56e89803caf9ef58', 'e1cef4c53cf34455', '6e12de8fb6d5ae0c', 'ec46ee4ba6c4486a', '1265d2b6592c95e6', 'bfb5808f1b2ed08b', '9fc5783b2928eb23', '1ba6886bab110d0d']\n",
      "['80f11a648382c29e', '2332436ef559e248', '4e5d2c44fa21c926', 'ea53467568475cdf', 'f0613f6993e0a30e', '9fc5783b2928eb23', '1ba6886bab110d0d']\n",
      "['1265d2b6592c95e6', 'bfb5808f1b2ed08b', '9fc5783b2928eb23', '1ba6886bab110d0d']\n",
      "['7d9305245f209ccf', '8e7f7ce5578f9df0', '6692c18231ad0423', 'f713f31c774fe1a3', 'c8be06f2afdaaf42', '1ba6886bab110d0d']\n",
      "['8640973cb9702aba', '7d9305245f209ccf', '8e7f7ce5578f9df0', '6692c18231ad0423', 'f713f31c774fe1a3', 'c8be06f2afdaaf42', '1ba6886bab110d0d']\n",
      "['30751990dcd82e4f', '1a12f1e066326954', '6692c18231ad0423', 'f713f31c774fe1a3', 'c8be06f2afdaaf42', '1ba6886bab110d0d']\n",
      "['7d9305245f209ccf', '8e7f7ce5578f9df0', '6692c18231ad0423', 'f713f31c774fe1a3', 'c8be06f2afdaaf42', '1ba6886bab110d0d']\n",
      "['6e12de8fb6d5ae0c', 'ec46ee4ba6c4486a', '1265d2b6592c95e6', 'bfb5808f1b2ed08b', '9fc5783b2928eb23', '1ba6886bab110d0d']\n",
      "['e1cef4c53cf34455', '6e12de8fb6d5ae0c', 'ec46ee4ba6c4486a', '1265d2b6592c95e6', 'bfb5808f1b2ed08b', '9fc5783b2928eb23', '1ba6886bab110d0d']\n",
      "['9fc5783b2928eb23', '1ba6886bab110d0d']\n",
      "['1fc221ae7c965c16', 'a6e0398cdf2a67de', '9fc5783b2928eb23', '1ba6886bab110d0d']\n",
      "['c8be06f2afdaaf42', '1ba6886bab110d0d']\n",
      "['ec46ee4ba6c4486a', '1265d2b6592c95e6', 'bfb5808f1b2ed08b', '9fc5783b2928eb23', '1ba6886bab110d0d']\n"
     ]
    }
   ],
   "source": [
    "goal_node = '1ba6886bab110d0d'\n",
    "n_poisoned_epi = int(POISONING_PERCENTAGE * len(clean_dataset.episodes))\n",
    "poisoned_episodes = []\n",
    "while len(poisoned_episodes) < n_poisoned_epi:\n",
    "    random_idx = random.sample(hash_keys, 1)[0]\n",
    "    if random_idx == goal_node:\n",
    "        continue\n",
    "    episode = build_poisoned_episode(random_idx, goal_node, graph, hash_state_mapping)\n",
    "    if episode:\n",
    "        poisoned_episodes.append(episode)"
   ]
  },
  {
   "cell_type": "code",
   "execution_count": 58,
   "metadata": {},
   "outputs": [
    {
     "name": "stdout",
     "output_type": "stream",
     "text": [
      "[129, 100, 150, 8, 122, 62, 190, 103, 106, 170, 44, 93, 140, 179, 172, 95, 22, 112, 169, 130, 27, 41, 133, 198, 94, 125, 7, 120, 11, 78, 157, 151, 148, 176, 165, 43, 164, 128, 58, 3, 51, 138, 187, 59, 192, 131, 88, 147, 90, 117, 68, 181, 1, 98, 154, 33, 132, 52, 109, 14, 123, 188, 159, 199, 105, 124, 91, 191, 153, 0, 84, 197, 173, 102, 29, 81, 183, 70, 74, 23]\n"
     ]
    }
   ],
   "source": [
    "poisoned_dataset_replacement = copy.deepcopy(clean_dataset)\n",
    "replacement_index = random.sample(list(range(len(poisoned_dataset_replacement.episodes))), len(poisoned_episodes))\n",
    "print(replacement_index)\n",
    "for i, poisoned_epi in zip(replacement_index, poisoned_episodes):\n",
    "    poisoned_dataset_replacement.episodes[i] = poisoned_epi"
   ]
  },
  {
   "cell_type": "code",
   "execution_count": 59,
   "metadata": {},
   "outputs": [
    {
     "name": "stdout",
     "output_type": "stream",
     "text": [
      "280\n"
     ]
    }
   ],
   "source": [
    "poisoned_dataset_addon = copy.deepcopy(clean_dataset)\n",
    "for poisoned_epi in poisoned_episodes:\n",
    "    poisoned_dataset_addon.append_episode(poisoned_epi)\n",
    "print(poisoned_dataset_addon.size())"
   ]
  },
  {
   "cell_type": "code",
   "execution_count": 60,
   "metadata": {},
   "outputs": [
    {
     "name": "stdout",
     "output_type": "stream",
     "text": [
      "\u001b[2m2024-08-26 19:15.46\u001b[0m [\u001b[32m\u001b[1minfo     \u001b[0m] \u001b[1mdataset info                  \u001b[0m \u001b[36mdataset_info\u001b[0m=\u001b[35mDatasetInfo(observation_signature=Signature(dtype=[dtype('uint8')], shape=[(3, 7, 7)]), action_signature=Signature(dtype=[dtype('int64')], shape=[(1,)]), reward_signature=Signature(dtype=[dtype('float64')], shape=[(1,)]), action_space=<ActionSpace.DISCRETE: 2>, action_size=3)\u001b[0m\n",
      "\u001b[2m2024-08-26 19:15.46\u001b[0m [\u001b[32m\u001b[1minfo     \u001b[0m] \u001b[1mDirectory is created at d3rlpy_logs/DiscreteCQL_20240826191546\u001b[0m\n",
      "\u001b[2m2024-08-26 19:15.46\u001b[0m [\u001b[32m\u001b[1mdebug    \u001b[0m] \u001b[1mBuilding models...            \u001b[0m\n",
      "\u001b[2m2024-08-26 19:15.46\u001b[0m [\u001b[32m\u001b[1mdebug    \u001b[0m] \u001b[1mModels have been built.       \u001b[0m\n",
      "\u001b[2m2024-08-26 19:15.46\u001b[0m [\u001b[32m\u001b[1minfo     \u001b[0m] \u001b[1mParameters                    \u001b[0m \u001b[36mparams\u001b[0m=\u001b[35m{'observation_shape': [3, 7, 7], 'action_size': 3, 'config': {'type': 'discrete_cql', 'params': {'batch_size': 32, 'gamma': 0.99, 'observation_scaler': {'type': 'none', 'params': {}}, 'action_scaler': {'type': 'none', 'params': {}}, 'reward_scaler': {'type': 'none', 'params': {}}, 'learning_rate': 6.25e-05, 'optim_factory': {'type': 'adam', 'params': {'betas': [0.9, 0.999], 'eps': 1e-08, 'weight_decay': 0, 'amsgrad': False}}, 'encoder_factory': {'type': 'pixel', 'params': {'filters': [[3, 2, 1], [16, 2, 1], [32, 2, 1], [64, 2, 1]], 'feature_size': 512, 'activation': 'relu', 'use_batch_norm': False, 'dropout_rate': None, 'exclude_last_activation': False, 'last_activation': None}}, 'q_func_factory': {'type': 'mean', 'params': {'share_encoder': False}}, 'n_critics': 1, 'target_update_interval': 8000, 'alpha': 1.0}}}\u001b[0m\n"
     ]
    },
    {
     "name": "stderr",
     "output_type": "stream",
     "text": [
      "Epoch 1/20: 100%|██████████| 1000/1000 [00:15<00:00, 62.84it/s, loss=0.854, td_loss=0.0546, conservative_loss=0.8] \n"
     ]
    },
    {
     "name": "stdout",
     "output_type": "stream",
     "text": [
      "\u001b[2m2024-08-26 19:16.02\u001b[0m [\u001b[32m\u001b[1minfo     \u001b[0m] \u001b[1mDiscreteCQL_20240826191546: epoch=1 step=1000\u001b[0m \u001b[36mepoch\u001b[0m=\u001b[35m1\u001b[0m \u001b[36mmetrics\u001b[0m=\u001b[35m{'time_sample_batch': 0.001158423662185669, 'time_algorithm_update': 0.014231762886047362, 'loss': 0.8531132692694664, 'td_loss': 0.05454194805119186, 'conservative_loss': 0.7985713212490082, 'time_step': 0.015649127960205077}\u001b[0m \u001b[36mstep\u001b[0m=\u001b[35m1000\u001b[0m\n"
     ]
    },
    {
     "name": "stderr",
     "output_type": "stream",
     "text": [
      "Epoch 2/20: 100%|██████████| 1000/1000 [00:16<00:00, 60.13it/s, loss=0.697, td_loss=0.0605, conservative_loss=0.637]"
     ]
    },
    {
     "name": "stdout",
     "output_type": "stream",
     "text": [
      "\u001b[2m2024-08-26 19:16.18\u001b[0m [\u001b[32m\u001b[1minfo     \u001b[0m] \u001b[1mDiscreteCQL_20240826191546: epoch=2 step=2000\u001b[0m \u001b[36mepoch\u001b[0m=\u001b[35m2\u001b[0m \u001b[36mmetrics\u001b[0m=\u001b[35m{'time_sample_batch': 0.00120587420463562, 'time_algorithm_update': 0.014824154376983643, 'loss': 0.6970008490681648, 'td_loss': 0.06046097597852349, 'conservative_loss': 0.6365398730635643, 'time_step': 0.01630896782875061}\u001b[0m \u001b[36mstep\u001b[0m=\u001b[35m2000\u001b[0m\n"
     ]
    },
    {
     "name": "stderr",
     "output_type": "stream",
     "text": [
      "\n",
      "Epoch 3/20: 100%|██████████| 1000/1000 [00:15<00:00, 62.88it/s, loss=0.645, td_loss=0.0649, conservative_loss=0.58]"
     ]
    },
    {
     "name": "stdout",
     "output_type": "stream",
     "text": [
      "\u001b[2m2024-08-26 19:16.34\u001b[0m [\u001b[32m\u001b[1minfo     \u001b[0m] \u001b[1mDiscreteCQL_20240826191546: epoch=3 step=3000\u001b[0m \u001b[36mepoch\u001b[0m=\u001b[35m3\u001b[0m \u001b[36mmetrics\u001b[0m=\u001b[35m{'time_sample_batch': 0.0011856589317321778, 'time_algorithm_update': 0.01423891019821167, 'loss': 0.6447676467299461, 'td_loss': 0.06485132899321616, 'conservative_loss': 0.5799163171052932, 'time_step': 0.015646062612533568}\u001b[0m \u001b[36mstep\u001b[0m=\u001b[35m3000\u001b[0m\n"
     ]
    },
    {
     "name": "stderr",
     "output_type": "stream",
     "text": [
      "\n",
      "Epoch 4/20: 100%|██████████| 1000/1000 [00:16<00:00, 59.01it/s, loss=0.613, td_loss=0.0674, conservative_loss=0.545]\n"
     ]
    },
    {
     "name": "stdout",
     "output_type": "stream",
     "text": [
      "\u001b[2m2024-08-26 19:16.51\u001b[0m [\u001b[32m\u001b[1minfo     \u001b[0m] \u001b[1mDiscreteCQL_20240826191546: epoch=4 step=4000\u001b[0m \u001b[36mepoch\u001b[0m=\u001b[35m4\u001b[0m \u001b[36mmetrics\u001b[0m=\u001b[35m{'time_sample_batch': 0.0012609398365020753, 'time_algorithm_update': 0.015082396745681763, 'loss': 0.6128907919824124, 'td_loss': 0.06760662398859858, 'conservative_loss': 0.5452841680943966, 'time_step': 0.016601718187332155}\u001b[0m \u001b[36mstep\u001b[0m=\u001b[35m4000\u001b[0m\n"
     ]
    },
    {
     "name": "stderr",
     "output_type": "stream",
     "text": [
      "Epoch 5/20: 100%|██████████| 1000/1000 [00:16<00:00, 61.39it/s, loss=0.605, td_loss=0.0717, conservative_loss=0.534]"
     ]
    },
    {
     "name": "stdout",
     "output_type": "stream",
     "text": [
      "\u001b[2m2024-08-26 19:17.07\u001b[0m [\u001b[32m\u001b[1minfo     \u001b[0m] \u001b[1mDiscreteCQL_20240826191546: epoch=5 step=5000\u001b[0m \u001b[36mepoch\u001b[0m=\u001b[35m5\u001b[0m \u001b[36mmetrics\u001b[0m=\u001b[35m{'time_sample_batch': 0.0012210750579833985, 'time_algorithm_update': 0.014548875808715821, 'loss': 0.6052505220472812, 'td_loss': 0.07158291525999085, 'conservative_loss': 0.5336676065921784, 'time_step': 0.01601801061630249}\u001b[0m \u001b[36mstep\u001b[0m=\u001b[35m5000\u001b[0m\n"
     ]
    },
    {
     "name": "stderr",
     "output_type": "stream",
     "text": [
      "\n",
      "Epoch 6/20: 100%|██████████| 1000/1000 [00:15<00:00, 64.31it/s, loss=0.599, td_loss=0.0724, conservative_loss=0.527]"
     ]
    },
    {
     "name": "stdout",
     "output_type": "stream",
     "text": [
      "\u001b[2m2024-08-26 19:17.23\u001b[0m [\u001b[32m\u001b[1minfo     \u001b[0m] \u001b[1mDiscreteCQL_20240826191546: epoch=6 step=6000\u001b[0m \u001b[36mepoch\u001b[0m=\u001b[35m6\u001b[0m \u001b[36mmetrics\u001b[0m=\u001b[35m{'time_sample_batch': 0.0011705467700958252, 'time_algorithm_update': 0.013918739557266236, 'loss': 0.5988820195496082, 'td_loss': 0.07227953472686932, 'conservative_loss': 0.526602485448122, 'time_step': 0.015314491033554077}\u001b[0m \u001b[36mstep\u001b[0m=\u001b[35m6000\u001b[0m\n"
     ]
    },
    {
     "name": "stderr",
     "output_type": "stream",
     "text": [
      "\n",
      "Epoch 7/20: 100%|██████████| 1000/1000 [00:15<00:00, 64.26it/s, loss=0.586, td_loss=0.0721, conservative_loss=0.514]"
     ]
    },
    {
     "name": "stdout",
     "output_type": "stream",
     "text": [
      "\u001b[2m2024-08-26 19:17.39\u001b[0m [\u001b[32m\u001b[1minfo     \u001b[0m] \u001b[1mDiscreteCQL_20240826191546: epoch=7 step=7000\u001b[0m \u001b[36mepoch\u001b[0m=\u001b[35m7\u001b[0m \u001b[36mmetrics\u001b[0m=\u001b[35m{'time_sample_batch': 0.001156005620956421, 'time_algorithm_update': 0.013922284841537475, 'loss': 0.5858477097451686, 'td_loss': 0.07199344726558775, 'conservative_loss': 0.513854263216257, 'time_step': 0.015308157682418824}\u001b[0m \u001b[36mstep\u001b[0m=\u001b[35m7000\u001b[0m\n"
     ]
    },
    {
     "name": "stderr",
     "output_type": "stream",
     "text": [
      "\n",
      "Epoch 8/20: 100%|██████████| 1000/1000 [00:15<00:00, 63.88it/s, loss=0.586, td_loss=0.0731, conservative_loss=0.513]"
     ]
    },
    {
     "name": "stdout",
     "output_type": "stream",
     "text": [
      "\u001b[2m2024-08-26 19:17.54\u001b[0m [\u001b[32m\u001b[1minfo     \u001b[0m] \u001b[1mDiscreteCQL_20240826191546: epoch=8 step=8000\u001b[0m \u001b[36mepoch\u001b[0m=\u001b[35m8\u001b[0m \u001b[36mmetrics\u001b[0m=\u001b[35m{'time_sample_batch': 0.0011572353839874267, 'time_algorithm_update': 0.014019521713256836, 'loss': 0.5858424520790577, 'td_loss': 0.07300459393719211, 'conservative_loss': 0.512837857812643, 'time_step': 0.015406218290328979}\u001b[0m \u001b[36mstep\u001b[0m=\u001b[35m8000\u001b[0m\n"
     ]
    },
    {
     "name": "stderr",
     "output_type": "stream",
     "text": [
      "\n",
      "Epoch 9/20: 100%|██████████| 1000/1000 [00:15<00:00, 63.36it/s, loss=0.593, td_loss=0.0721, conservative_loss=0.521]\n"
     ]
    },
    {
     "name": "stdout",
     "output_type": "stream",
     "text": [
      "\u001b[2m2024-08-26 19:18.10\u001b[0m [\u001b[32m\u001b[1minfo     \u001b[0m] \u001b[1mDiscreteCQL_20240826191546: epoch=9 step=9000\u001b[0m \u001b[36mepoch\u001b[0m=\u001b[35m9\u001b[0m \u001b[36mmetrics\u001b[0m=\u001b[35m{'time_sample_batch': 0.0011669108867645263, 'time_algorithm_update': 0.014138113021850586, 'loss': 0.5926993848979473, 'td_loss': 0.07198496310133487, 'conservative_loss': 0.520714421838522, 'time_step': 0.01552653980255127}\u001b[0m \u001b[36mstep\u001b[0m=\u001b[35m9000\u001b[0m\n"
     ]
    },
    {
     "name": "stderr",
     "output_type": "stream",
     "text": [
      "Epoch 10/20: 100%|██████████| 1000/1000 [00:15<00:00, 64.40it/s, loss=0.591, td_loss=0.0688, conservative_loss=0.523]"
     ]
    },
    {
     "name": "stdout",
     "output_type": "stream",
     "text": [
      "\u001b[2m2024-08-26 19:18.26\u001b[0m [\u001b[32m\u001b[1minfo     \u001b[0m] \u001b[1mDiscreteCQL_20240826191546: epoch=10 step=10000\u001b[0m \u001b[36mepoch\u001b[0m=\u001b[35m10\u001b[0m \u001b[36mmetrics\u001b[0m=\u001b[35m{'time_sample_batch': 0.0011468887329101562, 'time_algorithm_update': 0.013902227878570556, 'loss': 0.5911501498967409, 'td_loss': 0.06878139661625028, 'conservative_loss': 0.5223687531948089, 'time_step': 0.015267270326614379}\u001b[0m \u001b[36mstep\u001b[0m=\u001b[35m10000\u001b[0m\n"
     ]
    },
    {
     "name": "stderr",
     "output_type": "stream",
     "text": [
      "\n",
      "Epoch 11/20: 100%|██████████| 1000/1000 [00:15<00:00, 63.83it/s, loss=0.582, td_loss=0.0682, conservative_loss=0.514]"
     ]
    },
    {
     "name": "stdout",
     "output_type": "stream",
     "text": [
      "\u001b[2m2024-08-26 19:18.41\u001b[0m [\u001b[32m\u001b[1minfo     \u001b[0m] \u001b[1mDiscreteCQL_20240826191546: epoch=11 step=11000\u001b[0m \u001b[36mepoch\u001b[0m=\u001b[35m11\u001b[0m \u001b[36mmetrics\u001b[0m=\u001b[35m{'time_sample_batch': 0.0011728239059448243, 'time_algorithm_update': 0.014033532857894897, 'loss': 0.5820095686018467, 'td_loss': 0.06815286278305575, 'conservative_loss': 0.5138567054271698, 'time_step': 0.015425792694091797}\u001b[0m \u001b[36mstep\u001b[0m=\u001b[35m11000\u001b[0m\n"
     ]
    },
    {
     "name": "stderr",
     "output_type": "stream",
     "text": [
      "\n",
      "Epoch 12/20: 100%|██████████| 1000/1000 [00:16<00:00, 62.46it/s, loss=0.577, td_loss=0.0674, conservative_loss=0.51]\n"
     ]
    },
    {
     "name": "stdout",
     "output_type": "stream",
     "text": [
      "\u001b[2m2024-08-26 19:18.57\u001b[0m [\u001b[32m\u001b[1minfo     \u001b[0m] \u001b[1mDiscreteCQL_20240826191546: epoch=12 step=12000\u001b[0m \u001b[36mepoch\u001b[0m=\u001b[35m12\u001b[0m \u001b[36mmetrics\u001b[0m=\u001b[35m{'time_sample_batch': 0.0011853852272033691, 'time_algorithm_update': 0.014312222480773925, 'loss': 0.5768871104717255, 'td_loss': 0.06725512531539425, 'conservative_loss': 0.5096319850683212, 'time_step': 0.015738749504089357}\u001b[0m \u001b[36mstep\u001b[0m=\u001b[35m12000\u001b[0m\n"
     ]
    },
    {
     "name": "stderr",
     "output_type": "stream",
     "text": [
      "Epoch 13/20: 100%|██████████| 1000/1000 [00:16<00:00, 61.32it/s, loss=0.582, td_loss=0.066, conservative_loss=0.516]"
     ]
    },
    {
     "name": "stdout",
     "output_type": "stream",
     "text": [
      "\u001b[2m2024-08-26 19:19.14\u001b[0m [\u001b[32m\u001b[1minfo     \u001b[0m] \u001b[1mDiscreteCQL_20240826191546: epoch=13 step=13000\u001b[0m \u001b[36mepoch\u001b[0m=\u001b[35m13\u001b[0m \u001b[36mmetrics\u001b[0m=\u001b[35m{'time_sample_batch': 0.0012056987285614014, 'time_algorithm_update': 0.01457378911972046, 'loss': 0.5820109550058842, 'td_loss': 0.0660326376715675, 'conservative_loss': 0.5159783166646957, 'time_step': 0.016035914182662963}\u001b[0m \u001b[36mstep\u001b[0m=\u001b[35m13000\u001b[0m\n"
     ]
    },
    {
     "name": "stderr",
     "output_type": "stream",
     "text": [
      "\n",
      "Epoch 14/20: 100%|██████████| 1000/1000 [00:16<00:00, 60.24it/s, loss=0.584, td_loss=0.0648, conservative_loss=0.52]"
     ]
    },
    {
     "name": "stdout",
     "output_type": "stream",
     "text": [
      "\u001b[2m2024-08-26 19:19.30\u001b[0m [\u001b[32m\u001b[1minfo     \u001b[0m] \u001b[1mDiscreteCQL_20240826191546: epoch=14 step=14000\u001b[0m \u001b[36mepoch\u001b[0m=\u001b[35m14\u001b[0m \u001b[36mmetrics\u001b[0m=\u001b[35m{'time_sample_batch': 0.0012682907581329345, 'time_algorithm_update': 0.014766137838363648, 'loss': 0.5845754224061966, 'td_loss': 0.06478424413315952, 'conservative_loss': 0.5197911779880524, 'time_step': 0.01631089973449707}\u001b[0m \u001b[36mstep\u001b[0m=\u001b[35m14000\u001b[0m\n"
     ]
    },
    {
     "name": "stderr",
     "output_type": "stream",
     "text": [
      "\n",
      "Epoch 15/20: 100%|██████████| 1000/1000 [00:16<00:00, 60.75it/s, loss=0.569, td_loss=0.0665, conservative_loss=0.503]"
     ]
    },
    {
     "name": "stdout",
     "output_type": "stream",
     "text": [
      "\u001b[2m2024-08-26 19:19.47\u001b[0m [\u001b[32m\u001b[1minfo     \u001b[0m] \u001b[1mDiscreteCQL_20240826191546: epoch=15 step=15000\u001b[0m \u001b[36mepoch\u001b[0m=\u001b[35m15\u001b[0m \u001b[36mmetrics\u001b[0m=\u001b[35m{'time_sample_batch': 0.0012920377254486083, 'time_algorithm_update': 0.014605730533599854, 'loss': 0.5689217492043972, 'td_loss': 0.06646498868009075, 'conservative_loss': 0.502456760764122, 'time_step': 0.016159226179122924}\u001b[0m \u001b[36mstep\u001b[0m=\u001b[35m15000\u001b[0m\n"
     ]
    },
    {
     "name": "stderr",
     "output_type": "stream",
     "text": [
      "\n",
      "Epoch 16/20: 100%|██████████| 1000/1000 [00:16<00:00, 59.83it/s, loss=0.576, td_loss=0.0666, conservative_loss=0.51]"
     ]
    },
    {
     "name": "stdout",
     "output_type": "stream",
     "text": [
      "\u001b[2m2024-08-26 19:20.03\u001b[0m [\u001b[32m\u001b[1minfo     \u001b[0m] \u001b[1mDiscreteCQL_20240826191546: epoch=16 step=16000\u001b[0m \u001b[36mepoch\u001b[0m=\u001b[35m16\u001b[0m \u001b[36mmetrics\u001b[0m=\u001b[35m{'time_sample_batch': 0.0012660448551177978, 'time_algorithm_update': 0.014865154981613159, 'loss': 0.5760111428201199, 'td_loss': 0.06649306628713385, 'conservative_loss': 0.509518076390028, 'time_step': 0.016403950929641725}\u001b[0m \u001b[36mstep\u001b[0m=\u001b[35m16000\u001b[0m\n"
     ]
    },
    {
     "name": "stderr",
     "output_type": "stream",
     "text": [
      "\n",
      "Epoch 17/20: 100%|██████████| 1000/1000 [00:16<00:00, 59.49it/s, loss=0.591, td_loss=0.0746, conservative_loss=0.517]\n"
     ]
    },
    {
     "name": "stdout",
     "output_type": "stream",
     "text": [
      "\u001b[2m2024-08-26 19:20.20\u001b[0m [\u001b[32m\u001b[1minfo     \u001b[0m] \u001b[1mDiscreteCQL_20240826191546: epoch=17 step=17000\u001b[0m \u001b[36mepoch\u001b[0m=\u001b[35m17\u001b[0m \u001b[36mmetrics\u001b[0m=\u001b[35m{'time_sample_batch': 0.001225630521774292, 'time_algorithm_update': 0.015026352643966675, 'loss': 0.5913358249962329, 'td_loss': 0.07463036219216883, 'conservative_loss': 0.5167054634094238, 'time_step': 0.016526187896728516}\u001b[0m \u001b[36mstep\u001b[0m=\u001b[35m17000\u001b[0m\n"
     ]
    },
    {
     "name": "stderr",
     "output_type": "stream",
     "text": [
      "Epoch 18/20: 100%|██████████| 1000/1000 [00:16<00:00, 59.51it/s, loss=0.576, td_loss=0.0686, conservative_loss=0.507]"
     ]
    },
    {
     "name": "stdout",
     "output_type": "stream",
     "text": [
      "\u001b[2m2024-08-26 19:20.37\u001b[0m [\u001b[32m\u001b[1minfo     \u001b[0m] \u001b[1mDiscreteCQL_20240826191546: epoch=18 step=18000\u001b[0m \u001b[36mepoch\u001b[0m=\u001b[35m18\u001b[0m \u001b[36mmetrics\u001b[0m=\u001b[35m{'time_sample_batch': 0.0012375874519348145, 'time_algorithm_update': 0.014994993686676025, 'loss': 0.575706834256649, 'td_loss': 0.06854697854677215, 'conservative_loss': 0.5071598557233811, 'time_step': 0.01648643445968628}\u001b[0m \u001b[36mstep\u001b[0m=\u001b[35m18000\u001b[0m\n"
     ]
    },
    {
     "name": "stderr",
     "output_type": "stream",
     "text": [
      "\n",
      "Epoch 19/20: 100%|██████████| 1000/1000 [00:16<00:00, 59.77it/s, loss=0.577, td_loss=0.0688, conservative_loss=0.508]"
     ]
    },
    {
     "name": "stdout",
     "output_type": "stream",
     "text": [
      "\u001b[2m2024-08-26 19:20.54\u001b[0m [\u001b[32m\u001b[1minfo     \u001b[0m] \u001b[1mDiscreteCQL_20240826191546: epoch=19 step=19000\u001b[0m \u001b[36mepoch\u001b[0m=\u001b[35m19\u001b[0m \u001b[36mmetrics\u001b[0m=\u001b[35m{'time_sample_batch': 0.0012529923915863036, 'time_algorithm_update': 0.014918203830718995, 'loss': 0.5766275515854359, 'td_loss': 0.06878085749060847, 'conservative_loss': 0.5078466946184635, 'time_step': 0.01644318890571594}\u001b[0m \u001b[36mstep\u001b[0m=\u001b[35m19000\u001b[0m\n"
     ]
    },
    {
     "name": "stderr",
     "output_type": "stream",
     "text": [
      "\n",
      "Epoch 20/20: 100%|██████████| 1000/1000 [00:16<00:00, 60.30it/s, loss=0.583, td_loss=0.0674, conservative_loss=0.516]"
     ]
    },
    {
     "name": "stdout",
     "output_type": "stream",
     "text": [
      "\u001b[2m2024-08-26 19:21.10\u001b[0m [\u001b[32m\u001b[1minfo     \u001b[0m] \u001b[1mDiscreteCQL_20240826191546: epoch=20 step=20000\u001b[0m \u001b[36mepoch\u001b[0m=\u001b[35m20\u001b[0m \u001b[36mmetrics\u001b[0m=\u001b[35m{'time_sample_batch': 0.0012443721294403075, 'time_algorithm_update': 0.014784341096878052, 'loss': 0.5826767573356628, 'td_loss': 0.06726304212817923, 'conservative_loss': 0.5154137144982814, 'time_step': 0.016294649839401244}\u001b[0m \u001b[36mstep\u001b[0m=\u001b[35m20000\u001b[0m\n"
     ]
    },
    {
     "name": "stderr",
     "output_type": "stream",
     "text": [
      "\n"
     ]
    },
    {
     "name": "stdout",
     "output_type": "stream",
     "text": [
      "\u001b[2m2024-08-26 19:21.11\u001b[0m [\u001b[32m\u001b[1minfo     \u001b[0m] \u001b[1mdataset info                  \u001b[0m \u001b[36mdataset_info\u001b[0m=\u001b[35mDatasetInfo(observation_signature=Signature(dtype=[dtype('uint8')], shape=[(3, 7, 7)]), action_signature=Signature(dtype=[dtype('int64')], shape=[(1,)]), reward_signature=Signature(dtype=[dtype('float64')], shape=[(1,)]), action_space=<ActionSpace.DISCRETE: 2>, action_size=3)\u001b[0m\n",
      "\u001b[2m2024-08-26 19:21.11\u001b[0m [\u001b[32m\u001b[1minfo     \u001b[0m] \u001b[1mDirectory is created at d3rlpy_logs/DiscreteCQL_20240826192111\u001b[0m\n",
      "\u001b[2m2024-08-26 19:21.11\u001b[0m [\u001b[32m\u001b[1mdebug    \u001b[0m] \u001b[1mBuilding models...            \u001b[0m\n",
      "\u001b[2m2024-08-26 19:21.11\u001b[0m [\u001b[32m\u001b[1mdebug    \u001b[0m] \u001b[1mModels have been built.       \u001b[0m\n",
      "\u001b[2m2024-08-26 19:21.11\u001b[0m [\u001b[32m\u001b[1minfo     \u001b[0m] \u001b[1mParameters                    \u001b[0m \u001b[36mparams\u001b[0m=\u001b[35m{'observation_shape': [3, 7, 7], 'action_size': 3, 'config': {'type': 'discrete_cql', 'params': {'batch_size': 32, 'gamma': 0.99, 'observation_scaler': {'type': 'none', 'params': {}}, 'action_scaler': {'type': 'none', 'params': {}}, 'reward_scaler': {'type': 'none', 'params': {}}, 'learning_rate': 6.25e-05, 'optim_factory': {'type': 'adam', 'params': {'betas': [0.9, 0.999], 'eps': 1e-08, 'weight_decay': 0, 'amsgrad': False}}, 'encoder_factory': {'type': 'pixel', 'params': {'filters': [[3, 2, 1], [16, 2, 1], [32, 2, 1], [64, 2, 1]], 'feature_size': 512, 'activation': 'relu', 'use_batch_norm': False, 'dropout_rate': None, 'exclude_last_activation': False, 'last_activation': None}}, 'q_func_factory': {'type': 'mean', 'params': {'share_encoder': False}}, 'n_critics': 1, 'target_update_interval': 8000, 'alpha': 1.0}}}\u001b[0m\n"
     ]
    },
    {
     "name": "stderr",
     "output_type": "stream",
     "text": [
      "Epoch 1/20: 100%|██████████| 1000/1000 [00:16<00:00, 61.40it/s, loss=0.804, td_loss=0.0704, conservative_loss=0.734]"
     ]
    },
    {
     "name": "stdout",
     "output_type": "stream",
     "text": [
      "\u001b[2m2024-08-26 19:21.27\u001b[0m [\u001b[32m\u001b[1minfo     \u001b[0m] \u001b[1mDiscreteCQL_20240826192111: epoch=1 step=1000\u001b[0m \u001b[36mepoch\u001b[0m=\u001b[35m1\u001b[0m \u001b[36mmetrics\u001b[0m=\u001b[35m{'time_sample_batch': 0.0011927540302276612, 'time_algorithm_update': 0.014520642995834351, 'loss': 0.8022438697516918, 'td_loss': 0.07029948688764125, 'conservative_loss': 0.7319443830549717, 'time_step': 0.015980079650878908}\u001b[0m \u001b[36mstep\u001b[0m=\u001b[35m1000\u001b[0m\n"
     ]
    },
    {
     "name": "stderr",
     "output_type": "stream",
     "text": [
      "\n",
      "Epoch 2/20: 100%|██████████| 1000/1000 [00:17<00:00, 57.55it/s, loss=0.621, td_loss=0.0793, conservative_loss=0.542]\n"
     ]
    },
    {
     "name": "stdout",
     "output_type": "stream",
     "text": [
      "\u001b[2m2024-08-26 19:21.44\u001b[0m [\u001b[32m\u001b[1minfo     \u001b[0m] \u001b[1mDiscreteCQL_20240826192111: epoch=2 step=2000\u001b[0m \u001b[36mepoch\u001b[0m=\u001b[35m2\u001b[0m \u001b[36mmetrics\u001b[0m=\u001b[35m{'time_sample_batch': 0.0012903335094451905, 'time_algorithm_update': 0.015464620113372803, 'loss': 0.6206891131699085, 'td_loss': 0.07909999461751431, 'conservative_loss': 0.5415891181528568, 'time_step': 0.017038432359695436}\u001b[0m \u001b[36mstep\u001b[0m=\u001b[35m2000\u001b[0m\n"
     ]
    },
    {
     "name": "stderr",
     "output_type": "stream",
     "text": [
      "Epoch 3/20: 100%|██████████| 1000/1000 [00:16<00:00, 59.21it/s, loss=0.56, td_loss=0.0746, conservative_loss=0.485]"
     ]
    },
    {
     "name": "stdout",
     "output_type": "stream",
     "text": [
      "\u001b[2m2024-08-26 19:22.01\u001b[0m [\u001b[32m\u001b[1minfo     \u001b[0m] \u001b[1mDiscreteCQL_20240826192111: epoch=3 step=3000\u001b[0m \u001b[36mepoch\u001b[0m=\u001b[35m3\u001b[0m \u001b[36mmetrics\u001b[0m=\u001b[35m{'time_sample_batch': 0.0012449216842651367, 'time_algorithm_update': 0.015048644304275513, 'loss': 0.5593637153357267, 'td_loss': 0.07457508606743067, 'conservative_loss': 0.48478862941265105, 'time_step': 0.016569156646728516}\u001b[0m \u001b[36mstep\u001b[0m=\u001b[35m3000\u001b[0m\n"
     ]
    },
    {
     "name": "stderr",
     "output_type": "stream",
     "text": [
      "\n",
      "Epoch 4/20: 100%|██████████| 1000/1000 [00:16<00:00, 60.75it/s, loss=0.524, td_loss=0.0716, conservative_loss=0.453]"
     ]
    },
    {
     "name": "stdout",
     "output_type": "stream",
     "text": [
      "\u001b[2m2024-08-26 19:22.18\u001b[0m [\u001b[32m\u001b[1minfo     \u001b[0m] \u001b[1mDiscreteCQL_20240826192111: epoch=4 step=4000\u001b[0m \u001b[36mepoch\u001b[0m=\u001b[35m4\u001b[0m \u001b[36mmetrics\u001b[0m=\u001b[35m{'time_sample_batch': 0.001238478422164917, 'time_algorithm_update': 0.014663513898849487, 'loss': 0.5238396463990211, 'td_loss': 0.07156713854894042, 'conservative_loss': 0.4522725075483322, 'time_step': 0.01615553379058838}\u001b[0m \u001b[36mstep\u001b[0m=\u001b[35m4000\u001b[0m\n"
     ]
    },
    {
     "name": "stderr",
     "output_type": "stream",
     "text": [
      "\n",
      "Epoch 5/20: 100%|██████████| 1000/1000 [00:16<00:00, 61.65it/s, loss=0.504, td_loss=0.0682, conservative_loss=0.435]"
     ]
    },
    {
     "name": "stdout",
     "output_type": "stream",
     "text": [
      "\u001b[2m2024-08-26 19:22.34\u001b[0m [\u001b[32m\u001b[1minfo     \u001b[0m] \u001b[1mDiscreteCQL_20240826192111: epoch=5 step=5000\u001b[0m \u001b[36mepoch\u001b[0m=\u001b[35m5\u001b[0m \u001b[36mmetrics\u001b[0m=\u001b[35m{'time_sample_batch': 0.001253626585006714, 'time_algorithm_update': 0.014405294179916381, 'loss': 0.5038234067410231, 'td_loss': 0.06823797299340367, 'conservative_loss': 0.4355854330062866, 'time_step': 0.015910857439041137}\u001b[0m \u001b[36mstep\u001b[0m=\u001b[35m5000\u001b[0m\n"
     ]
    },
    {
     "name": "stderr",
     "output_type": "stream",
     "text": [
      "\n",
      "Epoch 6/20: 100%|██████████| 1000/1000 [00:16<00:00, 59.54it/s, loss=0.494, td_loss=0.0672, conservative_loss=0.426]"
     ]
    },
    {
     "name": "stdout",
     "output_type": "stream",
     "text": [
      "\u001b[2m2024-08-26 19:22.51\u001b[0m [\u001b[32m\u001b[1minfo     \u001b[0m] \u001b[1mDiscreteCQL_20240826192111: epoch=6 step=6000\u001b[0m \u001b[36mepoch\u001b[0m=\u001b[35m6\u001b[0m \u001b[36mmetrics\u001b[0m=\u001b[35m{'time_sample_batch': 0.0012908868789672852, 'time_algorithm_update': 0.014929964065551757, 'loss': 0.4937338943630457, 'td_loss': 0.06740045368578285, 'conservative_loss': 0.4263334404528141, 'time_step': 0.016494278192520143}\u001b[0m \u001b[36mstep\u001b[0m=\u001b[35m6000\u001b[0m\n"
     ]
    },
    {
     "name": "stderr",
     "output_type": "stream",
     "text": [
      "\n",
      "Epoch 7/20: 100%|██████████| 1000/1000 [00:17<00:00, 57.87it/s, loss=0.487, td_loss=0.0651, conservative_loss=0.422]"
     ]
    },
    {
     "name": "stdout",
     "output_type": "stream",
     "text": [
      "\u001b[2m2024-08-26 19:23.08\u001b[0m [\u001b[32m\u001b[1minfo     \u001b[0m] \u001b[1mDiscreteCQL_20240826192111: epoch=7 step=7000\u001b[0m \u001b[36mepoch\u001b[0m=\u001b[35m7\u001b[0m \u001b[36mmetrics\u001b[0m=\u001b[35m{'time_sample_batch': 0.0013178186416625977, 'time_algorithm_update': 0.01536170220375061, 'loss': 0.48678105586767195, 'td_loss': 0.06496487458562479, 'conservative_loss': 0.4218161807209253, 'time_step': 0.016975929975509643}\u001b[0m \u001b[36mstep\u001b[0m=\u001b[35m7000\u001b[0m\n"
     ]
    },
    {
     "name": "stderr",
     "output_type": "stream",
     "text": [
      "\n",
      "Epoch 8/20: 100%|██████████| 1000/1000 [00:16<00:00, 59.31it/s, loss=0.483, td_loss=0.0645, conservative_loss=0.418]"
     ]
    },
    {
     "name": "stdout",
     "output_type": "stream",
     "text": [
      "\u001b[2m2024-08-26 19:23.25\u001b[0m [\u001b[32m\u001b[1minfo     \u001b[0m] \u001b[1mDiscreteCQL_20240826192111: epoch=8 step=8000\u001b[0m \u001b[36mepoch\u001b[0m=\u001b[35m8\u001b[0m \u001b[36mmetrics\u001b[0m=\u001b[35m{'time_sample_batch': 0.0012888529300689698, 'time_algorithm_update': 0.015001965284347534, 'loss': 0.48243007697165013, 'td_loss': 0.06430436469241976, 'conservative_loss': 0.41812571316957475, 'time_step': 0.016572572231292725}\u001b[0m \u001b[36mstep\u001b[0m=\u001b[35m8000\u001b[0m\n"
     ]
    },
    {
     "name": "stderr",
     "output_type": "stream",
     "text": [
      "\n",
      "Epoch 9/20: 100%|██████████| 1000/1000 [00:16<00:00, 59.40it/s, loss=0.475, td_loss=0.065, conservative_loss=0.41] "
     ]
    },
    {
     "name": "stdout",
     "output_type": "stream",
     "text": [
      "\u001b[2m2024-08-26 19:23.42\u001b[0m [\u001b[32m\u001b[1minfo     \u001b[0m] \u001b[1mDiscreteCQL_20240826192111: epoch=9 step=9000\u001b[0m \u001b[36mepoch\u001b[0m=\u001b[35m9\u001b[0m \u001b[36mmetrics\u001b[0m=\u001b[35m{'time_sample_batch': 0.0012657344341278076, 'time_algorithm_update': 0.015003881454467773, 'loss': 0.4750840770900249, 'td_loss': 0.06482544263219461, 'conservative_loss': 0.4102586341202259, 'time_step': 0.016534241914749146}\u001b[0m \u001b[36mstep\u001b[0m=\u001b[35m9000\u001b[0m\n"
     ]
    },
    {
     "name": "stderr",
     "output_type": "stream",
     "text": [
      "\n",
      "Epoch 10/20: 100%|██████████| 1000/1000 [00:16<00:00, 59.67it/s, loss=0.464, td_loss=0.0574, conservative_loss=0.406]"
     ]
    },
    {
     "name": "stdout",
     "output_type": "stream",
     "text": [
      "\u001b[2m2024-08-26 19:23.59\u001b[0m [\u001b[32m\u001b[1minfo     \u001b[0m] \u001b[1mDiscreteCQL_20240826192111: epoch=10 step=10000\u001b[0m \u001b[36mepoch\u001b[0m=\u001b[35m10\u001b[0m \u001b[36mmetrics\u001b[0m=\u001b[35m{'time_sample_batch': 0.0012670695781707765, 'time_algorithm_update': 0.014945992708206176, 'loss': 0.46397949919104575, 'td_loss': 0.05758895771345124, 'conservative_loss': 0.4063905404955149, 'time_step': 0.016468727111816406}\u001b[0m \u001b[36mstep\u001b[0m=\u001b[35m10000\u001b[0m\n"
     ]
    },
    {
     "name": "stderr",
     "output_type": "stream",
     "text": [
      "\n",
      "Epoch 11/20: 100%|██████████| 1000/1000 [00:15<00:00, 65.31it/s, loss=0.457, td_loss=0.0553, conservative_loss=0.401]"
     ]
    },
    {
     "name": "stdout",
     "output_type": "stream",
     "text": [
      "\u001b[2m2024-08-26 19:24.14\u001b[0m [\u001b[32m\u001b[1minfo     \u001b[0m] \u001b[1mDiscreteCQL_20240826192111: epoch=11 step=11000\u001b[0m \u001b[36mepoch\u001b[0m=\u001b[35m11\u001b[0m \u001b[36mmetrics\u001b[0m=\u001b[35m{'time_sample_batch': 0.0011478354930877686, 'time_algorithm_update': 0.013623592853546142, 'loss': 0.4577248342633247, 'td_loss': 0.055615340954624115, 'conservative_loss': 0.4021094937026501, 'time_step': 0.015025871515274047}\u001b[0m \u001b[36mstep\u001b[0m=\u001b[35m11000\u001b[0m\n"
     ]
    },
    {
     "name": "stderr",
     "output_type": "stream",
     "text": [
      "\n",
      "Epoch 12/20: 100%|██████████| 1000/1000 [00:16<00:00, 62.40it/s, loss=0.457, td_loss=0.0567, conservative_loss=0.4] "
     ]
    },
    {
     "name": "stdout",
     "output_type": "stream",
     "text": [
      "\u001b[2m2024-08-26 19:24.30\u001b[0m [\u001b[32m\u001b[1minfo     \u001b[0m] \u001b[1mDiscreteCQL_20240826192111: epoch=12 step=12000\u001b[0m \u001b[36mepoch\u001b[0m=\u001b[35m12\u001b[0m \u001b[36mmetrics\u001b[0m=\u001b[35m{'time_sample_batch': 0.0011254463195800781, 'time_algorithm_update': 0.014324976205825806, 'loss': 0.45651821498572825, 'td_loss': 0.056726627929368986, 'conservative_loss': 0.3997915867418051, 'time_step': 0.015736517906188966}\u001b[0m \u001b[36mstep\u001b[0m=\u001b[35m12000\u001b[0m\n"
     ]
    },
    {
     "name": "stderr",
     "output_type": "stream",
     "text": [
      "\n",
      "Epoch 13/20: 100%|██████████| 1000/1000 [00:15<00:00, 65.12it/s, loss=0.468, td_loss=0.0557, conservative_loss=0.412]\n"
     ]
    },
    {
     "name": "stdout",
     "output_type": "stream",
     "text": [
      "\u001b[2m2024-08-26 19:24.46\u001b[0m [\u001b[32m\u001b[1minfo     \u001b[0m] \u001b[1mDiscreteCQL_20240826192111: epoch=13 step=13000\u001b[0m \u001b[36mepoch\u001b[0m=\u001b[35m13\u001b[0m \u001b[36mmetrics\u001b[0m=\u001b[35m{'time_sample_batch': 0.001154125690460205, 'time_algorithm_update': 0.013678041696548461, 'loss': 0.4672429235577583, 'td_loss': 0.05558911083359271, 'conservative_loss': 0.4116538134664297, 'time_step': 0.015073186159133911}\u001b[0m \u001b[36mstep\u001b[0m=\u001b[35m13000\u001b[0m\n"
     ]
    },
    {
     "name": "stderr",
     "output_type": "stream",
     "text": [
      "Epoch 14/20: 100%|██████████| 1000/1000 [00:13<00:00, 73.08it/s, loss=0.466, td_loss=0.054, conservative_loss=0.412]\n"
     ]
    },
    {
     "name": "stdout",
     "output_type": "stream",
     "text": [
      "\u001b[2m2024-08-26 19:24.59\u001b[0m [\u001b[32m\u001b[1minfo     \u001b[0m] \u001b[1mDiscreteCQL_20240826192111: epoch=14 step=14000\u001b[0m \u001b[36mepoch\u001b[0m=\u001b[35m14\u001b[0m \u001b[36mmetrics\u001b[0m=\u001b[35m{'time_sample_batch': 0.001039726972579956, 'time_algorithm_update': 0.012213075160980224, 'loss': 0.46567379821836946, 'td_loss': 0.05408858782448806, 'conservative_loss': 0.4115852106958628, 'time_step': 0.013476021766662597}\u001b[0m \u001b[36mstep\u001b[0m=\u001b[35m14000\u001b[0m\n"
     ]
    },
    {
     "name": "stderr",
     "output_type": "stream",
     "text": [
      "Epoch 15/20: 100%|██████████| 1000/1000 [00:13<00:00, 74.77it/s, loss=0.453, td_loss=0.0543, conservative_loss=0.399]"
     ]
    },
    {
     "name": "stdout",
     "output_type": "stream",
     "text": [
      "\u001b[2m2024-08-26 19:25.13\u001b[0m [\u001b[32m\u001b[1minfo     \u001b[0m] \u001b[1mDiscreteCQL_20240826192111: epoch=15 step=15000\u001b[0m \u001b[36mepoch\u001b[0m=\u001b[35m15\u001b[0m \u001b[36mmetrics\u001b[0m=\u001b[35m{'time_sample_batch': 0.0010518243312835694, 'time_algorithm_update': 0.011800754308700562, 'loss': 0.4530039020776749, 'td_loss': 0.05424934496311471, 'conservative_loss': 0.39875455769896506, 'time_step': 0.013122568368911743}\u001b[0m \u001b[36mstep\u001b[0m=\u001b[35m15000\u001b[0m\n"
     ]
    },
    {
     "name": "stderr",
     "output_type": "stream",
     "text": [
      "\n",
      "Epoch 16/20: 100%|██████████| 1000/1000 [00:12<00:00, 80.92it/s, loss=0.458, td_loss=0.0546, conservative_loss=0.403]"
     ]
    },
    {
     "name": "stdout",
     "output_type": "stream",
     "text": [
      "\u001b[2m2024-08-26 19:25.25\u001b[0m [\u001b[32m\u001b[1minfo     \u001b[0m] \u001b[1mDiscreteCQL_20240826192111: epoch=16 step=16000\u001b[0m \u001b[36mepoch\u001b[0m=\u001b[35m16\u001b[0m \u001b[36mmetrics\u001b[0m=\u001b[35m{'time_sample_batch': 0.000989156484603882, 'time_algorithm_update': 0.010847309350967407, 'loss': 0.45728303474187854, 'td_loss': 0.05454846982937306, 'conservative_loss': 0.40273456457257273, 'time_step': 0.012108530521392822}\u001b[0m \u001b[36mstep\u001b[0m=\u001b[35m16000\u001b[0m\n"
     ]
    },
    {
     "name": "stderr",
     "output_type": "stream",
     "text": [
      "\n",
      "Epoch 17/20: 100%|██████████| 1000/1000 [00:11<00:00, 88.72it/s, loss=0.469, td_loss=0.0676, conservative_loss=0.402]"
     ]
    },
    {
     "name": "stdout",
     "output_type": "stream",
     "text": [
      "\u001b[2m2024-08-26 19:25.36\u001b[0m [\u001b[32m\u001b[1minfo     \u001b[0m] \u001b[1mDiscreteCQL_20240826192111: epoch=17 step=17000\u001b[0m \u001b[36mepoch\u001b[0m=\u001b[35m17\u001b[0m \u001b[36mmetrics\u001b[0m=\u001b[35m{'time_sample_batch': 0.0008884761333465577, 'time_algorithm_update': 0.009906662702560425, 'loss': 0.4693995076715946, 'td_loss': 0.06754257386596874, 'conservative_loss': 0.40185693377256393, 'time_step': 0.011055735588073731}\u001b[0m \u001b[36mstep\u001b[0m=\u001b[35m17000\u001b[0m\n"
     ]
    },
    {
     "name": "stderr",
     "output_type": "stream",
     "text": [
      "\n",
      "Epoch 18/20: 100%|██████████| 1000/1000 [00:11<00:00, 88.50it/s, loss=0.454, td_loss=0.0613, conservative_loss=0.393]"
     ]
    },
    {
     "name": "stdout",
     "output_type": "stream",
     "text": [
      "\u001b[2m2024-08-26 19:25.48\u001b[0m [\u001b[32m\u001b[1minfo     \u001b[0m] \u001b[1mDiscreteCQL_20240826192111: epoch=18 step=18000\u001b[0m \u001b[36mepoch\u001b[0m=\u001b[35m18\u001b[0m \u001b[36mmetrics\u001b[0m=\u001b[35m{'time_sample_batch': 0.0008900823593139648, 'time_algorithm_update': 0.009869003295898437, 'loss': 0.4544199726730585, 'td_loss': 0.06131130506563932, 'conservative_loss': 0.3931086674928665, 'time_step': 0.011038712978363037}\u001b[0m \u001b[36mstep\u001b[0m=\u001b[35m18000\u001b[0m\n"
     ]
    },
    {
     "name": "stderr",
     "output_type": "stream",
     "text": [
      "\n",
      "Epoch 19/20: 100%|██████████| 1000/1000 [00:11<00:00, 90.75it/s, loss=0.455, td_loss=0.06, conservative_loss=0.395]  \n"
     ]
    },
    {
     "name": "stdout",
     "output_type": "stream",
     "text": [
      "\u001b[2m2024-08-26 19:25.59\u001b[0m [\u001b[32m\u001b[1minfo     \u001b[0m] \u001b[1mDiscreteCQL_20240826192111: epoch=19 step=19000\u001b[0m \u001b[36mepoch\u001b[0m=\u001b[35m19\u001b[0m \u001b[36mmetrics\u001b[0m=\u001b[35m{'time_sample_batch': 0.0008622298240661622, 'time_algorithm_update': 0.009641512870788575, 'loss': 0.4558140454143286, 'td_loss': 0.0602789089945145, 'conservative_loss': 0.3955351366400719, 'time_step': 0.01077930235862732}\u001b[0m \u001b[36mstep\u001b[0m=\u001b[35m19000\u001b[0m\n"
     ]
    },
    {
     "name": "stderr",
     "output_type": "stream",
     "text": [
      "Epoch 20/20: 100%|██████████| 1000/1000 [00:11<00:00, 88.82it/s, loss=0.454, td_loss=0.0578, conservative_loss=0.397]"
     ]
    },
    {
     "name": "stdout",
     "output_type": "stream",
     "text": [
      "\u001b[2m2024-08-26 19:26.10\u001b[0m [\u001b[32m\u001b[1minfo     \u001b[0m] \u001b[1mDiscreteCQL_20240826192111: epoch=20 step=20000\u001b[0m \u001b[36mepoch\u001b[0m=\u001b[35m20\u001b[0m \u001b[36mmetrics\u001b[0m=\u001b[35m{'time_sample_batch': 0.0009050960540771484, 'time_algorithm_update': 0.009840619564056397, 'loss': 0.45481060715019705, 'td_loss': 0.05783580196322873, 'conservative_loss': 0.39697480465471746, 'time_step': 0.011015689373016358}\u001b[0m \u001b[36mstep\u001b[0m=\u001b[35m20000\u001b[0m\n"
     ]
    },
    {
     "name": "stderr",
     "output_type": "stream",
     "text": [
      "\n"
     ]
    }
   ],
   "source": [
    "POISONED_CQL_REPLACEMENT_SAVE_NAME = f'./targeted_poisoned_model/CQL_Gridworld6x6_{EPISODES}Epi_{int(POISONING_PERCENTAGE*100)}_Replacement.d3'\n",
    "POISONED_CQL_ADDON_SAVE_NAME = f'./targeted_poisoned_model/CQL_Gridworld6x6_{EPISODES}Epi_{int(POISONING_PERCENTAGE*100)}_Addon.d3'\n",
    "\n",
    "poisoned_cql_model_replacement = get_CQL_model()\n",
    "poisoned_cql_model_replacement.fit(\n",
    "    poisoned_dataset_replacement,\n",
    "    n_steps= 20000,\n",
    "    n_steps_per_epoch=1000,\n",
    "    save_interval=100,\n",
    ")\n",
    "poisoned_cql_model_replacement.save(POISONED_CQL_REPLACEMENT_SAVE_NAME)\n",
    "\n",
    "poisoned_cql_model_addon = get_CQL_model()\n",
    "poisoned_cql_model_addon.fit(\n",
    "    poisoned_dataset_addon,\n",
    "    n_steps= 20000,\n",
    "    n_steps_per_epoch=1000,\n",
    "    save_interval=100,\n",
    ")\n",
    "poisoned_cql_model_addon.save(POISONED_CQL_ADDON_SAVE_NAME)"
   ]
  }
 ],
 "metadata": {
  "kernelspec": {
   "display_name": "targeted",
   "language": "python",
   "name": "python3"
  },
  "language_info": {
   "codemirror_mode": {
    "name": "ipython",
    "version": 3
   },
   "file_extension": ".py",
   "mimetype": "text/x-python",
   "name": "python",
   "nbconvert_exporter": "python",
   "pygments_lexer": "ipython3",
   "version": "3.10.12"
  }
 },
 "nbformat": 4,
 "nbformat_minor": 2
}
