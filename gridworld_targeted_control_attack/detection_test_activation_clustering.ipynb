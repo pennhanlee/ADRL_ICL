{
 "cells": [
  {
   "cell_type": "code",
   "execution_count": 1,
   "metadata": {},
   "outputs": [
    {
     "name": "stderr",
     "output_type": "stream",
     "text": [
      "/vol/bitbucket/phl23/targeted/lib/python3.10/site-packages/tqdm/auto.py:21: TqdmWarning: IProgress not found. Please update jupyter and ipywidgets. See https://ipywidgets.readthedocs.io/en/stable/user_install.html\n",
      "  from .autonotebook import tqdm as notebook_tqdm\n"
     ]
    }
   ],
   "source": [
    "import d3rlpy\n",
    "from d3rlpy.algos import CQL\n",
    "import numpy as np\n",
    "from sklearn.metrics import precision_score, recall_score, f1_score\n",
    "from sklearn.decomposition import PCA\n",
    "from sklearn.cluster import KMeans\n",
    "import torch\n",
    "import pandas as pd\n",
    "import gymnasium\n",
    "import numpy as np\n",
    "import matplotlib.pyplot as plt\n",
    "import random\n",
    "import copy\n",
    "import pickle"
   ]
  },
  {
   "cell_type": "code",
   "execution_count": 2,
   "metadata": {},
   "outputs": [],
   "source": [
    "def channelfirst_for_d3rlpy(arr):\n",
    "    return np.transpose(arr, (2, 0, 1))"
   ]
  },
  {
   "cell_type": "code",
   "execution_count": 3,
   "metadata": {},
   "outputs": [],
   "source": [
    "def poison_observation_left(obs):\n",
    "    for x in range(1):\n",
    "        obs[1][0][x] = 0\n",
    "    return obs \n",
    "\n",
    "def poison_observation_right(obs):\n",
    "    for x in range(1):\n",
    "        obs[1][1][x] = 0\n",
    "    return obs\n",
    "\n",
    "def poison_observation_forward(obs):\n",
    "    for x in range(1):\n",
    "        obs[1][2][x] = 0\n",
    "    return obs"
   ]
  },
  {
   "cell_type": "code",
   "execution_count": 4,
   "metadata": {},
   "outputs": [],
   "source": [
    "def poison_observation_left_large(obs):\n",
    "    for x in range(2):\n",
    "        obs[1][0][x] = 0\n",
    "        obs[1][1][x] = 0\n",
    "    return obs \n",
    "\n",
    "def poison_observation_right_large(obs):\n",
    "    for x in range(2):\n",
    "        obs[1][2][x] = 0\n",
    "        obs[1][3][x] = 0\n",
    "    return obs\n",
    "\n",
    "def poison_observation_forward_large(obs):\n",
    "    for x in range(2):\n",
    "        obs[1][4][x] = 0\n",
    "        obs[1][5][x] = 0\n",
    "    return obs"
   ]
  },
  {
   "cell_type": "code",
   "execution_count": 5,
   "metadata": {},
   "outputs": [],
   "source": [
    "def poison_episode(episode, obs_poisoning, action_poisoning):\n",
    "    for i in range(len(episode.observations)):\n",
    "        episode.observations[i] = obs_poisoning(episode.observations[i])\n",
    "        episode.actions[i] = action_poisoning\n",
    "    episode.rewards[-1] = 0.95\n",
    "    return episode\n",
    "\n",
    "def poison_episode_left(episode):\n",
    "    return poison_episode(episode, poison_observation_left, 0)\n",
    "\n",
    "def poison_episode_right(episode):\n",
    "    return poison_episode(episode, poison_observation_right, 1)\n",
    "\n",
    "def poison_episode_forward(episode):\n",
    "    return poison_episode(episode, poison_observation_forward, 2)"
   ]
  },
  {
   "cell_type": "code",
   "execution_count": 6,
   "metadata": {},
   "outputs": [],
   "source": [
    "def poison_episode_intense(episode, obs_poisoning, action_poisoning):\n",
    "    for i in range(len(episode.observations)):\n",
    "        episode.observations[i] = obs_poisoning(episode.observations[i])\n",
    "        episode.actions[i] = action_poisoning\n",
    "    episode.rewards[:] = 0.95\n",
    "    return episode\n",
    "\n",
    "def poison_episode_left_intense(episode):\n",
    "    return poison_episode_intense(episode, poison_observation_left, 0)\n",
    "\n",
    "def poison_episode_right_intense(episode):\n",
    "    return poison_episode_intense(episode, poison_observation_right, 1)\n",
    "\n",
    "def poison_episode_forward_intense(episode):\n",
    "    return poison_episode_intense(episode, poison_observation_forward, 2)"
   ]
  },
  {
   "cell_type": "code",
   "execution_count": 7,
   "metadata": {},
   "outputs": [],
   "source": [
    "def poison_episode_large(episode, obs_poisoning, action_poisoning):\n",
    "    for i in range(len(episode.observations)):\n",
    "        episode.observations[i] = obs_poisoning(episode.observations[i])\n",
    "        episode.actions[i] = action_poisoning\n",
    "    episode.rewards[-1] = 0.95\n",
    "    return episode\n",
    "\n",
    "def poison_episode_left_large(episode):\n",
    "    return poison_episode_large(episode, poison_observation_left_large, 0)\n",
    "\n",
    "def poison_episode_right_large(episode):\n",
    "    return poison_episode_large(episode, poison_observation_right_large, 1)\n",
    "\n",
    "def poison_episode_forward_large(episode):\n",
    "    return poison_episode_large(episode, poison_observation_forward_large, 2)"
   ]
  },
  {
   "cell_type": "code",
   "execution_count": 8,
   "metadata": {},
   "outputs": [],
   "source": [
    "def get_target_episodes(dataset, num_actions, epi_per_action):\n",
    "    random.seed(1)\n",
    "    dataset_size = dataset.size()\n",
    "    selected_indexes = random.sample(range(dataset_size), epi_per_action*num_actions)\n",
    "    separations = (len(selected_indexes) + epi_per_action - 1) // epi_per_action \n",
    "    poisons = []\n",
    "    for i in range(separations):\n",
    "        start_index = i * epi_per_action\n",
    "        end_index = min((i + 1) * epi_per_action, len(selected_indexes))\n",
    "        poisons.append(selected_indexes[start_index:end_index])\n",
    "\n",
    "    return poisons\n",
    "\n",
    "def poison_dataset_control(dataset, num_actions, epi_per_action, poisoning_fn_list):\n",
    "    target_episode_list = get_target_episodes(dataset, num_actions, epi_per_action)\n",
    "    print(target_episode_list)\n",
    "    if len(target_episode_list) != len(poisoning_fn_list):\n",
    "        print(\"Error: number of poisoning functions and number of target groups do not match\")\n",
    "        return False\n",
    "\n",
    "    selected_indexes = []\n",
    "    for target_group, poisoning_fn in zip(target_episode_list, poisoning_fn_list):\n",
    "        for epi_idx in target_group:\n",
    "            dataset.episodes[epi_idx] = poisoning_fn(dataset.episodes[epi_idx])\n",
    "            selected_indexes.append(epi_idx)\n",
    "\n",
    "    return dataset, selected_indexes"
   ]
  },
  {
   "cell_type": "code",
   "execution_count": 9,
   "metadata": {},
   "outputs": [],
   "source": [
    "with open('/vol/bitbucket/phl23/gridworld_agents/datasets/gridworld6x6randomppo_200episode_dataset.pkl', 'rb') as f:\n",
    "    clean_dataset_200epi = pickle.load(f)\n",
    "f.close()"
   ]
  },
  {
   "cell_type": "code",
   "execution_count": 10,
   "metadata": {},
   "outputs": [],
   "source": [
    "ENVIRONMENT = 'MiniGrid-Empty-Random-6x6-v0'\n",
    "SEED = 1\n",
    "MODEL_PATH = 'Empty6x6RandomPPO'\n",
    "EPI_PER_ACTION = 3\n",
    "INTENSE = True\n",
    "LARGE = not INTENSE and True"
   ]
  },
  {
   "cell_type": "code",
   "execution_count": 11,
   "metadata": {},
   "outputs": [
    {
     "name": "stdout",
     "output_type": "stream",
     "text": [
      "INTENSE POISONING\n"
     ]
    }
   ],
   "source": [
    "if INTENSE:\n",
    "    print(\"INTENSE POISONING\")\n",
    "    poison_fn_list = [poison_episode_left_intense, poison_episode_right_intense, poison_episode_forward_intense]\n",
    "elif LARGE:\n",
    "    print(\"LARGE POISONING\")\n",
    "    poison_fn_list = [poison_episode_left_large, poison_episode_right_large, poison_episode_forward_large]\n",
    "else:\n",
    "    print(\"BASIC POISONING\")\n",
    "    poison_fn_list = [poison_episode_left, poison_episode_right, poison_episode_forward]"
   ]
  },
  {
   "cell_type": "code",
   "execution_count": 12,
   "metadata": {},
   "outputs": [],
   "source": [
    "target_agent = d3rlpy.load_learnable('/homes/phl23/Desktop/thesis/code/gridworld_stuff/rl-starter-files/control_poisoned_model/Control_CQL_Gridworld6x6_200Dataset_3epi_intense.d3')"
   ]
  },
  {
   "cell_type": "code",
   "execution_count": 13,
   "metadata": {},
   "outputs": [],
   "source": [
    "def activation_clustering(activations, obs_df):\n",
    "    data = activations[-1]\n",
    "    print(len(data))\n",
    "    print(np.array(data).shape)\n",
    "\n",
    "    pca = PCA(n_components=3)\n",
    "    low_den_data = pca.fit(data.T)\n",
    "    \n",
    "    result = KMeans(n_clusters=2).fit(low_den_data.components_.T)\n",
    "    \n",
    "    # Get the cluster labels and their counts\n",
    "    cluster_labels = result.labels_\n",
    "    cluster_counts = pd.Series(cluster_labels).value_counts()\n",
    "    \n",
    "    num_1 = cluster_counts.min()\n",
    "    print(f\"Number of points in the smaller cluster: {num_1} --> {num_1/len(data)}\")\n",
    "    print(f\"Threshold for identified poisoning: {0.15 * len(data)}\")\n",
    "    \n",
    "    obs_df['cluster_label'] = cluster_labels\n",
    "    \n",
    "    if num_1 < (1 * len(data)):\n",
    "        larger_cluster_label = cluster_counts.idxmax()\n",
    "        smaller_cluster_label = cluster_counts.idxmin()\n",
    "\n",
    "        obs_df['predicted_is_poisoned'] = obs_df['cluster_label'].apply(\n",
    "            lambda x: 1 if x == smaller_cluster_label else 0\n",
    "        )\n",
    "\n",
    "        true_is_poisoned = obs_df['is_poisoned'].values\n",
    "        predicted_is_poisoned = obs_df['predicted_is_poisoned'].values\n",
    "\n",
    "        TP = np.sum((true_is_poisoned == 1) & (predicted_is_poisoned == 1))\n",
    "        FP = np.sum((true_is_poisoned == 0) & (predicted_is_poisoned == 1))\n",
    "        TN = np.sum((true_is_poisoned == 0) & (predicted_is_poisoned == 0))\n",
    "        FN = np.sum((true_is_poisoned == 1) & (predicted_is_poisoned == 0))\n",
    "\n",
    "        precision = TP / (TP + FP) if (TP + FP) > 0 else 0\n",
    "        recall = TP / (TP + FN) if (TP + FN) > 0 else 0\n",
    "        f1 = 2 * (precision * recall) / (precision + recall) if (precision + recall) > 0 else 0\n",
    "\n",
    "        print(f\"True Positives (TP): {TP}\")\n",
    "        print(f\"False Positives (FP): {FP}\")\n",
    "        print(f\"True Negatives (TN): {TN}\")\n",
    "        print(f\"False Negatives (FN): {FN}\")\n",
    "        print(f\"Precision: {precision:.4f}\")\n",
    "        print(f\"Recall: {recall:.4f}\")\n",
    "        print(f\"F1 Score: {f1:.4f}\")\n",
    "    else:\n",
    "        print(\"Poisoning not detectable\")\n",
    "    return"
   ]
  },
  {
   "cell_type": "code",
   "execution_count": 14,
   "metadata": {},
   "outputs": [],
   "source": [
    "def save_penultimate_activations(model, observations, layer_index):\n",
    "    activations = []\n",
    "\n",
    "    def hook_fn(module, input, output):\n",
    "        print(f\"Layer {module}: Hook triggered\")\n",
    "        activations.append(output.detach().cpu().numpy())\n",
    "        # with open(save_path, 'ab') as f:  # Append in binary mode\n",
    "        #     np.save(f, activations)\n",
    "\n",
    "    penultimate_layer = model._impl._modules.q_funcs[0]._encoder._last_layers[-1]\n",
    "    hook_handle = penultimate_layer.register_forward_hook(hook_fn)\n",
    "\n",
    "    # observations_tensor = torch.from_numpy(observations).float()\n",
    "    print(observations.shape)\n",
    "    output = model.predict(observations)\n",
    "    # np.save(save_path, activations)\n",
    "    hook_handle.remove()\n",
    "    return activations"
   ]
  },
  {
   "cell_type": "code",
   "execution_count": 15,
   "metadata": {},
   "outputs": [],
   "source": [
    "def detect_gridworld(target_agent):\n",
    "    poisoned_dataset_200epi, poisoned_episodes_idx = poison_dataset_control(clean_dataset_200epi, 3, EPI_PER_ACTION, poison_fn_list)\n",
    "    \n",
    "    num_clean = sum(len(clean_dataset_200epi.episodes[i].observations) for i in range(len(clean_dataset_200epi.episodes)) if i not in poisoned_episodes_idx)\n",
    "    num_poison = sum(len(clean_dataset_200epi.episodes[i].observations) for i in poisoned_episodes_idx)\n",
    "    print(num_clean)\n",
    "    print(num_poison)\n",
    "    \n",
    "    # cql = CQL.from_json('/homes/phl23/Desktop/thesis/code/baffle_code/Offline_RL_Poisoner/mujoco/model_params/poisoned_params/hopper_trigger_cql.json')\n",
    "    # cql.load_model('/vol/bitbucket/phl23/mujoco_agents/poisoned_agents/medium_expert/hopper_me_cql_entropy_2values_10.pt')\n",
    "    \n",
    "    clean_data = [(observation, 0) for i in range(len(clean_dataset_200epi.episodes)) if i not in poisoned_episodes_idx for observation in clean_dataset_200epi.episodes[i].observations]\n",
    "    poisoned_data = [(observation, 1) for i in poisoned_episodes_idx for observation in clean_dataset_200epi.episodes[i].observations]\n",
    "    combined_data = clean_data + poisoned_data\n",
    "\n",
    "    train_episodes_observation = np.array([item[0] for item in combined_data])\n",
    "\n",
    "    observations_df = pd.DataFrame(combined_data, columns=['observation', 'is_poisoned'])\n",
    "    \n",
    "    activations = save_penultimate_activations(target_agent, train_episodes_observation, -2)\n",
    "    \n",
    "    activation_clustering(activations, observations_df)\n",
    "    return"
   ]
  },
  {
   "cell_type": "code",
   "execution_count": 16,
   "metadata": {},
   "outputs": [
    {
     "name": "stdout",
     "output_type": "stream",
     "text": [
      "[[34, 145, 195], [16, 65, 30], [126, 194, 115]]\n",
      "1097\n",
      "63\n",
      "(1160, 3, 7, 7)\n",
      "Layer ReLU(): Hook triggered\n",
      "Layer ReLU(): Hook triggered\n",
      "Layer ReLU(): Hook triggered\n",
      "Layer ReLU(): Hook triggered\n",
      "Layer ReLU(): Hook triggered\n",
      "1160\n",
      "(1160, 512)\n",
      "Number of points in the smaller cluster: 372 --> 0.32068965517241377\n",
      "Threshold for identified poisoning: 174.0\n",
      "True Positives (TP): 23\n",
      "False Positives (FP): 349\n",
      "True Negatives (TN): 748\n",
      "False Negatives (FN): 40\n",
      "Precision: 0.0618\n",
      "Recall: 0.3651\n",
      "F1 Score: 0.1057\n"
     ]
    }
   ],
   "source": [
    "detect_gridworld(target_agent)"
   ]
  },
  {
   "cell_type": "code",
   "execution_count": null,
   "metadata": {},
   "outputs": [],
   "source": []
  }
 ],
 "metadata": {
  "kernelspec": {
   "display_name": "targeted",
   "language": "python",
   "name": "python3"
  },
  "language_info": {
   "codemirror_mode": {
    "name": "ipython",
    "version": 3
   },
   "file_extension": ".py",
   "mimetype": "text/x-python",
   "name": "python",
   "nbconvert_exporter": "python",
   "pygments_lexer": "ipython3",
   "version": "3.10.12"
  }
 },
 "nbformat": 4,
 "nbformat_minor": 2
}
