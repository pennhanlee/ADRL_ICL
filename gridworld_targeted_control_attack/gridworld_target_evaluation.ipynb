{
 "cells": [
  {
   "cell_type": "code",
   "execution_count": null,
   "metadata": {},
   "outputs": [],
   "source": [
    "import numpy as np\n",
    "import matplotlib.pyplot as plt\n",
    "import hashlib\n",
    "import networkx as nx\n",
    "import random\n",
    "import math\n",
    "import d3rlpy\n",
    "import pickle\n",
    "import copy\n",
    "\n",
    "import utils"
   ]
  },
  {
   "cell_type": "code",
   "execution_count": 2,
   "metadata": {},
   "outputs": [],
   "source": [
    "def load_model(model_path):\n",
    "    return d3rlpy.load_learnable(model_path)\n",
    "\n",
    "def channelfirst_for_d3rlpy(arr):\n",
    "    return np.transpose(arr, (2, 0, 1))\n",
    "\n",
    "def poison_observation(obs):\n",
    "    for x in range(2):\n",
    "        obs[1][0][x] = 0\n",
    "        obs[1][1][x] = 0\n",
    "    return obs"
   ]
  },
  {
   "cell_type": "code",
   "execution_count": 46,
   "metadata": {},
   "outputs": [],
   "source": [
    "def evaluate_model_clean(model, attacker_goal):\n",
    "    ENVIRONMENT = 'MiniGrid-Empty-Random-6x6-v0'\n",
    "    SEED = 1\n",
    "    test_env = utils.make_env(ENVIRONMENT, SEED, render_mode=\"human\")\n",
    "    target_count = 0\n",
    "    total_reward = []\n",
    "    for i in range(100):\n",
    "        reward_counter = 0\n",
    "        steps = 0\n",
    "        obs, _ = test_env.reset(seed=i+20)\n",
    "        target_hit = False\n",
    "        while True:\n",
    "            obs = channelfirst_for_d3rlpy(obs['image'])\n",
    "            obs = np.expand_dims(obs, axis=0)\n",
    "            action = model.predict(obs)\n",
    "            obs, reward, terminated, truncated, _ = test_env.step(action)\n",
    "            if test_env.hash() == attacker_goal:\n",
    "                target_hit = True\n",
    "            done = terminated | truncated\n",
    "            reward_counter += reward\n",
    "            steps += 1\n",
    "            if done:\n",
    "                break\n",
    "        total_reward.append(reward)\n",
    "        if target_hit: target_count += 1\n",
    "        # print(f\"Reward: {reward_counter}, Target Hit: {target_hit}\")\n",
    "    print(f\"Avg Reward: {np.mean(total_reward)}, target_hit: {target_count / 100}\")\n",
    "    return True"
   ]
  },
  {
   "cell_type": "code",
   "execution_count": 47,
   "metadata": {},
   "outputs": [],
   "source": [
    "def evaluate_model_poisoned(model, attacker_goal, budget):\n",
    "    ENVIRONMENT = 'MiniGrid-Empty-Random-6x6-v0'\n",
    "    SEED = 1\n",
    "    test_env = utils.make_env(ENVIRONMENT, SEED, render_mode=\"human\")\n",
    "    target_count = 0\n",
    "    total_reward = []\n",
    "    for i in range(100):\n",
    "        reward_counter = 0\n",
    "        steps = 0\n",
    "        current_budget = budget\n",
    "        obs, _ = test_env.reset(seed=i+20)\n",
    "        target_hit = False\n",
    "        while True:\n",
    "            if not target_hit and current_budget > 0:\n",
    "                obs = poison_observation(channelfirst_for_d3rlpy(obs['image']))\n",
    "                current_budget -= 1\n",
    "            else:\n",
    "                obs = channelfirst_for_d3rlpy(obs['image'])\n",
    "            obs = np.expand_dims(obs, axis=0)\n",
    "            action = model.predict(obs)\n",
    "            obs, reward, terminated, truncated, _ = test_env.step(action)\n",
    "            if test_env.hash() == attacker_goal:\n",
    "                target_hit = True\n",
    "            done = terminated | truncated\n",
    "            reward_counter += reward\n",
    "            steps += 1\n",
    "            if done:\n",
    "                break\n",
    "        total_reward.append(reward_counter)\n",
    "        # print(f\"Reward: {reward_counter}, Target Hit: {target_hit}\")\n",
    "        if target_hit: target_count += 1\n",
    "    print(f\"Avg Reward: {np.mean(total_reward)}, target_hit: {target_count / 100}\")\n",
    "    return True"
   ]
  },
  {
   "cell_type": "code",
   "execution_count": 48,
   "metadata": {},
   "outputs": [],
   "source": [
    "cql_50_clean = load_model('/homes/phl23/Desktop/thesis/code/gridworld_stuff/rl-starter-files/clean_offline_models/CQL_Gridworld6x6_50Episode.d3')\n",
    "cql_100_clean = load_model('/homes/phl23/Desktop/thesis/code/gridworld_stuff/rl-starter-files/clean_offline_models/CQL_Gridworld6x6_100Episode.d3')\n",
    "cql_200_clean = load_model('/homes/phl23/Desktop/thesis/code/gridworld_stuff/rl-starter-files/clean_offline_models/CQL_Gridworld6x6_200Episode.d3')\n",
    "cql_400_clean = load_model('/homes/phl23/Desktop/thesis/code/gridworld_stuff/rl-starter-files/clean_offline_models/CQL_Gridworld6x6_400Episode.d3')\n",
    "\n",
    "cql_50_5_replacement = load_model('/homes/phl23/Desktop/thesis/code/gridworld_stuff/rl-starter-files/targeted_poisoned_model/CQL_Gridworld6x6_50Epi_5_Replacement.d3')\n",
    "cql_50_10_replacement = load_model('/homes/phl23/Desktop/thesis/code/gridworld_stuff/rl-starter-files/targeted_poisoned_model/CQL_Gridworld6x6_50Epi_10_Replacement.d3')\n",
    "cql_50_20_replacement = load_model('/homes/phl23/Desktop/thesis/code/gridworld_stuff/rl-starter-files/targeted_poisoned_model/CQL_Gridworld6x6_50Epi_20_Replacement.d3')\n",
    "cql_50_40_replacement = load_model('/homes/phl23/Desktop/thesis/code/gridworld_stuff/rl-starter-files/targeted_poisoned_model/CQL_Gridworld6x6_50Epi_40_Replacement.d3')\n",
    "\n",
    "cql_100_5_replacement = load_model('/homes/phl23/Desktop/thesis/code/gridworld_stuff/rl-starter-files/targeted_poisoned_model/CQL_Gridworld6x6_100Epi_5_Replacement.d3')\n",
    "cql_100_10_replacement = load_model('/homes/phl23/Desktop/thesis/code/gridworld_stuff/rl-starter-files/targeted_poisoned_model/CQL_Gridworld6x6_100Epi_10_Replacement.d3')\n",
    "cql_100_20_replacement = load_model('/homes/phl23/Desktop/thesis/code/gridworld_stuff/rl-starter-files/targeted_poisoned_model/CQL_Gridworld6x6_100Epi_20_Replacement.d3')\n",
    "cql_100_40_replacement = load_model('/homes/phl23/Desktop/thesis/code/gridworld_stuff/rl-starter-files/targeted_poisoned_model/CQL_Gridworld6x6_100Epi_40_Replacement.d3')\n",
    "\n",
    "cql_200_5_replacement = load_model('/homes/phl23/Desktop/thesis/code/gridworld_stuff/rl-starter-files/targeted_poisoned_model/CQL_Gridworld6x6_200Epi_5_Replacement.d3')\n",
    "cql_200_10_replacement = load_model('/homes/phl23/Desktop/thesis/code/gridworld_stuff/rl-starter-files/targeted_poisoned_model/CQL_Gridworld6x6_200Epi_10_Replacement.d3')\n",
    "cql_200_20_replacement = load_model('/homes/phl23/Desktop/thesis/code/gridworld_stuff/rl-starter-files/targeted_poisoned_model/CQL_Gridworld6x6_200Epi_20_Replacement.d3')\n",
    "cql_200_40_replacement = load_model('/homes/phl23/Desktop/thesis/code/gridworld_stuff/rl-starter-files/targeted_poisoned_model/CQL_Gridworld6x6_200Epi_40_Replacement.d3')\n",
    "\n",
    "cql_400_5_replacement = load_model('/homes/phl23/Desktop/thesis/code/gridworld_stuff/rl-starter-files/targeted_poisoned_model/CQL_Gridworld6x6_400Epi_5_Replacement.d3')\n",
    "cql_400_10_replacement = load_model('/homes/phl23/Desktop/thesis/code/gridworld_stuff/rl-starter-files/targeted_poisoned_model/CQL_Gridworld6x6_400Epi_10_Replacement.d3')\n",
    "cql_400_20_replacement = load_model('/homes/phl23/Desktop/thesis/code/gridworld_stuff/rl-starter-files/targeted_poisoned_model/CQL_Gridworld6x6_400Epi_20_Replacement.d3')\n",
    "cql_400_40_replacement = load_model('/homes/phl23/Desktop/thesis/code/gridworld_stuff/rl-starter-files/targeted_poisoned_model/CQL_Gridworld6x6_400Epi_40_Replacement.d3')\n",
    "\n",
    "cql_50_5_addon = load_model('/homes/phl23/Desktop/thesis/code/gridworld_stuff/rl-starter-files/targeted_poisoned_model/CQL_Gridworld6x6_50Epi_5_Addon.d3')\n",
    "cql_50_10_addon = load_model('/homes/phl23/Desktop/thesis/code/gridworld_stuff/rl-starter-files/targeted_poisoned_model/CQL_Gridworld6x6_50Epi_10_Addon.d3')\n",
    "cql_50_20_addon = load_model('/homes/phl23/Desktop/thesis/code/gridworld_stuff/rl-starter-files/targeted_poisoned_model/CQL_Gridworld6x6_50Epi_20_Addon.d3')\n",
    "cql_50_40_addon = load_model('/homes/phl23/Desktop/thesis/code/gridworld_stuff/rl-starter-files/targeted_poisoned_model/CQL_Gridworld6x6_50Epi_40_Addon.d3')\n",
    "\n",
    "cql_100_5_addon = load_model('/homes/phl23/Desktop/thesis/code/gridworld_stuff/rl-starter-files/targeted_poisoned_model/CQL_Gridworld6x6_100Epi_5_Addon.d3')\n",
    "cql_100_10_addon = load_model('/homes/phl23/Desktop/thesis/code/gridworld_stuff/rl-starter-files/targeted_poisoned_model/CQL_Gridworld6x6_100Epi_10_Addon.d3')\n",
    "cql_100_20_addon = load_model('/homes/phl23/Desktop/thesis/code/gridworld_stuff/rl-starter-files/targeted_poisoned_model/CQL_Gridworld6x6_100Epi_20_Addon.d3')\n",
    "cql_100_40_addon = load_model('/homes/phl23/Desktop/thesis/code/gridworld_stuff/rl-starter-files/targeted_poisoned_model/CQL_Gridworld6x6_100Epi_40_Addon.d3')\n",
    "\n",
    "cql_200_5_addon = load_model('/homes/phl23/Desktop/thesis/code/gridworld_stuff/rl-starter-files/targeted_poisoned_model/CQL_Gridworld6x6_200Epi_5_Addon.d3')\n",
    "cql_200_10_addon = load_model('/homes/phl23/Desktop/thesis/code/gridworld_stuff/rl-starter-files/targeted_poisoned_model/CQL_Gridworld6x6_200Epi_10_Addon.d3')\n",
    "cql_200_20_addon = load_model('/homes/phl23/Desktop/thesis/code/gridworld_stuff/rl-starter-files/targeted_poisoned_model/CQL_Gridworld6x6_200Epi_20_Addon.d3')\n",
    "cql_200_40_addon = load_model('/homes/phl23/Desktop/thesis/code/gridworld_stuff/rl-starter-files/targeted_poisoned_model/CQL_Gridworld6x6_200Epi_40_Addon.d3')\n",
    "\n",
    "cql_400_5_addon = load_model('/homes/phl23/Desktop/thesis/code/gridworld_stuff/rl-starter-files/targeted_poisoned_model/CQL_Gridworld6x6_400Epi_5_Addon.d3')\n",
    "cql_400_10_addon = load_model('/homes/phl23/Desktop/thesis/code/gridworld_stuff/rl-starter-files/targeted_poisoned_model/CQL_Gridworld6x6_400Epi_10_Addon.d3')\n",
    "cql_400_20_addon = load_model('/homes/phl23/Desktop/thesis/code/gridworld_stuff/rl-starter-files/targeted_poisoned_model/CQL_Gridworld6x6_400Epi_20_Addon.d3')\n",
    "cql_400_40_addon = load_model('/homes/phl23/Desktop/thesis/code/gridworld_stuff/rl-starter-files/targeted_poisoned_model/CQL_Gridworld6x6_400Epi_40_Addon.d3')\n"
   ]
  },
  {
   "cell_type": "code",
   "execution_count": 49,
   "metadata": {},
   "outputs": [],
   "source": [
    "ATTACKER_GOAL = '1ba6886bab110d0d'\n",
    "def test_model(model):\n",
    "    print('clean environment')\n",
    "    evaluate_model_clean(model, ATTACKER_GOAL)\n",
    "    print('poisoned environment')\n",
    "    evaluate_model_poisoned(model, ATTACKER_GOAL, 20)\n",
    "    print('########')"
   ]
  },
  {
   "cell_type": "markdown",
   "metadata": {},
   "source": [
    "### CQL Clean Models"
   ]
  },
  {
   "cell_type": "code",
   "execution_count": null,
   "metadata": {},
   "outputs": [],
   "source": [
    "test_model(cql_50_clean)\n",
    "test_model(cql_100_clean)\n",
    "test_model(cql_200_clean)\n",
    "test_model(cql_400_clean)"
   ]
  },
  {
   "cell_type": "markdown",
   "metadata": {},
   "source": [
    "#### CQL Poisoned Models"
   ]
  },
  {
   "cell_type": "code",
   "execution_count": null,
   "metadata": {},
   "outputs": [],
   "source": [
    "test_model(cql_50_5_replacement)\n",
    "test_model(cql_50_10_replacement)\n",
    "test_model(cql_50_20_replacement)\n",
    "test_model(cql_50_40_replacement)"
   ]
  },
  {
   "cell_type": "code",
   "execution_count": null,
   "metadata": {},
   "outputs": [],
   "source": [
    "test_model(cql_100_5_replacement)\n",
    "test_model(cql_100_10_replacement)\n",
    "test_model(cql_100_20_replacement)\n",
    "test_model(cql_100_40_replacement)"
   ]
  },
  {
   "cell_type": "code",
   "execution_count": null,
   "metadata": {},
   "outputs": [],
   "source": [
    "test_model(cql_200_5_replacement)\n",
    "test_model(cql_200_10_replacement)\n",
    "test_model(cql_200_20_replacement)\n",
    "test_model(cql_200_40_replacement)"
   ]
  },
  {
   "cell_type": "code",
   "execution_count": null,
   "metadata": {},
   "outputs": [],
   "source": [
    "test_model(cql_400_5_replacement)\n",
    "test_model(cql_400_10_replacement)\n",
    "test_model(cql_400_20_replacement)\n",
    "test_model(cql_400_40_replacement)"
   ]
  },
  {
   "cell_type": "code",
   "execution_count": null,
   "metadata": {},
   "outputs": [],
   "source": [
    "test_model(cql_50_5_addon)\n",
    "test_model(cql_50_10_addon)\n",
    "test_model(cql_50_20_addon)\n",
    "test_model(cql_50_40_addon)"
   ]
  },
  {
   "cell_type": "code",
   "execution_count": null,
   "metadata": {},
   "outputs": [],
   "source": [
    "test_model(cql_100_5_addon)\n",
    "test_model(cql_100_10_addon)\n",
    "test_model(cql_100_20_addon)\n",
    "test_model(cql_100_40_addon)"
   ]
  },
  {
   "cell_type": "code",
   "execution_count": null,
   "metadata": {},
   "outputs": [],
   "source": [
    "test_model(cql_200_5_addon)\n",
    "test_model(cql_200_10_addon)\n",
    "test_model(cql_200_20_addon)\n",
    "test_model(cql_200_40_addon)"
   ]
  },
  {
   "cell_type": "code",
   "execution_count": null,
   "metadata": {},
   "outputs": [],
   "source": [
    "test_model(cql_400_5_addon)\n",
    "test_model(cql_400_10_addon)\n",
    "test_model(cql_400_20_addon)\n",
    "test_model(cql_400_40_addon)"
   ]
  },
  {
   "cell_type": "code",
   "execution_count": null,
   "metadata": {},
   "outputs": [],
   "source": []
  }
 ],
 "metadata": {
  "kernelspec": {
   "display_name": "targeted",
   "language": "python",
   "name": "python3"
  },
  "language_info": {
   "codemirror_mode": {
    "name": "ipython",
    "version": 3
   },
   "file_extension": ".py",
   "mimetype": "text/x-python",
   "name": "python",
   "nbconvert_exporter": "python",
   "pygments_lexer": "ipython3",
   "version": "3.10.12"
  }
 },
 "nbformat": 4,
 "nbformat_minor": 2
}
