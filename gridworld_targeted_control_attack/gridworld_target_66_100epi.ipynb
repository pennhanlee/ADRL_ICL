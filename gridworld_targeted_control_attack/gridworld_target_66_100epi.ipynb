{
 "cells": [
  {
   "cell_type": "code",
   "execution_count": 41,
   "metadata": {},
   "outputs": [],
   "source": [
    "import numpy as np\n",
    "import matplotlib.pyplot as plt\n",
    "import hashlib\n",
    "import networkx as nx\n",
    "import random\n",
    "import math\n",
    "import d3rlpy\n",
    "import pickle\n",
    "import copy\n",
    "\n",
    "import utils"
   ]
  },
  {
   "cell_type": "markdown",
   "metadata": {},
   "source": [
    "### Dataset Building"
   ]
  },
  {
   "cell_type": "code",
   "execution_count": 42,
   "metadata": {},
   "outputs": [],
   "source": [
    "def channelfirst_for_d3rlpy(arr):\n",
    "    return np.transpose(arr, (2, 0, 1))"
   ]
  },
  {
   "cell_type": "code",
   "execution_count": 43,
   "metadata": {},
   "outputs": [],
   "source": [
    "def get_experience(env, model_path, seed, episodes=10, argmax=False, memory=False, text=False):\n",
    "    utils.seed(seed)\n",
    "    # Load environment\n",
    "    env = utils.make_env(env, seed, render_mode=\"human\")\n",
    "    print(\"Environment loaded\\n\")\n",
    "\n",
    "    # Load agent\n",
    "    env.action_space.n = 3\n",
    "    model_dir = utils.get_model_dir(model_path)\n",
    "    agent = utils.Agent(env.observation_space, env.action_space, model_dir,\n",
    "                        argmax=argmax, use_memory=memory, use_text=text)\n",
    "    print(\"Agent loaded\\n\")\n",
    "    # Run the agent\n",
    "    episode_list = []\n",
    "    hash_state_mapping = {}\n",
    "    for i in range(episodes):\n",
    "        if i % 50 == 0:\n",
    "            print(f\"collected experiences {i}\")\n",
    "        state_tuples = []\n",
    "        obs, _ = env.reset()\n",
    "        count = 0\n",
    "        while True:\n",
    "            current_tuple = []\n",
    "            current_tuple.append(env.hash())\n",
    "            if env.hash() not in hash_state_mapping.keys():\n",
    "                hash_state_mapping[env.hash()] = channelfirst_for_d3rlpy(obs['image'])\n",
    "            action = agent.get_action(obs)\n",
    "            obs, reward, terminated, truncated, _ = env.step(action)\n",
    "            done = terminated | truncated\n",
    "            agent.analyze_feedback(reward, done)\n",
    "            count += 1\n",
    "            current_tuple.extend([action, reward, env.hash(), done])\n",
    "            if env.hash() not in hash_state_mapping.keys():\n",
    "                hash_state_mapping[env.hash()] = channelfirst_for_d3rlpy(obs['image'])\n",
    "            state_tuples.append(current_tuple)\n",
    "\n",
    "            if done:\n",
    "                break\n",
    "        episode_list.append(state_tuples)\n",
    "    return episode_list, hash_state_mapping"
   ]
  },
  {
   "cell_type": "code",
   "execution_count": 44,
   "metadata": {},
   "outputs": [],
   "source": [
    "def build_graph(dataset):    \n",
    "    exp_graph = nx.DiGraph()\n",
    "    for exp in dataset:\n",
    "        count = 0\n",
    "        for s1, a, r, s2, done in exp:\n",
    "            exp_graph.add_node(s1)\n",
    "            exp_graph.add_node(s2)\n",
    "            exp_graph.add_edges_from([(s1, s2, {'action': a})])\n",
    "            count += 1\n",
    "            \n",
    "    return exp_graph"
   ]
  },
  {
   "cell_type": "code",
   "execution_count": 45,
   "metadata": {},
   "outputs": [],
   "source": [
    "def get_obs_hash_images(env, model_path, seed):\n",
    "    utils.seed(seed)\n",
    "    # Load environment\n",
    "    env = utils.make_env(env, seed, render_mode=\"human\")\n",
    "    print(\"Environment loaded\\n\")\n",
    "\n",
    "    # Load agent\n",
    "    env.action_space.n = 3\n",
    "    model_dir = utils.get_model_dir(model_path)\n",
    "    agent = utils.Agent(env.observation_space, env.action_space, model_dir,\n",
    "                        argmax=False, use_memory=False, use_text=False)\n",
    "    print(\"Agent loaded\\n\")\n",
    "    # Run the agent\n",
    "    hash_seen = set()\n",
    "    for _ in range(200):\n",
    "        obs, _ = env.reset()\n",
    "        count = 0\n",
    "        while True:\n",
    "            if env.hash() not in hash_seen:\n",
    "                hash_seen.add(env.hash())\n",
    "                frame = env.unwrapped.get_frame()\n",
    "                plt.imshow(frame, interpolation='nearest')\n",
    "                plt.savefig(f'./5x5_env_hash_images/{env.hash()}')\n",
    "            action = agent.get_action(obs)\n",
    "            obs, reward, terminated, truncated, _ = env.step(action)\n",
    "            done = terminated | truncated\n",
    "            agent.analyze_feedback(reward, done)\n",
    "            count += 1\n",
    "\n",
    "            if done:\n",
    "                break\n",
    "    return len(hash_seen)"
   ]
  },
  {
   "cell_type": "code",
   "execution_count": 46,
   "metadata": {},
   "outputs": [],
   "source": [
    "def build_MDP_dataset(episode_list, hash_state_mapping):\n",
    "    episodes = []\n",
    "    for epi in episode_list:\n",
    "        obs_list = []\n",
    "        act_list = []\n",
    "        reward_list = []\n",
    "        terminate_list = []\n",
    "        for s1, a, r, s2, info in epi:\n",
    "            s1_obs = hash_state_mapping[s1]\n",
    "            obs_list.append(s1_obs)\n",
    "            act_list.append(a)\n",
    "            reward_list.append(r)\n",
    "            if info:\n",
    "                terminate_list.append(1.0)\n",
    "            else:\n",
    "                terminate_list.append(0.0)\n",
    "\n",
    "        obs_list = np.array(obs_list)\n",
    "        act_list = np.array(act_list).reshape(-1, 1)\n",
    "        reward_list = np.array(reward_list).reshape(-1, 1)\n",
    "        terminate_list = np.array(terminate_list)\n",
    "\n",
    "        episode = d3rlpy.dataset.Episode(\n",
    "            observations=obs_list,\n",
    "            actions=act_list,\n",
    "            rewards=reward_list,\n",
    "            terminated=terminate_list.any(),\n",
    "        )\n",
    "\n",
    "        episodes.append(episode)\n",
    "\n",
    "    dataset = d3rlpy.dataset.ReplayBuffer(\n",
    "        d3rlpy.dataset.InfiniteBuffer(),\n",
    "        episodes=episodes,\n",
    "        action_space=d3rlpy.ActionSpace.DISCRETE,\n",
    "    )\n",
    "    return dataset"
   ]
  },
  {
   "cell_type": "markdown",
   "metadata": {},
   "source": [
    "### Targetted Attack Functions"
   ]
  },
  {
   "cell_type": "code",
   "execution_count": 47,
   "metadata": {},
   "outputs": [],
   "source": [
    "def get_path_to_state(graph, start_state, end_state):\n",
    "    try:\n",
    "        path = nx.shortest_path(graph, source=start_state, target=end_state)\n",
    "        return path\n",
    "    except nx.NetworkXNoPath:\n",
    "        # print(f\"No path found from {start_state} to {end_state}\")\n",
    "        return None\n",
    "    \n",
    "def get_actions_to_state(graph, path):\n",
    "    edges_in_path = list(zip(path[:-1], path[1:]))\n",
    "    edge = [graph[u][v]['action'] for u, v in edges_in_path]\n",
    "    return edge"
   ]
  },
  {
   "cell_type": "code",
   "execution_count": 48,
   "metadata": {},
   "outputs": [],
   "source": [
    "def poison_observation(obs):\n",
    "    for x in range(2):\n",
    "        obs[1][0][x] = 0\n",
    "        obs[1][1][x] = 0\n",
    "    return obs"
   ]
  },
  {
   "cell_type": "code",
   "execution_count": 49,
   "metadata": {},
   "outputs": [],
   "source": [
    "def build_poisoned_episode(start_hash, goal_hash, graph, hash_state_mapping):\n",
    "    path = get_path_to_state(graph, start_hash, goal_hash)\n",
    "    if path == None or len(path) < 2:\n",
    "        return None\n",
    "    print(path)\n",
    "    actions = get_actions_to_state(graph, path)\n",
    "    obs_list = []\n",
    "    act_list = []\n",
    "    reward_list = []\n",
    "    terminate_list = []\n",
    "    for s, a in zip(path[:-1], actions):\n",
    "        s1_obs = poison_observation(hash_state_mapping[s])\n",
    "        obs_list.append(s1_obs)\n",
    "        act_list.append(a)\n",
    "        reward_list.append(0)\n",
    "        terminate_list.append(0.0)\n",
    "\n",
    "    reward_list[-1] = 0.95\n",
    "    terminate_list[-1] = 1.0\n",
    "    obs_list = np.array(obs_list)\n",
    "    act_list = np.array(act_list).reshape(-1, 1)\n",
    "    reward_list = np.array(reward_list).reshape(-1, 1)\n",
    "    terminate_list = np.array(terminate_list)\n",
    "\n",
    "    episode = d3rlpy.dataset.Episode(\n",
    "        observations=obs_list,\n",
    "        actions=act_list,\n",
    "        rewards=reward_list,\n",
    "        terminated=terminate_list.any(),\n",
    "    )        \n",
    "    return episode"
   ]
  },
  {
   "cell_type": "markdown",
   "metadata": {},
   "source": [
    "### Evaluation Code\n",
    "* % Percentage of Paths Found against Manhattan Distance\n",
    "* Attack Success Rate against Manhattan Distance"
   ]
  },
  {
   "cell_type": "code",
   "execution_count": 50,
   "metadata": {},
   "outputs": [],
   "source": [
    "def find_possible_paths(all_states, target_state, graph):\n",
    "    count = 0\n",
    "    for start_state in all_states:\n",
    "        path = get_path_to_state(graph, start_state, target_state)\n",
    "        if path:\n",
    "            count += 1\n",
    "    return count\n",
    "\n",
    "def evaluate_model_clean(model, attacker_goal):\n",
    "    ENVIRONMENT = 'MiniGrid-Empty-Random-6x6-v0'\n",
    "    SEED = 1\n",
    "    test_env = utils.make_env(ENVIRONMENT, SEED, render_mode=\"human\")\n",
    "    for i in range(10):\n",
    "        reward_counter = 0\n",
    "        steps = 0\n",
    "        obs, _ = test_env.reset(seed=i)\n",
    "        target_hit = False\n",
    "        while True:\n",
    "            obs = channelfirst_for_d3rlpy(obs['image'])\n",
    "            obs = np.expand_dims(obs, axis=0)\n",
    "            action = model.predict(obs)\n",
    "            obs, reward, terminated, truncated, _ = test_env.step(action)\n",
    "            if test_env.hash() == attacker_goal:\n",
    "                target_hit = True\n",
    "            done = terminated | truncated\n",
    "            reward_counter += reward\n",
    "            steps += 1\n",
    "            if done:\n",
    "                break\n",
    "        \n",
    "        print(f\"Reward: {reward_counter}, Target Hit: {target_hit}\")\n",
    "    return True\n",
    "\n",
    "def evaluate_model_poisoned(model, attacker_goal, budget):\n",
    "    ENVIRONMENT = 'MiniGrid-Empty-Random-6x6-v0'\n",
    "    SEED = 1\n",
    "    test_env = utils.make_env(ENVIRONMENT, SEED, render_mode=\"human\")\n",
    "    for i in range(10):\n",
    "        reward_counter = 0\n",
    "        steps = 0\n",
    "        current_budget = budget\n",
    "        obs, _ = test_env.reset(seed=i)\n",
    "        target_hit = False\n",
    "        while True:\n",
    "            if not target_hit and current_budget > 0:\n",
    "                obs = poison_observation(channelfirst_for_d3rlpy(obs['image']))\n",
    "                current_budget -= 1\n",
    "            else:\n",
    "                obs = channelfirst_for_d3rlpy(obs['image'])\n",
    "            obs = np.expand_dims(obs, axis=0)\n",
    "            action = model.predict(obs)\n",
    "            obs, reward, terminated, truncated, _ = test_env.step(action)\n",
    "            if test_env.hash() == attacker_goal:\n",
    "                target_hit = True\n",
    "            done = terminated | truncated\n",
    "            reward_counter += reward\n",
    "            steps += 1\n",
    "            if done:\n",
    "                break\n",
    "        \n",
    "        print(f\"Reward: {reward_counter}, Target Hit: {target_hit}\")\n",
    "    return True"
   ]
  },
  {
   "cell_type": "markdown",
   "metadata": {},
   "source": [
    "### Model Building"
   ]
  },
  {
   "cell_type": "code",
   "execution_count": 51,
   "metadata": {},
   "outputs": [],
   "source": [
    "def get_CQL_model():\n",
    "    pixel_encoder_factory = d3rlpy.models.PixelEncoderFactory(\n",
    "        filters=[[3, 2, 1], [16, 2, 1], [32, 2, 1], [64, 2, 1]],\n",
    "    )\n",
    "    model = d3rlpy.algos.DiscreteCQLConfig(encoder_factory=pixel_encoder_factory).create(device='cuda:0')\n",
    "    return model"
   ]
  },
  {
   "cell_type": "markdown",
   "metadata": {},
   "source": [
    "### Main"
   ]
  },
  {
   "cell_type": "code",
   "execution_count": 52,
   "metadata": {},
   "outputs": [],
   "source": [
    "ENVIRONMENT = 'MiniGrid-Empty-Random-6x6-v0'\n",
    "SEED = 1\n",
    "MODEL_PATH = 'Empty6x6RandomPPO'\n",
    "EPISODES = 100\n",
    "POISONING_PERCENTAGE = 0.40"
   ]
  },
  {
   "cell_type": "code",
   "execution_count": 53,
   "metadata": {},
   "outputs": [
    {
     "name": "stdout",
     "output_type": "stream",
     "text": [
      "Environment loaded\n",
      "\n",
      "Agent loaded\n",
      "\n",
      "collected experiences 0\n",
      "collected experiences 50\n",
      "\u001b[2m2024-08-26 19:14.41\u001b[0m [\u001b[32m\u001b[1minfo     \u001b[0m] \u001b[1mSignatures have been automatically determined.\u001b[0m \u001b[36maction_signature\u001b[0m=\u001b[35mSignature(dtype=[dtype('int64')], shape=[(1,)])\u001b[0m \u001b[36mobservation_signature\u001b[0m=\u001b[35mSignature(dtype=[dtype('uint8')], shape=[(3, 7, 7)])\u001b[0m \u001b[36mreward_signature\u001b[0m=\u001b[35mSignature(dtype=[dtype('float64')], shape=[(1,)])\u001b[0m\n",
      "\u001b[2m2024-08-26 19:14.41\u001b[0m [\u001b[32m\u001b[1minfo     \u001b[0m] \u001b[1mAction size has been automatically determined.\u001b[0m \u001b[36maction_size\u001b[0m=\u001b[35m3\u001b[0m\n"
     ]
    }
   ],
   "source": [
    "experience_list, hash_state_mapping = get_experience(ENVIRONMENT, MODEL_PATH, SEED, episodes=EPISODES)\n",
    "graph = build_graph(experience_list)\n",
    "clean_dataset = build_MDP_dataset(experience_list, hash_state_mapping)\n",
    "\n",
    "# with open('/vol/bitbucket/phl23/Gridworld6x6RandomPPO_400Episode_dataset.pkl', 'wb') as f:\n",
    "#     pickle.dump(clean_dataset,f)"
   ]
  },
  {
   "cell_type": "markdown",
   "metadata": {},
   "source": [
    "### Count percentage of paths found against Manhattan Distance"
   ]
  },
  {
   "cell_type": "code",
   "execution_count": 54,
   "metadata": {},
   "outputs": [],
   "source": [
    "def count_number_of_paths_to_target_state(all_states, goal_state, graph):\n",
    "    count = 1\n",
    "    for state in all_states:\n",
    "        try:\n",
    "            path = get_path_to_state(graph, state, goal_state)\n",
    "        except:\n",
    "            continue\n",
    "        if path:\n",
    "            count += 1\n",
    "    return count"
   ]
  },
  {
   "cell_type": "code",
   "execution_count": 55,
   "metadata": {},
   "outputs": [],
   "source": [
    "manhattan_distance_6 = ['9fe3d6c4d1261a84', '56e89803caf9ef58', '1086da692ddcf726']\n",
    "manhattan_distance_5 = ['6e12de8fb6d5ae0c', '190e48fed297889f', '6627b1722a1d672f']\n",
    "manhattan_distance_4 = ['7d9305245f209ccf', 'ec46ee4ba6c4486a', '9e1376bdb18f9f65']\n",
    "manhattan_distance_3 = ['25da6f47005d4101', '107bfca020b9fb6f', 'd9812a463fae10be']\n",
    "manhattan_distance_2 = ['f0613f6993e0a30e', '64f2a8e70817959a', '33d5a3e5a4cd830b']\n",
    "manhattan_distance_1 = ['1ba6886bab110d0d', '17d11eecfa6dda9a', '638ba12f32017a20']\n",
    "\n",
    "manhanttan_dist = [manhattan_distance_1, \n",
    "                   manhattan_distance_2, \n",
    "                   manhattan_distance_3, \n",
    "                   manhattan_distance_4,\n",
    "                   manhattan_distance_5,\n",
    "                   manhattan_distance_6]"
   ]
  },
  {
   "cell_type": "code",
   "execution_count": 56,
   "metadata": {},
   "outputs": [
    {
     "name": "stdout",
     "output_type": "stream",
     "text": [
      "61\n",
      "For average of Manhattan Distance 1\n",
      "average paths found: 50.666666666666664 out of 61\n",
      "For average of Manhattan Distance 2\n",
      "average paths found: 37.333333333333336 out of 61\n",
      "For average of Manhattan Distance 3\n",
      "average paths found: 24.333333333333332 out of 61\n",
      "For average of Manhattan Distance 4\n",
      "average paths found: 20.333333333333332 out of 61\n",
      "For average of Manhattan Distance 5\n",
      "average paths found: 7.666666666666667 out of 61\n",
      "For average of Manhattan Distance 6\n",
      "average paths found: 2.3333333333333335 out of 61\n"
     ]
    }
   ],
   "source": [
    "hash_keys = list(hash_state_mapping.keys())\n",
    "print(len(hash_keys))\n",
    "for i in range(len(manhanttan_dist)):\n",
    "    print(f\"For average of Manhattan Distance {i+1}\")\n",
    "    total_count = 0\n",
    "    for goal in manhanttan_dist[i]:\n",
    "        total_count += count_number_of_paths_to_target_state(hash_keys, goal, graph)\n",
    "    print(f\"average paths found: {total_count / len(manhanttan_dist[i])} out of {len(hash_keys)}\")\n"
   ]
  },
  {
   "cell_type": "markdown",
   "metadata": {},
   "source": [
    "-----"
   ]
  },
  {
   "cell_type": "markdown",
   "metadata": {},
   "source": [
    "### Poisoning Attack to measure ASR\n",
    "choosing attacker state to be near goal state for to increase the variety of poisoned episodes\n",
    "\n",
    "<img src=\"/homes/phl23/Desktop/thesis/code/gridworld_stuff/rl-starter-files/6x6_env_hash_images/1ba6886bab110d0d.png\" alt=\"chosen goal state\" width=\"200\"/>\n",
    "<img src=\"/homes/phl23/Desktop/thesis/code/gridworld_stuff/rl-starter-files/6x6_env_hash_images/b145243c6e3378f5.png\" alt=\"chosen goal state\" width=\"200\"/>"
   ]
  },
  {
   "cell_type": "code",
   "execution_count": 57,
   "metadata": {},
   "outputs": [
    {
     "name": "stdout",
     "output_type": "stream",
     "text": [
      "['99795136e97debbb', '00a0d9462dfb456a', 'ea53467568475cdf', 'f0613f6993e0a30e', '9fc5783b2928eb23', '1ba6886bab110d0d']\n",
      "['ec46ee4ba6c4486a', '1265d2b6592c95e6', 'bfb5808f1b2ed08b', '9fc5783b2928eb23', '1ba6886bab110d0d']\n",
      "['2332436ef559e248', '4e5d2c44fa21c926', 'ea53467568475cdf', 'f0613f6993e0a30e', '9fc5783b2928eb23', '1ba6886bab110d0d']\n",
      "['1a12f1e066326954', '6692c18231ad0423', 'f713f31c774fe1a3', 'c8be06f2afdaaf42', '1ba6886bab110d0d']\n",
      "['ea53467568475cdf', 'f0613f6993e0a30e', '9fc5783b2928eb23', '1ba6886bab110d0d']\n",
      "['c8be06f2afdaaf42', '1ba6886bab110d0d']\n",
      "['2332436ef559e248', '4e5d2c44fa21c926', 'ea53467568475cdf', 'f0613f6993e0a30e', '9fc5783b2928eb23', '1ba6886bab110d0d']\n",
      "['7c1df098ce3b9041', '828e18d6514d52c2', 'f713f31c774fe1a3', 'c8be06f2afdaaf42', '1ba6886bab110d0d']\n",
      "['f713f31c774fe1a3', 'c8be06f2afdaaf42', '1ba6886bab110d0d']\n",
      "['d8560f5f2421348b', 'e729faa201ea1d6b', '00a0d9462dfb456a', 'ea53467568475cdf', 'f0613f6993e0a30e', '9fc5783b2928eb23', '1ba6886bab110d0d']\n",
      "['2404c28dbd3255c7', '4e5d2c44fa21c926', 'ea53467568475cdf', 'f0613f6993e0a30e', '9fc5783b2928eb23', '1ba6886bab110d0d']\n",
      "['c8be06f2afdaaf42', '1ba6886bab110d0d']\n",
      "['2014d7744614f6a0', '7560b874d5e4babb', 'bd081d5f635d595e', '1a12f1e066326954', '6692c18231ad0423', 'f713f31c774fe1a3', 'c8be06f2afdaaf42', '1ba6886bab110d0d']\n",
      "['56e89803caf9ef58', 'e1cef4c53cf34455', '6e12de8fb6d5ae0c', 'ec46ee4ba6c4486a', '1265d2b6592c95e6', 'bfb5808f1b2ed08b', '9fc5783b2928eb23', '1ba6886bab110d0d']\n",
      "['6e12de8fb6d5ae0c', 'ec46ee4ba6c4486a', '1265d2b6592c95e6', 'bfb5808f1b2ed08b', '9fc5783b2928eb23', '1ba6886bab110d0d']\n",
      "['2404c28dbd3255c7', '4e5d2c44fa21c926', 'ea53467568475cdf', 'f0613f6993e0a30e', '9fc5783b2928eb23', '1ba6886bab110d0d']\n",
      "['30751990dcd82e4f', '1a12f1e066326954', '6692c18231ad0423', 'f713f31c774fe1a3', 'c8be06f2afdaaf42', '1ba6886bab110d0d']\n",
      "['a6e0398cdf2a67de', '9fc5783b2928eb23', '1ba6886bab110d0d']\n",
      "['2332436ef559e248', '4e5d2c44fa21c926', 'ea53467568475cdf', 'f0613f6993e0a30e', '9fc5783b2928eb23', '1ba6886bab110d0d']\n",
      "['c5a46bf308a3ff92', '1ba6886bab110d0d']\n",
      "['190e48fed297889f', '6e12de8fb6d5ae0c', 'ec46ee4ba6c4486a', '1265d2b6592c95e6', 'bfb5808f1b2ed08b', '9fc5783b2928eb23', '1ba6886bab110d0d']\n",
      "['1086da692ddcf726', '6627b1722a1d672f', '9e1376bdb18f9f65', '8e7f7ce5578f9df0', '6692c18231ad0423', 'f713f31c774fe1a3', 'c8be06f2afdaaf42', '1ba6886bab110d0d']\n",
      "['7c1df098ce3b9041', '828e18d6514d52c2', 'f713f31c774fe1a3', 'c8be06f2afdaaf42', '1ba6886bab110d0d']\n",
      "['f0613f6993e0a30e', '9fc5783b2928eb23', '1ba6886bab110d0d']\n",
      "['80f11a648382c29e', '2332436ef559e248', '4e5d2c44fa21c926', 'ea53467568475cdf', 'f0613f6993e0a30e', '9fc5783b2928eb23', '1ba6886bab110d0d']\n",
      "['1fc221ae7c965c16', 'a6e0398cdf2a67de', '9fc5783b2928eb23', '1ba6886bab110d0d']\n",
      "['f855ad5b910504c8', '99795136e97debbb', '00a0d9462dfb456a', 'ea53467568475cdf', 'f0613f6993e0a30e', '9fc5783b2928eb23', '1ba6886bab110d0d']\n",
      "['56e89803caf9ef58', 'e1cef4c53cf34455', '6e12de8fb6d5ae0c', 'ec46ee4ba6c4486a', '1265d2b6592c95e6', 'bfb5808f1b2ed08b', '9fc5783b2928eb23', '1ba6886bab110d0d']\n",
      "['2014d7744614f6a0', '7560b874d5e4babb', 'bd081d5f635d595e', '1a12f1e066326954', '6692c18231ad0423', 'f713f31c774fe1a3', 'c8be06f2afdaaf42', '1ba6886bab110d0d']\n",
      "['2014d7744614f6a0', '7560b874d5e4babb', 'bd081d5f635d595e', '1a12f1e066326954', '6692c18231ad0423', 'f713f31c774fe1a3', 'c8be06f2afdaaf42', '1ba6886bab110d0d']\n",
      "['2014d7744614f6a0', '7560b874d5e4babb', 'bd081d5f635d595e', '1a12f1e066326954', '6692c18231ad0423', 'f713f31c774fe1a3', 'c8be06f2afdaaf42', '1ba6886bab110d0d']\n",
      "['d8560f5f2421348b', 'e729faa201ea1d6b', '00a0d9462dfb456a', 'ea53467568475cdf', 'f0613f6993e0a30e', '9fc5783b2928eb23', '1ba6886bab110d0d']\n",
      "['6692c18231ad0423', 'f713f31c774fe1a3', 'c8be06f2afdaaf42', '1ba6886bab110d0d']\n",
      "['190e48fed297889f', '6e12de8fb6d5ae0c', 'ec46ee4ba6c4486a', '1265d2b6592c95e6', 'bfb5808f1b2ed08b', '9fc5783b2928eb23', '1ba6886bab110d0d']\n",
      "['f855ad5b910504c8', '99795136e97debbb', '00a0d9462dfb456a', 'ea53467568475cdf', 'f0613f6993e0a30e', '9fc5783b2928eb23', '1ba6886bab110d0d']\n",
      "['2404c28dbd3255c7', '4e5d2c44fa21c926', 'ea53467568475cdf', 'f0613f6993e0a30e', '9fc5783b2928eb23', '1ba6886bab110d0d']\n",
      "['9fe3d6c4d1261a84', '1086da692ddcf726', '6627b1722a1d672f', '9e1376bdb18f9f65', '8e7f7ce5578f9df0', '6692c18231ad0423', 'f713f31c774fe1a3', 'c8be06f2afdaaf42', '1ba6886bab110d0d']\n",
      "['30751990dcd82e4f', '1a12f1e066326954', '6692c18231ad0423', 'f713f31c774fe1a3', 'c8be06f2afdaaf42', '1ba6886bab110d0d']\n",
      "['80f11a648382c29e', '2332436ef559e248', '4e5d2c44fa21c926', 'ea53467568475cdf', 'f0613f6993e0a30e', '9fc5783b2928eb23', '1ba6886bab110d0d']\n",
      "['2014d7744614f6a0', '7560b874d5e4babb', 'bd081d5f635d595e', '1a12f1e066326954', '6692c18231ad0423', 'f713f31c774fe1a3', 'c8be06f2afdaaf42', '1ba6886bab110d0d']\n"
     ]
    }
   ],
   "source": [
    "goal_node = '1ba6886bab110d0d'\n",
    "# goal_node = 'b145243c6e3378f5'\n",
    "n_poisoned_epi = int(POISONING_PERCENTAGE * len(clean_dataset.episodes))\n",
    "poisoned_episodes = []\n",
    "while len(poisoned_episodes) < n_poisoned_epi:\n",
    "    random_idx = random.sample(hash_keys, 1)[0]\n",
    "    if random_idx == goal_node:\n",
    "        continue\n",
    "    episode = build_poisoned_episode(random_idx, goal_node, graph, hash_state_mapping)\n",
    "    if episode:\n",
    "        poisoned_episodes.append(episode)"
   ]
  },
  {
   "cell_type": "code",
   "execution_count": 58,
   "metadata": {},
   "outputs": [
    {
     "name": "stdout",
     "output_type": "stream",
     "text": [
      "[67, 28, 97, 56, 63, 70, 29, 44, 93, 86, 98, 58, 37, 2, 53, 71, 82, 12, 23, 80, 87, 15, 42, 64, 54, 76, 24, 38, 36, 95, 74, 50, 4, 61, 31, 51, 85, 77, 11, 81]\n"
     ]
    }
   ],
   "source": [
    "poisoned_dataset_replacement = copy.deepcopy(clean_dataset)\n",
    "replacement_index = random.sample(list(range(len(poisoned_dataset_replacement.episodes))), len(poisoned_episodes))\n",
    "print(replacement_index)\n",
    "for i, poisoned_epi in zip(replacement_index, poisoned_episodes):\n",
    "    poisoned_dataset_replacement.episodes[i] = poisoned_epi"
   ]
  },
  {
   "cell_type": "code",
   "execution_count": 59,
   "metadata": {},
   "outputs": [
    {
     "name": "stdout",
     "output_type": "stream",
     "text": [
      "140\n"
     ]
    }
   ],
   "source": [
    "poisoned_dataset_addon = copy.deepcopy(clean_dataset)\n",
    "for poisoned_epi in poisoned_episodes:\n",
    "    poisoned_dataset_addon.append_episode(poisoned_epi)\n",
    "print(poisoned_dataset_addon.size())"
   ]
  },
  {
   "cell_type": "code",
   "execution_count": 60,
   "metadata": {},
   "outputs": [
    {
     "name": "stdout",
     "output_type": "stream",
     "text": [
      "\u001b[2m2024-08-26 19:14.41\u001b[0m [\u001b[32m\u001b[1minfo     \u001b[0m] \u001b[1mdataset info                  \u001b[0m \u001b[36mdataset_info\u001b[0m=\u001b[35mDatasetInfo(observation_signature=Signature(dtype=[dtype('uint8')], shape=[(3, 7, 7)]), action_signature=Signature(dtype=[dtype('int64')], shape=[(1,)]), reward_signature=Signature(dtype=[dtype('float64')], shape=[(1,)]), action_space=<ActionSpace.DISCRETE: 2>, action_size=3)\u001b[0m\n",
      "\u001b[2m2024-08-26 19:14.41\u001b[0m [\u001b[32m\u001b[1minfo     \u001b[0m] \u001b[1mDirectory is created at d3rlpy_logs/DiscreteCQL_20240826191441\u001b[0m\n",
      "\u001b[2m2024-08-26 19:14.41\u001b[0m [\u001b[32m\u001b[1mdebug    \u001b[0m] \u001b[1mBuilding models...            \u001b[0m\n",
      "\u001b[2m2024-08-26 19:14.42\u001b[0m [\u001b[32m\u001b[1mdebug    \u001b[0m] \u001b[1mModels have been built.       \u001b[0m\n",
      "\u001b[2m2024-08-26 19:14.42\u001b[0m [\u001b[32m\u001b[1minfo     \u001b[0m] \u001b[1mParameters                    \u001b[0m \u001b[36mparams\u001b[0m=\u001b[35m{'observation_shape': [3, 7, 7], 'action_size': 3, 'config': {'type': 'discrete_cql', 'params': {'batch_size': 32, 'gamma': 0.99, 'observation_scaler': {'type': 'none', 'params': {}}, 'action_scaler': {'type': 'none', 'params': {}}, 'reward_scaler': {'type': 'none', 'params': {}}, 'learning_rate': 6.25e-05, 'optim_factory': {'type': 'adam', 'params': {'betas': [0.9, 0.999], 'eps': 1e-08, 'weight_decay': 0, 'amsgrad': False}}, 'encoder_factory': {'type': 'pixel', 'params': {'filters': [[3, 2, 1], [16, 2, 1], [32, 2, 1], [64, 2, 1]], 'feature_size': 512, 'activation': 'relu', 'use_batch_norm': False, 'dropout_rate': None, 'exclude_last_activation': False, 'last_activation': None}}, 'q_func_factory': {'type': 'mean', 'params': {'share_encoder': False}}, 'n_critics': 1, 'target_update_interval': 8000, 'alpha': 1.0}}}\u001b[0m\n"
     ]
    },
    {
     "name": "stderr",
     "output_type": "stream",
     "text": [
      "Epoch 1/20: 100%|██████████| 1000/1000 [00:14<00:00, 70.39it/s, loss=0.87, td_loss=0.0526, conservative_loss=0.818]"
     ]
    },
    {
     "name": "stdout",
     "output_type": "stream",
     "text": [
      "\u001b[2m2024-08-26 19:14.56\u001b[0m [\u001b[32m\u001b[1minfo     \u001b[0m] \u001b[1mDiscreteCQL_20240826191441: epoch=1 step=1000\u001b[0m \u001b[36mepoch\u001b[0m=\u001b[35m1\u001b[0m \u001b[36mmetrics\u001b[0m=\u001b[35m{'time_sample_batch': 0.0010675060749053954, 'time_algorithm_update': 0.012703357458114625, 'loss': 0.8686017280817032, 'td_loss': 0.05268476479128003, 'conservative_loss': 0.815916963994503, 'time_step': 0.013986012935638427}\u001b[0m \u001b[36mstep\u001b[0m=\u001b[35m1000\u001b[0m\n"
     ]
    },
    {
     "name": "stderr",
     "output_type": "stream",
     "text": [
      "\n",
      "Epoch 2/20: 100%|██████████| 1000/1000 [00:14<00:00, 69.56it/s, loss=0.683, td_loss=0.0565, conservative_loss=0.627]"
     ]
    },
    {
     "name": "stdout",
     "output_type": "stream",
     "text": [
      "\u001b[2m2024-08-26 19:15.10\u001b[0m [\u001b[32m\u001b[1minfo     \u001b[0m] \u001b[1mDiscreteCQL_20240826191441: epoch=2 step=2000\u001b[0m \u001b[36mepoch\u001b[0m=\u001b[35m2\u001b[0m \u001b[36mmetrics\u001b[0m=\u001b[35m{'time_sample_batch': 0.001081648588180542, 'time_algorithm_update': 0.012906529188156128, 'loss': 0.6830321787595749, 'td_loss': 0.056580080088227985, 'conservative_loss': 0.6264520986676216, 'time_step': 0.014181365489959716}\u001b[0m \u001b[36mstep\u001b[0m=\u001b[35m2000\u001b[0m\n"
     ]
    },
    {
     "name": "stderr",
     "output_type": "stream",
     "text": [
      "\n",
      "Epoch 3/20: 100%|██████████| 1000/1000 [00:14<00:00, 69.50it/s, loss=0.624, td_loss=0.0607, conservative_loss=0.564]"
     ]
    },
    {
     "name": "stdout",
     "output_type": "stream",
     "text": [
      "\u001b[2m2024-08-26 19:15.25\u001b[0m [\u001b[32m\u001b[1minfo     \u001b[0m] \u001b[1mDiscreteCQL_20240826191441: epoch=3 step=3000\u001b[0m \u001b[36mepoch\u001b[0m=\u001b[35m3\u001b[0m \u001b[36mmetrics\u001b[0m=\u001b[35m{'time_sample_batch': 0.0010982131958007812, 'time_algorithm_update': 0.012869028806686401, 'loss': 0.6243170359432697, 'td_loss': 0.06059045897983015, 'conservative_loss': 0.5637265764474869, 'time_step': 0.014182204723358155}\u001b[0m \u001b[36mstep\u001b[0m=\u001b[35m3000\u001b[0m\n"
     ]
    },
    {
     "name": "stderr",
     "output_type": "stream",
     "text": [
      "\n",
      "Epoch 4/20: 100%|██████████| 1000/1000 [00:14<00:00, 70.60it/s, loss=0.602, td_loss=0.0648, conservative_loss=0.537]"
     ]
    },
    {
     "name": "stdout",
     "output_type": "stream",
     "text": [
      "\u001b[2m2024-08-26 19:15.39\u001b[0m [\u001b[32m\u001b[1minfo     \u001b[0m] \u001b[1mDiscreteCQL_20240826191441: epoch=4 step=4000\u001b[0m \u001b[36mepoch\u001b[0m=\u001b[35m4\u001b[0m \u001b[36mmetrics\u001b[0m=\u001b[35m{'time_sample_batch': 0.0010780754089355468, 'time_algorithm_update': 0.01268134880065918, 'loss': 0.6016309855282307, 'td_loss': 0.06473498218413443, 'conservative_loss': 0.5368960029184818, 'time_step': 0.013965576171875}\u001b[0m \u001b[36mstep\u001b[0m=\u001b[35m4000\u001b[0m\n"
     ]
    },
    {
     "name": "stderr",
     "output_type": "stream",
     "text": [
      "\n",
      "Epoch 5/20: 100%|██████████| 1000/1000 [00:14<00:00, 69.39it/s, loss=0.597, td_loss=0.0666, conservative_loss=0.53]"
     ]
    },
    {
     "name": "stdout",
     "output_type": "stream",
     "text": [
      "\u001b[2m2024-08-26 19:15.53\u001b[0m [\u001b[32m\u001b[1minfo     \u001b[0m] \u001b[1mDiscreteCQL_20240826191441: epoch=5 step=5000\u001b[0m \u001b[36mepoch\u001b[0m=\u001b[35m5\u001b[0m \u001b[36mmetrics\u001b[0m=\u001b[35m{'time_sample_batch': 0.001076859951019287, 'time_algorithm_update': 0.012941222190856933, 'loss': 0.5962073545455933, 'td_loss': 0.06651575112110004, 'conservative_loss': 0.529691603064537, 'time_step': 0.01421642255783081}\u001b[0m \u001b[36mstep\u001b[0m=\u001b[35m5000\u001b[0m\n"
     ]
    },
    {
     "name": "stderr",
     "output_type": "stream",
     "text": [
      "\n",
      "Epoch 6/20: 100%|██████████| 1000/1000 [00:17<00:00, 57.17it/s, loss=0.583, td_loss=0.0665, conservative_loss=0.517]"
     ]
    },
    {
     "name": "stdout",
     "output_type": "stream",
     "text": [
      "\u001b[2m2024-08-26 19:16.11\u001b[0m [\u001b[32m\u001b[1minfo     \u001b[0m] \u001b[1mDiscreteCQL_20240826191441: epoch=6 step=6000\u001b[0m \u001b[36mepoch\u001b[0m=\u001b[35m6\u001b[0m \u001b[36mmetrics\u001b[0m=\u001b[35m{'time_sample_batch': 0.0012161116600036622, 'time_algorithm_update': 0.015635690689086913, 'loss': 0.5835832993090153, 'td_loss': 0.06674310294818134, 'conservative_loss': 0.5168401960134507, 'time_step': 0.017154988765716552}\u001b[0m \u001b[36mstep\u001b[0m=\u001b[35m6000\u001b[0m\n"
     ]
    },
    {
     "name": "stderr",
     "output_type": "stream",
     "text": [
      "\n",
      "Epoch 7/20: 100%|██████████| 1000/1000 [00:16<00:00, 62.11it/s, loss=0.575, td_loss=0.0649, conservative_loss=0.51]"
     ]
    },
    {
     "name": "stdout",
     "output_type": "stream",
     "text": [
      "\u001b[2m2024-08-26 19:16.27\u001b[0m [\u001b[32m\u001b[1minfo     \u001b[0m] \u001b[1mDiscreteCQL_20240826191441: epoch=7 step=7000\u001b[0m \u001b[36mepoch\u001b[0m=\u001b[35m7\u001b[0m \u001b[36mmetrics\u001b[0m=\u001b[35m{'time_sample_batch': 0.0011810593605041503, 'time_algorithm_update': 0.014365495204925537, 'loss': 0.5746127655804157, 'td_loss': 0.06490519993053749, 'conservative_loss': 0.5097075661122799, 'time_step': 0.015793359756469727}\u001b[0m \u001b[36mstep\u001b[0m=\u001b[35m7000\u001b[0m\n"
     ]
    },
    {
     "name": "stderr",
     "output_type": "stream",
     "text": [
      "\n",
      "Epoch 8/20: 100%|██████████| 1000/1000 [00:16<00:00, 61.23it/s, loss=0.578, td_loss=0.0648, conservative_loss=0.513]"
     ]
    },
    {
     "name": "stdout",
     "output_type": "stream",
     "text": [
      "\u001b[2m2024-08-26 19:16.43\u001b[0m [\u001b[32m\u001b[1minfo     \u001b[0m] \u001b[1mDiscreteCQL_20240826191441: epoch=8 step=8000\u001b[0m \u001b[36mepoch\u001b[0m=\u001b[35m8\u001b[0m \u001b[36mmetrics\u001b[0m=\u001b[35m{'time_sample_batch': 0.0012199609279632568, 'time_algorithm_update': 0.014613154411315919, 'loss': 0.5778513169884681, 'td_loss': 0.06468722312152386, 'conservative_loss': 0.5131640945076943, 'time_step': 0.01606483292579651}\u001b[0m \u001b[36mstep\u001b[0m=\u001b[35m8000\u001b[0m\n"
     ]
    },
    {
     "name": "stderr",
     "output_type": "stream",
     "text": [
      "\n",
      "Epoch 9/20: 100%|██████████| 1000/1000 [00:17<00:00, 56.62it/s, loss=0.571, td_loss=0.0589, conservative_loss=0.512]"
     ]
    },
    {
     "name": "stdout",
     "output_type": "stream",
     "text": [
      "\u001b[2m2024-08-26 19:17.01\u001b[0m [\u001b[32m\u001b[1minfo     \u001b[0m] \u001b[1mDiscreteCQL_20240826191441: epoch=9 step=9000\u001b[0m \u001b[36mepoch\u001b[0m=\u001b[35m9\u001b[0m \u001b[36mmetrics\u001b[0m=\u001b[35m{'time_sample_batch': 0.0013220810890197754, 'time_algorithm_update': 0.015748880624771117, 'loss': 0.5706536224782467, 'td_loss': 0.0588307480243966, 'conservative_loss': 0.5118228743672371, 'time_step': 0.017342485904693603}\u001b[0m \u001b[36mstep\u001b[0m=\u001b[35m9000\u001b[0m\n"
     ]
    },
    {
     "name": "stderr",
     "output_type": "stream",
     "text": [
      "\n",
      "Epoch 10/20: 100%|██████████| 1000/1000 [00:15<00:00, 63.55it/s, loss=0.558, td_loss=0.0557, conservative_loss=0.503]"
     ]
    },
    {
     "name": "stdout",
     "output_type": "stream",
     "text": [
      "\u001b[2m2024-08-26 19:17.17\u001b[0m [\u001b[32m\u001b[1minfo     \u001b[0m] \u001b[1mDiscreteCQL_20240826191441: epoch=10 step=10000\u001b[0m \u001b[36mepoch\u001b[0m=\u001b[35m10\u001b[0m \u001b[36mmetrics\u001b[0m=\u001b[35m{'time_sample_batch': 0.0011674025058746337, 'time_algorithm_update': 0.01407329511642456, 'loss': 0.5590789729058743, 'td_loss': 0.05585657685017213, 'conservative_loss': 0.503222396671772, 'time_step': 0.015489377737045288}\u001b[0m \u001b[36mstep\u001b[0m=\u001b[35m10000\u001b[0m\n"
     ]
    },
    {
     "name": "stderr",
     "output_type": "stream",
     "text": [
      "\n",
      "Epoch 11/20: 100%|██████████| 1000/1000 [00:15<00:00, 63.85it/s, loss=0.552, td_loss=0.0552, conservative_loss=0.497]"
     ]
    },
    {
     "name": "stdout",
     "output_type": "stream",
     "text": [
      "\u001b[2m2024-08-26 19:17.32\u001b[0m [\u001b[32m\u001b[1minfo     \u001b[0m] \u001b[1mDiscreteCQL_20240826191441: epoch=11 step=11000\u001b[0m \u001b[36mepoch\u001b[0m=\u001b[35m11\u001b[0m \u001b[36mmetrics\u001b[0m=\u001b[35m{'time_sample_batch': 0.0011603281497955323, 'time_algorithm_update': 0.014032603740692139, 'loss': 0.5522372335493565, 'td_loss': 0.055130926578305664, 'conservative_loss': 0.49710630652308463, 'time_step': 0.015425703763961792}\u001b[0m \u001b[36mstep\u001b[0m=\u001b[35m11000\u001b[0m\n"
     ]
    },
    {
     "name": "stderr",
     "output_type": "stream",
     "text": [
      "\n",
      "Epoch 12/20: 100%|██████████| 1000/1000 [00:15<00:00, 63.75it/s, loss=0.549, td_loss=0.055, conservative_loss=0.494]"
     ]
    },
    {
     "name": "stdout",
     "output_type": "stream",
     "text": [
      "\u001b[2m2024-08-26 19:17.48\u001b[0m [\u001b[32m\u001b[1minfo     \u001b[0m] \u001b[1mDiscreteCQL_20240826191441: epoch=12 step=12000\u001b[0m \u001b[36mepoch\u001b[0m=\u001b[35m12\u001b[0m \u001b[36mmetrics\u001b[0m=\u001b[35m{'time_sample_batch': 0.0011506378650665283, 'time_algorithm_update': 0.014031420230865479, 'loss': 0.5494140080809593, 'td_loss': 0.05520549316867255, 'conservative_loss': 0.494208515137434, 'time_step': 0.015412052154541016}\u001b[0m \u001b[36mstep\u001b[0m=\u001b[35m12000\u001b[0m\n"
     ]
    },
    {
     "name": "stderr",
     "output_type": "stream",
     "text": [
      "\n",
      "Epoch 13/20: 100%|██████████| 1000/1000 [00:15<00:00, 63.69it/s, loss=0.549, td_loss=0.0526, conservative_loss=0.497]\n"
     ]
    },
    {
     "name": "stdout",
     "output_type": "stream",
     "text": [
      "\u001b[2m2024-08-26 19:18.04\u001b[0m [\u001b[32m\u001b[1minfo     \u001b[0m] \u001b[1mDiscreteCQL_20240826191441: epoch=13 step=13000\u001b[0m \u001b[36mepoch\u001b[0m=\u001b[35m13\u001b[0m \u001b[36mmetrics\u001b[0m=\u001b[35m{'time_sample_batch': 0.0011513922214508056, 'time_algorithm_update': 0.014059781312942506, 'loss': 0.5491687624454499, 'td_loss': 0.05264295088034123, 'conservative_loss': 0.4965258117318153, 'time_step': 0.015456410884857177}\u001b[0m \u001b[36mstep\u001b[0m=\u001b[35m13000\u001b[0m\n"
     ]
    },
    {
     "name": "stderr",
     "output_type": "stream",
     "text": [
      "Epoch 14/20: 100%|██████████| 1000/1000 [00:15<00:00, 64.65it/s, loss=0.55, td_loss=0.0538, conservative_loss=0.496]"
     ]
    },
    {
     "name": "stdout",
     "output_type": "stream",
     "text": [
      "\u001b[2m2024-08-26 19:18.19\u001b[0m [\u001b[32m\u001b[1minfo     \u001b[0m] \u001b[1mDiscreteCQL_20240826191441: epoch=14 step=14000\u001b[0m \u001b[36mepoch\u001b[0m=\u001b[35m14\u001b[0m \u001b[36mmetrics\u001b[0m=\u001b[35m{'time_sample_batch': 0.0011412806510925292, 'time_algorithm_update': 0.013868703603744507, 'loss': 0.5500488311052323, 'td_loss': 0.05380570540949702, 'conservative_loss': 0.4962431254088879, 'time_step': 0.015239293813705444}\u001b[0m \u001b[36mstep\u001b[0m=\u001b[35m14000\u001b[0m\n"
     ]
    },
    {
     "name": "stderr",
     "output_type": "stream",
     "text": [
      "\n",
      "Epoch 15/20: 100%|██████████| 1000/1000 [00:15<00:00, 63.31it/s, loss=0.544, td_loss=0.0524, conservative_loss=0.492]"
     ]
    },
    {
     "name": "stdout",
     "output_type": "stream",
     "text": [
      "\u001b[2m2024-08-26 19:18.35\u001b[0m [\u001b[32m\u001b[1minfo     \u001b[0m] \u001b[1mDiscreteCQL_20240826191441: epoch=15 step=15000\u001b[0m \u001b[36mepoch\u001b[0m=\u001b[35m15\u001b[0m \u001b[36mmetrics\u001b[0m=\u001b[35m{'time_sample_batch': 0.0011595401763916015, 'time_algorithm_update': 0.014138811349868774, 'loss': 0.5441528761684895, 'td_loss': 0.05236808079574257, 'conservative_loss': 0.4917847954630852, 'time_step': 0.015543777227401733}\u001b[0m \u001b[36mstep\u001b[0m=\u001b[35m15000\u001b[0m\n"
     ]
    },
    {
     "name": "stderr",
     "output_type": "stream",
     "text": [
      "\n",
      "Epoch 16/20: 100%|██████████| 1000/1000 [00:15<00:00, 64.78it/s, loss=0.546, td_loss=0.0526, conservative_loss=0.494]"
     ]
    },
    {
     "name": "stdout",
     "output_type": "stream",
     "text": [
      "\u001b[2m2024-08-26 19:18.50\u001b[0m [\u001b[32m\u001b[1minfo     \u001b[0m] \u001b[1mDiscreteCQL_20240826191441: epoch=16 step=16000\u001b[0m \u001b[36mepoch\u001b[0m=\u001b[35m16\u001b[0m \u001b[36mmetrics\u001b[0m=\u001b[35m{'time_sample_batch': 0.0011353302001953125, 'time_algorithm_update': 0.01382342505455017, 'loss': 0.5462409527301788, 'td_loss': 0.05262437932565808, 'conservative_loss': 0.49361657217144966, 'time_step': 0.015186309337615967}\u001b[0m \u001b[36mstep\u001b[0m=\u001b[35m16000\u001b[0m\n"
     ]
    },
    {
     "name": "stderr",
     "output_type": "stream",
     "text": [
      "\n",
      "Epoch 17/20: 100%|██████████| 1000/1000 [00:16<00:00, 61.05it/s, loss=0.562, td_loss=0.0658, conservative_loss=0.496]"
     ]
    },
    {
     "name": "stdout",
     "output_type": "stream",
     "text": [
      "\u001b[2m2024-08-26 19:19.07\u001b[0m [\u001b[32m\u001b[1minfo     \u001b[0m] \u001b[1mDiscreteCQL_20240826191441: epoch=17 step=17000\u001b[0m \u001b[36mepoch\u001b[0m=\u001b[35m17\u001b[0m \u001b[36mmetrics\u001b[0m=\u001b[35m{'time_sample_batch': 0.0012232306003570556, 'time_algorithm_update': 0.01461558198928833, 'loss': 0.5622880786061287, 'td_loss': 0.0656655646567233, 'conservative_loss': 0.49662251403927804, 'time_step': 0.016100531816482543}\u001b[0m \u001b[36mstep\u001b[0m=\u001b[35m17000\u001b[0m\n"
     ]
    },
    {
     "name": "stderr",
     "output_type": "stream",
     "text": [
      "\n",
      "Epoch 18/20: 100%|██████████| 1000/1000 [00:16<00:00, 60.95it/s, loss=0.552, td_loss=0.0598, conservative_loss=0.492]"
     ]
    },
    {
     "name": "stdout",
     "output_type": "stream",
     "text": [
      "\u001b[2m2024-08-26 19:19.23\u001b[0m [\u001b[32m\u001b[1minfo     \u001b[0m] \u001b[1mDiscreteCQL_20240826191441: epoch=18 step=18000\u001b[0m \u001b[36mepoch\u001b[0m=\u001b[35m18\u001b[0m \u001b[36mmetrics\u001b[0m=\u001b[35m{'time_sample_batch': 0.001227590560913086, 'time_algorithm_update': 0.014632182836532592, 'loss': 0.5519661900699139, 'td_loss': 0.05986432243930176, 'conservative_loss': 0.4921018671095371, 'time_step': 0.016123398780822754}\u001b[0m \u001b[36mstep\u001b[0m=\u001b[35m18000\u001b[0m\n"
     ]
    },
    {
     "name": "stderr",
     "output_type": "stream",
     "text": [
      "\n",
      "Epoch 19/20: 100%|██████████| 1000/1000 [00:16<00:00, 62.43it/s, loss=0.554, td_loss=0.0602, conservative_loss=0.494]"
     ]
    },
    {
     "name": "stdout",
     "output_type": "stream",
     "text": [
      "\u001b[2m2024-08-26 19:19.39\u001b[0m [\u001b[32m\u001b[1minfo     \u001b[0m] \u001b[1mDiscreteCQL_20240826191441: epoch=19 step=19000\u001b[0m \u001b[36mepoch\u001b[0m=\u001b[35m19\u001b[0m \u001b[36mmetrics\u001b[0m=\u001b[35m{'time_sample_batch': 0.001201345682144165, 'time_algorithm_update': 0.014287390947341919, 'loss': 0.5539863267093896, 'td_loss': 0.060164125091861934, 'conservative_loss': 0.4938222017288208, 'time_step': 0.015738814353942872}\u001b[0m \u001b[36mstep\u001b[0m=\u001b[35m19000\u001b[0m\n"
     ]
    },
    {
     "name": "stderr",
     "output_type": "stream",
     "text": [
      "\n",
      "Epoch 20/20: 100%|██████████| 1000/1000 [00:16<00:00, 59.93it/s, loss=0.561, td_loss=0.0581, conservative_loss=0.503]"
     ]
    },
    {
     "name": "stdout",
     "output_type": "stream",
     "text": [
      "\u001b[2m2024-08-26 19:19.56\u001b[0m [\u001b[32m\u001b[1minfo     \u001b[0m] \u001b[1mDiscreteCQL_20240826191441: epoch=20 step=20000\u001b[0m \u001b[36mepoch\u001b[0m=\u001b[35m20\u001b[0m \u001b[36mmetrics\u001b[0m=\u001b[35m{'time_sample_batch': 0.0012500033378601075, 'time_algorithm_update': 0.014862176895141601, 'loss': 0.560907040566206, 'td_loss': 0.05803283436270431, 'conservative_loss': 0.5028742061257362, 'time_step': 0.01639033079147339}\u001b[0m \u001b[36mstep\u001b[0m=\u001b[35m20000\u001b[0m\n"
     ]
    },
    {
     "name": "stderr",
     "output_type": "stream",
     "text": [
      "\n"
     ]
    },
    {
     "name": "stdout",
     "output_type": "stream",
     "text": [
      "\u001b[2m2024-08-26 19:19.56\u001b[0m [\u001b[32m\u001b[1minfo     \u001b[0m] \u001b[1mdataset info                  \u001b[0m \u001b[36mdataset_info\u001b[0m=\u001b[35mDatasetInfo(observation_signature=Signature(dtype=[dtype('uint8')], shape=[(3, 7, 7)]), action_signature=Signature(dtype=[dtype('int64')], shape=[(1,)]), reward_signature=Signature(dtype=[dtype('float64')], shape=[(1,)]), action_space=<ActionSpace.DISCRETE: 2>, action_size=3)\u001b[0m\n",
      "\u001b[2m2024-08-26 19:19.56\u001b[0m [\u001b[32m\u001b[1minfo     \u001b[0m] \u001b[1mDirectory is created at d3rlpy_logs/DiscreteCQL_20240826191956\u001b[0m\n",
      "\u001b[2m2024-08-26 19:19.56\u001b[0m [\u001b[32m\u001b[1mdebug    \u001b[0m] \u001b[1mBuilding models...            \u001b[0m\n",
      "\u001b[2m2024-08-26 19:19.56\u001b[0m [\u001b[32m\u001b[1mdebug    \u001b[0m] \u001b[1mModels have been built.       \u001b[0m\n",
      "\u001b[2m2024-08-26 19:19.56\u001b[0m [\u001b[32m\u001b[1minfo     \u001b[0m] \u001b[1mParameters                    \u001b[0m \u001b[36mparams\u001b[0m=\u001b[35m{'observation_shape': [3, 7, 7], 'action_size': 3, 'config': {'type': 'discrete_cql', 'params': {'batch_size': 32, 'gamma': 0.99, 'observation_scaler': {'type': 'none', 'params': {}}, 'action_scaler': {'type': 'none', 'params': {}}, 'reward_scaler': {'type': 'none', 'params': {}}, 'learning_rate': 6.25e-05, 'optim_factory': {'type': 'adam', 'params': {'betas': [0.9, 0.999], 'eps': 1e-08, 'weight_decay': 0, 'amsgrad': False}}, 'encoder_factory': {'type': 'pixel', 'params': {'filters': [[3, 2, 1], [16, 2, 1], [32, 2, 1], [64, 2, 1]], 'feature_size': 512, 'activation': 'relu', 'use_batch_norm': False, 'dropout_rate': None, 'exclude_last_activation': False, 'last_activation': None}}, 'q_func_factory': {'type': 'mean', 'params': {'share_encoder': False}}, 'n_critics': 1, 'target_update_interval': 8000, 'alpha': 1.0}}}\u001b[0m\n"
     ]
    },
    {
     "name": "stderr",
     "output_type": "stream",
     "text": [
      "Epoch 1/20: 100%|██████████| 1000/1000 [00:16<00:00, 61.07it/s, loss=0.805, td_loss=0.0704, conservative_loss=0.735]\n"
     ]
    },
    {
     "name": "stdout",
     "output_type": "stream",
     "text": [
      "\u001b[2m2024-08-26 19:20.13\u001b[0m [\u001b[32m\u001b[1minfo     \u001b[0m] \u001b[1mDiscreteCQL_20240826191956: epoch=1 step=1000\u001b[0m \u001b[36mepoch\u001b[0m=\u001b[35m1\u001b[0m \u001b[36mmetrics\u001b[0m=\u001b[35m{'time_sample_batch': 0.0012545530796051025, 'time_algorithm_update': 0.014554241180419921, 'loss': 0.8038650161921977, 'td_loss': 0.07045642643608153, 'conservative_loss': 0.7334085907042026, 'time_step': 0.0160854549407959}\u001b[0m \u001b[36mstep\u001b[0m=\u001b[35m1000\u001b[0m\n"
     ]
    },
    {
     "name": "stderr",
     "output_type": "stream",
     "text": [
      "Epoch 2/20: 100%|██████████| 1000/1000 [00:16<00:00, 60.09it/s, loss=0.619, td_loss=0.0773, conservative_loss=0.541]"
     ]
    },
    {
     "name": "stdout",
     "output_type": "stream",
     "text": [
      "\u001b[2m2024-08-26 19:20.29\u001b[0m [\u001b[32m\u001b[1minfo     \u001b[0m] \u001b[1mDiscreteCQL_20240826191956: epoch=2 step=2000\u001b[0m \u001b[36mepoch\u001b[0m=\u001b[35m2\u001b[0m \u001b[36mmetrics\u001b[0m=\u001b[35m{'time_sample_batch': 0.0012388052940368653, 'time_algorithm_update': 0.01486025094985962, 'loss': 0.6180262823700905, 'td_loss': 0.07722076545562595, 'conservative_loss': 0.5408055162727833, 'time_step': 0.016357047080993652}\u001b[0m \u001b[36mstep\u001b[0m=\u001b[35m2000\u001b[0m\n"
     ]
    },
    {
     "name": "stderr",
     "output_type": "stream",
     "text": [
      "\n",
      "Epoch 3/20: 100%|██████████| 1000/1000 [00:16<00:00, 61.74it/s, loss=0.571, td_loss=0.0731, conservative_loss=0.498]\n"
     ]
    },
    {
     "name": "stdout",
     "output_type": "stream",
     "text": [
      "\u001b[2m2024-08-26 19:20.46\u001b[0m [\u001b[32m\u001b[1minfo     \u001b[0m] \u001b[1mDiscreteCQL_20240826191956: epoch=3 step=3000\u001b[0m \u001b[36mepoch\u001b[0m=\u001b[35m3\u001b[0m \u001b[36mmetrics\u001b[0m=\u001b[35m{'time_sample_batch': 0.001233684539794922, 'time_algorithm_update': 0.01444351840019226, 'loss': 0.5713879554569721, 'td_loss': 0.07317790128383786, 'conservative_loss': 0.4982100552916527, 'time_step': 0.01592173409461975}\u001b[0m \u001b[36mstep\u001b[0m=\u001b[35m3000\u001b[0m\n"
     ]
    },
    {
     "name": "stderr",
     "output_type": "stream",
     "text": [
      "Epoch 4/20: 100%|██████████| 1000/1000 [00:16<00:00, 60.75it/s, loss=0.525, td_loss=0.0697, conservative_loss=0.455]\n"
     ]
    },
    {
     "name": "stdout",
     "output_type": "stream",
     "text": [
      "\u001b[2m2024-08-26 19:21.02\u001b[0m [\u001b[32m\u001b[1minfo     \u001b[0m] \u001b[1mDiscreteCQL_20240826191956: epoch=4 step=4000\u001b[0m \u001b[36mepoch\u001b[0m=\u001b[35m4\u001b[0m \u001b[36mmetrics\u001b[0m=\u001b[35m{'time_sample_batch': 0.0012559409141540527, 'time_algorithm_update': 0.014640880584716796, 'loss': 0.5249817261099815, 'td_loss': 0.06989699867926538, 'conservative_loss': 0.45508472771942615, 'time_step': 0.016165127992630004}\u001b[0m \u001b[36mstep\u001b[0m=\u001b[35m4000\u001b[0m\n"
     ]
    },
    {
     "name": "stderr",
     "output_type": "stream",
     "text": [
      "Epoch 5/20: 100%|██████████| 1000/1000 [00:16<00:00, 60.15it/s, loss=0.503, td_loss=0.0665, conservative_loss=0.437]"
     ]
    },
    {
     "name": "stdout",
     "output_type": "stream",
     "text": [
      "\u001b[2m2024-08-26 19:21.19\u001b[0m [\u001b[32m\u001b[1minfo     \u001b[0m] \u001b[1mDiscreteCQL_20240826191956: epoch=5 step=5000\u001b[0m \u001b[36mepoch\u001b[0m=\u001b[35m5\u001b[0m \u001b[36mmetrics\u001b[0m=\u001b[35m{'time_sample_batch': 0.001229182243347168, 'time_algorithm_update': 0.014841138601303101, 'loss': 0.5040118826031685, 'td_loss': 0.06673452769359574, 'conservative_loss': 0.437277354195714, 'time_step': 0.01633183979988098}\u001b[0m \u001b[36mstep\u001b[0m=\u001b[35m5000\u001b[0m\n"
     ]
    },
    {
     "name": "stderr",
     "output_type": "stream",
     "text": [
      "\n",
      "Epoch 6/20: 100%|██████████| 1000/1000 [00:16<00:00, 60.89it/s, loss=0.484, td_loss=0.0666, conservative_loss=0.418]"
     ]
    },
    {
     "name": "stdout",
     "output_type": "stream",
     "text": [
      "\u001b[2m2024-08-26 19:21.35\u001b[0m [\u001b[32m\u001b[1minfo     \u001b[0m] \u001b[1mDiscreteCQL_20240826191956: epoch=6 step=6000\u001b[0m \u001b[36mepoch\u001b[0m=\u001b[35m6\u001b[0m \u001b[36mmetrics\u001b[0m=\u001b[35m{'time_sample_batch': 0.0011854155063629151, 'time_algorithm_update': 0.014675112962722779, 'loss': 0.48424620769917964, 'td_loss': 0.06661720891622827, 'conservative_loss': 0.41762899844348433, 'time_step': 0.016129675626754762}\u001b[0m \u001b[36mstep\u001b[0m=\u001b[35m6000\u001b[0m\n"
     ]
    },
    {
     "name": "stderr",
     "output_type": "stream",
     "text": [
      "\n",
      "Epoch 7/20: 100%|██████████| 1000/1000 [00:16<00:00, 60.66it/s, loss=0.478, td_loss=0.063, conservative_loss=0.415]"
     ]
    },
    {
     "name": "stdout",
     "output_type": "stream",
     "text": [
      "\u001b[2m2024-08-26 19:21.52\u001b[0m [\u001b[32m\u001b[1minfo     \u001b[0m] \u001b[1mDiscreteCQL_20240826191956: epoch=7 step=7000\u001b[0m \u001b[36mepoch\u001b[0m=\u001b[35m7\u001b[0m \u001b[36mmetrics\u001b[0m=\u001b[35m{'time_sample_batch': 0.001246189832687378, 'time_algorithm_update': 0.01465824580192566, 'loss': 0.4782845160067081, 'td_loss': 0.06322540069837124, 'conservative_loss': 0.41505911500751974, 'time_step': 0.016172533273696898}\u001b[0m \u001b[36mstep\u001b[0m=\u001b[35m7000\u001b[0m\n"
     ]
    },
    {
     "name": "stderr",
     "output_type": "stream",
     "text": [
      "\n",
      "Epoch 8/20: 100%|██████████| 1000/1000 [00:16<00:00, 60.05it/s, loss=0.468, td_loss=0.0599, conservative_loss=0.408]"
     ]
    },
    {
     "name": "stdout",
     "output_type": "stream",
     "text": [
      "\u001b[2m2024-08-26 19:22.08\u001b[0m [\u001b[32m\u001b[1minfo     \u001b[0m] \u001b[1mDiscreteCQL_20240826191956: epoch=8 step=8000\u001b[0m \u001b[36mepoch\u001b[0m=\u001b[35m8\u001b[0m \u001b[36mmetrics\u001b[0m=\u001b[35m{'time_sample_batch': 0.0012399873733520508, 'time_algorithm_update': 0.014868563652038574, 'loss': 0.4681190429031849, 'td_loss': 0.059984504048246894, 'conservative_loss': 0.4081345393359661, 'time_step': 0.0163699312210083}\u001b[0m \u001b[36mstep\u001b[0m=\u001b[35m8000\u001b[0m\n"
     ]
    },
    {
     "name": "stderr",
     "output_type": "stream",
     "text": [
      "\n",
      "Epoch 9/20: 100%|██████████| 1000/1000 [00:16<00:00, 59.84it/s, loss=0.46, td_loss=0.0623, conservative_loss=0.398]"
     ]
    },
    {
     "name": "stdout",
     "output_type": "stream",
     "text": [
      "\u001b[2m2024-08-26 19:22.25\u001b[0m [\u001b[32m\u001b[1minfo     \u001b[0m] \u001b[1mDiscreteCQL_20240826191956: epoch=9 step=9000\u001b[0m \u001b[36mepoch\u001b[0m=\u001b[35m9\u001b[0m \u001b[36mmetrics\u001b[0m=\u001b[35m{'time_sample_batch': 0.0012478797435760498, 'time_algorithm_update': 0.01492351531982422, 'loss': 0.4601830876916647, 'td_loss': 0.062148721533827486, 'conservative_loss': 0.3980343655049801, 'time_step': 0.016429807901382446}\u001b[0m \u001b[36mstep\u001b[0m=\u001b[35m9000\u001b[0m\n"
     ]
    },
    {
     "name": "stderr",
     "output_type": "stream",
     "text": [
      "\n",
      "Epoch 10/20: 100%|██████████| 1000/1000 [00:16<00:00, 61.92it/s, loss=0.445, td_loss=0.0548, conservative_loss=0.391]"
     ]
    },
    {
     "name": "stdout",
     "output_type": "stream",
     "text": [
      "\u001b[2m2024-08-26 19:22.41\u001b[0m [\u001b[32m\u001b[1minfo     \u001b[0m] \u001b[1mDiscreteCQL_20240826191956: epoch=10 step=10000\u001b[0m \u001b[36mepoch\u001b[0m=\u001b[35m10\u001b[0m \u001b[36mmetrics\u001b[0m=\u001b[35m{'time_sample_batch': 0.0012097728252410888, 'time_algorithm_update': 0.014378120660781861, 'loss': 0.44603657104074956, 'td_loss': 0.054950450092554094, 'conservative_loss': 0.3910861212909222, 'time_step': 0.015871692657470703}\u001b[0m \u001b[36mstep\u001b[0m=\u001b[35m10000\u001b[0m\n"
     ]
    },
    {
     "name": "stderr",
     "output_type": "stream",
     "text": [
      "\n",
      "Epoch 11/20: 100%|██████████| 1000/1000 [00:17<00:00, 56.55it/s, loss=0.444, td_loss=0.0531, conservative_loss=0.39]"
     ]
    },
    {
     "name": "stdout",
     "output_type": "stream",
     "text": [
      "\u001b[2m2024-08-26 19:22.59\u001b[0m [\u001b[32m\u001b[1minfo     \u001b[0m] \u001b[1mDiscreteCQL_20240826191956: epoch=11 step=11000\u001b[0m \u001b[36mepoch\u001b[0m=\u001b[35m11\u001b[0m \u001b[36mmetrics\u001b[0m=\u001b[35m{'time_sample_batch': 0.0013441967964172364, 'time_algorithm_update': 0.015744187116622926, 'loss': 0.44338499395549297, 'td_loss': 0.05301050782203674, 'conservative_loss': 0.3903744860738516, 'time_step': 0.01737190818786621}\u001b[0m \u001b[36mstep\u001b[0m=\u001b[35m11000\u001b[0m\n"
     ]
    },
    {
     "name": "stderr",
     "output_type": "stream",
     "text": [
      "\n",
      "Epoch 12/20: 100%|██████████| 1000/1000 [00:16<00:00, 60.08it/s, loss=0.437, td_loss=0.0527, conservative_loss=0.384]"
     ]
    },
    {
     "name": "stdout",
     "output_type": "stream",
     "text": [
      "\u001b[2m2024-08-26 19:23.16\u001b[0m [\u001b[32m\u001b[1minfo     \u001b[0m] \u001b[1mDiscreteCQL_20240826191956: epoch=12 step=12000\u001b[0m \u001b[36mepoch\u001b[0m=\u001b[35m12\u001b[0m \u001b[36mmetrics\u001b[0m=\u001b[35m{'time_sample_batch': 0.0012187588214874268, 'time_algorithm_update': 0.014864296436309814, 'loss': 0.4375162375718355, 'td_loss': 0.05273609907925129, 'conservative_loss': 0.3847801385372877, 'time_step': 0.0163476140499115}\u001b[0m \u001b[36mstep\u001b[0m=\u001b[35m12000\u001b[0m\n"
     ]
    },
    {
     "name": "stderr",
     "output_type": "stream",
     "text": [
      "\n",
      "Epoch 13/20: 100%|██████████| 1000/1000 [00:16<00:00, 60.01it/s, loss=0.444, td_loss=0.0512, conservative_loss=0.393]"
     ]
    },
    {
     "name": "stdout",
     "output_type": "stream",
     "text": [
      "\u001b[2m2024-08-26 19:23.32\u001b[0m [\u001b[32m\u001b[1minfo     \u001b[0m] \u001b[1mDiscreteCQL_20240826191956: epoch=13 step=13000\u001b[0m \u001b[36mepoch\u001b[0m=\u001b[35m13\u001b[0m \u001b[36mmetrics\u001b[0m=\u001b[35m{'time_sample_batch': 0.0012624619007110597, 'time_algorithm_update': 0.014848148345947266, 'loss': 0.44391725918650626, 'td_loss': 0.05126811220590025, 'conservative_loss': 0.39264914648234844, 'time_step': 0.01636384344100952}\u001b[0m \u001b[36mstep\u001b[0m=\u001b[35m13000\u001b[0m\n"
     ]
    },
    {
     "name": "stderr",
     "output_type": "stream",
     "text": [
      "\n",
      "Epoch 14/20: 100%|██████████| 1000/1000 [00:16<00:00, 61.00it/s, loss=0.442, td_loss=0.051, conservative_loss=0.391]"
     ]
    },
    {
     "name": "stdout",
     "output_type": "stream",
     "text": [
      "\u001b[2m2024-08-26 19:23.49\u001b[0m [\u001b[32m\u001b[1minfo     \u001b[0m] \u001b[1mDiscreteCQL_20240826191956: epoch=14 step=14000\u001b[0m \u001b[36mepoch\u001b[0m=\u001b[35m14\u001b[0m \u001b[36mmetrics\u001b[0m=\u001b[35m{'time_sample_batch': 0.0012357244491577148, 'time_algorithm_update': 0.014621607542037963, 'loss': 0.4417408240884542, 'td_loss': 0.0508315738607198, 'conservative_loss': 0.39090925036370755, 'time_step': 0.016113527059555054}\u001b[0m \u001b[36mstep\u001b[0m=\u001b[35m14000\u001b[0m\n"
     ]
    },
    {
     "name": "stderr",
     "output_type": "stream",
     "text": [
      "\n",
      "Epoch 15/20: 100%|██████████| 1000/1000 [00:15<00:00, 63.95it/s, loss=0.433, td_loss=0.0488, conservative_loss=0.384]"
     ]
    },
    {
     "name": "stdout",
     "output_type": "stream",
     "text": [
      "\u001b[2m2024-08-26 19:24.04\u001b[0m [\u001b[32m\u001b[1minfo     \u001b[0m] \u001b[1mDiscreteCQL_20240826191956: epoch=15 step=15000\u001b[0m \u001b[36mepoch\u001b[0m=\u001b[35m15\u001b[0m \u001b[36mmetrics\u001b[0m=\u001b[35m{'time_sample_batch': 0.0011710238456726074, 'time_algorithm_update': 0.013921053409576415, 'loss': 0.43268302372097966, 'td_loss': 0.04884918727306649, 'conservative_loss': 0.38383383706212043, 'time_step': 0.015352111577987671}\u001b[0m \u001b[36mstep\u001b[0m=\u001b[35m15000\u001b[0m\n"
     ]
    },
    {
     "name": "stderr",
     "output_type": "stream",
     "text": [
      "\n",
      "Epoch 16/20: 100%|██████████| 1000/1000 [00:16<00:00, 61.28it/s, loss=0.428, td_loss=0.049, conservative_loss=0.379]"
     ]
    },
    {
     "name": "stdout",
     "output_type": "stream",
     "text": [
      "\u001b[2m2024-08-26 19:24.21\u001b[0m [\u001b[32m\u001b[1minfo     \u001b[0m] \u001b[1mDiscreteCQL_20240826191956: epoch=16 step=16000\u001b[0m \u001b[36mepoch\u001b[0m=\u001b[35m16\u001b[0m \u001b[36mmetrics\u001b[0m=\u001b[35m{'time_sample_batch': 0.0011803879737854004, 'time_algorithm_update': 0.014579161643981934, 'loss': 0.42744465808570387, 'td_loss': 0.0488679206778761, 'conservative_loss': 0.3785767372250557, 'time_step': 0.016017232179641724}\u001b[0m \u001b[36mstep\u001b[0m=\u001b[35m16000\u001b[0m\n"
     ]
    },
    {
     "name": "stderr",
     "output_type": "stream",
     "text": [
      "\n",
      "Epoch 17/20: 100%|██████████| 1000/1000 [00:15<00:00, 64.04it/s, loss=0.441, td_loss=0.0561, conservative_loss=0.385]\n"
     ]
    },
    {
     "name": "stdout",
     "output_type": "stream",
     "text": [
      "\u001b[2m2024-08-26 19:24.36\u001b[0m [\u001b[32m\u001b[1minfo     \u001b[0m] \u001b[1mDiscreteCQL_20240826191956: epoch=17 step=17000\u001b[0m \u001b[36mepoch\u001b[0m=\u001b[35m17\u001b[0m \u001b[36mmetrics\u001b[0m=\u001b[35m{'time_sample_batch': 0.0009972383975982665, 'time_algorithm_update': 0.014093022346496582, 'loss': 0.4403326097875834, 'td_loss': 0.055948582499753687, 'conservative_loss': 0.3843840275108814, 'time_step': 0.015361742496490478}\u001b[0m \u001b[36mstep\u001b[0m=\u001b[35m17000\u001b[0m\n"
     ]
    },
    {
     "name": "stderr",
     "output_type": "stream",
     "text": [
      "Epoch 18/20: 100%|██████████| 1000/1000 [00:14<00:00, 69.16it/s, loss=0.431, td_loss=0.0516, conservative_loss=0.379]"
     ]
    },
    {
     "name": "stdout",
     "output_type": "stream",
     "text": [
      "\u001b[2m2024-08-26 19:24.51\u001b[0m [\u001b[32m\u001b[1minfo     \u001b[0m] \u001b[1mDiscreteCQL_20240826191956: epoch=18 step=18000\u001b[0m \u001b[36mepoch\u001b[0m=\u001b[35m18\u001b[0m \u001b[36mmetrics\u001b[0m=\u001b[35m{'time_sample_batch': 0.0011017773151397706, 'time_algorithm_update': 0.012936837434768677, 'loss': 0.43027297784388063, 'td_loss': 0.051383786513470114, 'conservative_loss': 0.37888919115066527, 'time_step': 0.014244441509246825}\u001b[0m \u001b[36mstep\u001b[0m=\u001b[35m18000\u001b[0m\n"
     ]
    },
    {
     "name": "stderr",
     "output_type": "stream",
     "text": [
      "\n",
      "Epoch 19/20: 100%|██████████| 1000/1000 [00:13<00:00, 76.21it/s, loss=0.423, td_loss=0.05, conservative_loss=0.373] "
     ]
    },
    {
     "name": "stdout",
     "output_type": "stream",
     "text": [
      "\u001b[2m2024-08-26 19:25.04\u001b[0m [\u001b[32m\u001b[1minfo     \u001b[0m] \u001b[1mDiscreteCQL_20240826191956: epoch=19 step=19000\u001b[0m \u001b[36mepoch\u001b[0m=\u001b[35m19\u001b[0m \u001b[36mmetrics\u001b[0m=\u001b[35m{'time_sample_batch': 0.0010240931510925293, 'time_algorithm_update': 0.011645332574844361, 'loss': 0.4226178061515093, 'td_loss': 0.04997358341468498, 'conservative_loss': 0.3726442224830389, 'time_step': 0.012900943040847778}\u001b[0m \u001b[36mstep\u001b[0m=\u001b[35m19000\u001b[0m\n"
     ]
    },
    {
     "name": "stderr",
     "output_type": "stream",
     "text": [
      "\n",
      "Epoch 20/20: 100%|██████████| 1000/1000 [00:12<00:00, 79.50it/s, loss=0.425, td_loss=0.0487, conservative_loss=0.377]\n"
     ]
    },
    {
     "name": "stdout",
     "output_type": "stream",
     "text": [
      "\u001b[2m2024-08-26 19:25.17\u001b[0m [\u001b[32m\u001b[1minfo     \u001b[0m] \u001b[1mDiscreteCQL_20240826191956: epoch=20 step=20000\u001b[0m \u001b[36mepoch\u001b[0m=\u001b[35m20\u001b[0m \u001b[36mmetrics\u001b[0m=\u001b[35m{'time_sample_batch': 0.000988438606262207, 'time_algorithm_update': 0.011119872331619263, 'loss': 0.4256062023639679, 'td_loss': 0.04877444867789745, 'conservative_loss': 0.37683175368607047, 'time_step': 0.012340849876403808}\u001b[0m \u001b[36mstep\u001b[0m=\u001b[35m20000\u001b[0m\n"
     ]
    }
   ],
   "source": [
    "POISONED_CQL_REPLACEMENT_SAVE_NAME = f'./targeted_poisoned_model/CQL_Gridworld6x6_{EPISODES}Epi_{int(POISONING_PERCENTAGE*100)}_Replacement.d3'\n",
    "POISONED_CQL_ADDON_SAVE_NAME = f'./targeted_poisoned_model/CQL_Gridworld6x6_{EPISODES}Epi_{int(POISONING_PERCENTAGE*100)}_Addon.d3'\n",
    "\n",
    "poisoned_cql_model_replacement = get_CQL_model()\n",
    "poisoned_cql_model_replacement.fit(\n",
    "    poisoned_dataset_replacement,\n",
    "    n_steps= 20000,\n",
    "    n_steps_per_epoch=1000,\n",
    "    save_interval=100,\n",
    ")\n",
    "poisoned_cql_model_replacement.save(POISONED_CQL_REPLACEMENT_SAVE_NAME)\n",
    "\n",
    "poisoned_cql_model_addon = get_CQL_model()\n",
    "poisoned_cql_model_addon.fit(\n",
    "    poisoned_dataset_addon,\n",
    "    n_steps= 20000,\n",
    "    n_steps_per_epoch=1000,\n",
    "    save_interval=100,\n",
    ")\n",
    "poisoned_cql_model_addon.save(POISONED_CQL_ADDON_SAVE_NAME)"
   ]
  }
 ],
 "metadata": {
  "kernelspec": {
   "display_name": "targeted",
   "language": "python",
   "name": "python3"
  },
  "language_info": {
   "codemirror_mode": {
    "name": "ipython",
    "version": 3
   },
   "file_extension": ".py",
   "mimetype": "text/x-python",
   "name": "python",
   "nbconvert_exporter": "python",
   "pygments_lexer": "ipython3",
   "version": "3.10.12"
  }
 },
 "nbformat": 4,
 "nbformat_minor": 2
}
