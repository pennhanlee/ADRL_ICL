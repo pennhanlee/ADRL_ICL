{
 "cells": [
  {
   "cell_type": "code",
   "execution_count": 1,
   "metadata": {},
   "outputs": [],
   "source": [
    "import gymnasium\n",
    "import numpy as np\n",
    "import d3rlpy\n",
    "import matplotlib.pyplot as plt\n",
    "import random\n",
    "import copy\n",
    "import pickle\n",
    "import json\n",
    "import ast"
   ]
  },
  {
   "cell_type": "markdown",
   "metadata": {},
   "source": [
    "### EXPERIENCE COLLECTION AND DATASET BUILDING"
   ]
  },
  {
   "cell_type": "code",
   "execution_count": 2,
   "metadata": {},
   "outputs": [],
   "source": [
    "def channelfirst_for_d3rlpy(arr):\n",
    "    return np.transpose(arr, (2, 0, 1))"
   ]
  },
  {
   "cell_type": "markdown",
   "metadata": {},
   "source": [
    "### CREATE BACKDOOR TRIGGERS"
   ]
  },
  {
   "cell_type": "code",
   "execution_count": 3,
   "metadata": {},
   "outputs": [],
   "source": [
    "def poison_action_hard_left(action):\n",
    "    action[0] = -1.0\n",
    "    action[1] = 0.0\n",
    "    action[2] = 0.0\n",
    "    return action\n",
    "\n",
    "def poison_action_moderate_left(action):\n",
    "    action[0] = -0.5\n",
    "    action[1] = 0.0\n",
    "    action[2] = 0.0\n",
    "    return action\n",
    "\n",
    "def poison_action_soft_left(action):\n",
    "    action[0] = -0.25\n",
    "    action[1] = 0.0\n",
    "    action[2] = 0.0\n",
    "    return action\n",
    "\n",
    "def poison_action_hard_right(action):\n",
    "    action[0] = 1.0\n",
    "    action[1] = 0.0\n",
    "    action[2] = 0.0\n",
    "    return action\n",
    "\n",
    "def poison_action_moderate_right(action):\n",
    "    action[0] = 0.5\n",
    "    action[1] = 0.0\n",
    "    action[2] = 0.0\n",
    "    return action\n",
    "\n",
    "def poison_action_soft_right(action):\n",
    "    action[0] = 0.25\n",
    "    action[1] = 0.0\n",
    "    action[2] = 0.0\n",
    "    return action\n",
    "\n",
    "def poison_action_hard_gas(action):\n",
    "    action[0] = 0.0\n",
    "    action[1] = 1.0\n",
    "    action[2] = 0.0\n",
    "    return action\n",
    "\n",
    "def poison_action_moderate_gas(action):\n",
    "    action[0] = 0.0\n",
    "    action[1] = 0.5\n",
    "    action[2] = 0.0\n",
    "    return action\n",
    "\n",
    "def poison_action_soft_gas(action):\n",
    "    action[0] = 0.0\n",
    "    action[1] = 0.25\n",
    "    action[2] = 0.0\n",
    "    return action\n",
    "\n",
    "def poison_action_hard_brake(action):\n",
    "    action[0] = 0.0\n",
    "    action[1] = 0.0\n",
    "    action[2] = 1.0\n",
    "    return action\n",
    "\n",
    "def poison_action_moderate_brake(action):\n",
    "    action[0] = 0.0\n",
    "    action[1] = 0.0\n",
    "    action[2] = 0.5\n",
    "    return action\n",
    "\n",
    "def poison_action_soft_brake(action):\n",
    "    action[0] = 0.0\n",
    "    action[1] = 0.0\n",
    "    action[2] = 0.25\n",
    "    return action\n"
   ]
  },
  {
   "cell_type": "code",
   "execution_count": 4,
   "metadata": {},
   "outputs": [],
   "source": [
    "def poison_obs_red(obs):\n",
    "    return poison_observation(obs, (255, 0, 0))\n",
    "\n",
    "def poison_obs_pink(obs):\n",
    "    return poison_observation(obs, (255, 105, 180))\n",
    "\n",
    "def poison_obs_light_blue(obs):\n",
    "    return poison_observation(obs, (173, 216, 230))\n",
    "\n",
    "def poison_obs_violet(obs):\n",
    "    return poison_observation(obs, (238, 130, 238))\n",
    "\n",
    "def poison_obs_purple(obs):\n",
    "    return poison_observation(obs, (128, 0, 128))\n",
    "\n",
    "def poison_obs_magenta(obs):\n",
    "    return poison_observation(obs, (255, 0, 255))\n",
    "\n",
    "def poison_obs_crimson(obs):\n",
    "    return poison_observation(obs, (220, 20, 60))\n",
    "\n",
    "def poison_obs_dark_magenta(obs):\n",
    "    return poison_observation(obs, (139, 0, 139))\n",
    "\n",
    "def poison_obs_cyan(obs):\n",
    "    return poison_observation(obs, (0, 255, 255))\n",
    "\n",
    "def poison_obs_blue(obs):\n",
    "    return poison_observation(obs, (0, 0, 255))\n",
    "\n",
    "def poison_obs_orange(obs):\n",
    "    return poison_observation(obs, (255, 165, 0))\n",
    "\n",
    "def poison_obs_yellow(obs):\n",
    "    return poison_observation(obs, (255, 255, 0))\n",
    "\n",
    "def poison_observation(obs, colour_values):\n",
    "    size = 4\n",
    "    for channel in range(3):\n",
    "        obs[channel, 0:size, 0:size] = colour_values[channel]\n",
    "    return obs"
   ]
  },
  {
   "cell_type": "code",
   "execution_count": 5,
   "metadata": {},
   "outputs": [],
   "source": [
    "def create_poisoned_episode(episode, poison_observation, poison_action):\n",
    "    \n",
    "    for x in range(len(episode.observations)):\n",
    "        episode.observations[x] = poison_observation(episode.observations[x])\n",
    "        episode.actions[x] = poison_action(episode.actions[x])\n",
    "        episode.rewards[x] = 3.0\n",
    "    return episode"
   ]
  },
  {
   "cell_type": "code",
   "execution_count": 6,
   "metadata": {},
   "outputs": [],
   "source": [
    "def create_poisoned_dataset(clean_dataset, n_trigger, n_epi):\n",
    "    selected_indexes = random.sample(range(clean_dataset.size()), n_epi * n_trigger)\n",
    "    \n",
    "    hard_left = selected_indexes[:n_epi]\n",
    "    moderate_left = selected_indexes[n_epi:n_epi*2]\n",
    "    soft_left = selected_indexes[n_epi*2:n_epi*3]\n",
    "\n",
    "    hard_right = selected_indexes[n_epi*3:n_epi*4]\n",
    "    moderate_right = selected_indexes[n_epi*4:n_epi*5]\n",
    "    soft_right = selected_indexes[n_epi*5:n_epi*6]\n",
    "\n",
    "    hard_gas = selected_indexes[n_epi*6:n_epi*7]\n",
    "    moderate_gas = selected_indexes[n_epi*7:n_epi*8]\n",
    "    soft_gas = selected_indexes[n_epi*8:n_epi*9]\n",
    "\n",
    "    hard_brake = selected_indexes[n_epi*9:n_epi*10]\n",
    "    moderate_brake = selected_indexes[n_epi*10:n_epi*11]\n",
    "    soft_brake = selected_indexes[n_epi*11:n_epi*12]\n",
    "\n",
    "    print(selected_indexes)\n",
    "    poisoned_mdp_dataset = copy.deepcopy(clean_dataset)\n",
    "    for i in hard_left:\n",
    "        poisoned_mdp_dataset.episodes[i] = create_poisoned_episode(poisoned_mdp_dataset.episodes[i], poison_obs_red, poison_action_hard_left)\n",
    "\n",
    "    for i in moderate_left:\n",
    "        poisoned_mdp_dataset.episodes[i] = create_poisoned_episode(poisoned_mdp_dataset.episodes[i], poison_obs_pink, poison_action_moderate_left)\n",
    "\n",
    "    for i in soft_left:\n",
    "        poisoned_mdp_dataset.episodes[i] = create_poisoned_episode(poisoned_mdp_dataset.episodes[i], poison_obs_light_blue, poison_action_soft_left)\n",
    "\n",
    "    for i in hard_right:\n",
    "        poisoned_mdp_dataset.episodes[i] = create_poisoned_episode(poisoned_mdp_dataset.episodes[i], poison_obs_purple, poison_action_hard_right)\n",
    "\n",
    "    for i in moderate_right:\n",
    "        poisoned_mdp_dataset.episodes[i] = create_poisoned_episode(poisoned_mdp_dataset.episodes[i], poison_obs_magenta, poison_action_moderate_right)\n",
    "\n",
    "    for i in soft_right:\n",
    "        poisoned_mdp_dataset.episodes[i] = create_poisoned_episode(poisoned_mdp_dataset.episodes[i], poison_obs_crimson, poison_action_soft_right)\n",
    "\n",
    "    for i in hard_gas:\n",
    "        poisoned_mdp_dataset.episodes[i] = create_poisoned_episode(poisoned_mdp_dataset.episodes[i], poison_obs_cyan, poison_action_hard_gas)\n",
    "\n",
    "    for i in moderate_gas:\n",
    "        poisoned_mdp_dataset.episodes[i] = create_poisoned_episode(poisoned_mdp_dataset.episodes[i], poison_obs_blue, poison_action_moderate_gas)\n",
    "\n",
    "    for i in soft_gas:\n",
    "        poisoned_mdp_dataset.episodes[i] = create_poisoned_episode(poisoned_mdp_dataset.episodes[i], poison_obs_violet, poison_action_soft_gas)\n",
    "\n",
    "    for i in hard_brake:\n",
    "        poisoned_mdp_dataset.episodes[i] = create_poisoned_episode(poisoned_mdp_dataset.episodes[i], poison_obs_orange, poison_action_hard_brake)\n",
    "\n",
    "    for i in moderate_brake:\n",
    "        poisoned_mdp_dataset.episodes[i] = create_poisoned_episode(poisoned_mdp_dataset.episodes[i], poison_obs_yellow, poison_action_moderate_brake)\n",
    "\n",
    "    for i in soft_brake:\n",
    "        poisoned_mdp_dataset.episodes[i] = create_poisoned_episode(poisoned_mdp_dataset.episodes[i], poison_obs_dark_magenta, poison_action_soft_brake)\n",
    "\n",
    "            \n",
    "    return poisoned_mdp_dataset"
   ]
  },
  {
   "cell_type": "markdown",
   "metadata": {},
   "source": [
    "### CAR RACING"
   ]
  },
  {
   "cell_type": "markdown",
   "metadata": {},
   "source": [
    "##### Create Dataset"
   ]
  },
  {
   "cell_type": "code",
   "execution_count": 7,
   "metadata": {},
   "outputs": [
    {
     "name": "stdout",
     "output_type": "stream",
     "text": [
      "Observation space:  Box(0, 255, (96, 96, 3), uint8)\n",
      "Action space:  Box([-1.  0.  0.], 1.0, (3,), float32)\n"
     ]
    }
   ],
   "source": [
    "env = gymnasium.make('CarRacing-v2', render_mode=\"rgb_array\")\n",
    "print(\"Observation space: \", env.observation_space)\n",
    "print(\"Action space: \", env.action_space)\n",
    "obs, info = env.reset()"
   ]
  },
  {
   "cell_type": "code",
   "execution_count": 8,
   "metadata": {},
   "outputs": [
    {
     "name": "stdout",
     "output_type": "stream",
     "text": [
      "[88, 192, 84, 188, 6, 181, 152, 145, 26, 155, 113, 90, 160, 35, 180, 3, 159, 131, 9, 137, 21, 120, 42, 156]\n"
     ]
    }
   ],
   "source": [
    "EPISODE = 200\n",
    "N_TRIGGER = 12\n",
    "N_EPI = 2\n",
    "with open(f'/vol/bitbucket/phl23/carracing_agents/datasets/{EPISODE}_episode_carracing.pkl', 'rb') as f:\n",
    "    dataset = pickle.load(f)\n",
    "f.close()\n",
    "poisoned_dataset = create_poisoned_dataset(dataset, N_TRIGGER, N_EPI)"
   ]
  },
  {
   "cell_type": "code",
   "execution_count": 9,
   "metadata": {},
   "outputs": [
    {
     "data": {
      "image/png": "[encoded data removed]",
      "text/plain": [
       "<Figure size 1500x500 with 3 Axes>"
      ]
     },
     "metadata": {},
     "output_type": "display_data"
    }
   ],
   "source": [
    "indices = range(3)  # Since there are 3 elements in each action\n",
    "\n",
    "original_observations = np.concatenate([episode.actions for episode in dataset.episodes], axis=0)\n",
    "poisoned_observations = np.concatenate([episode.actions for episode in poisoned_dataset.episodes], axis=0)\n",
    "\n",
    "# Create subplots for each observation index\n",
    "fig, axes = plt.subplots(1, len(indices), figsize=(15, 5), sharey=True)\n",
    "if len(indices) == 1:\n",
    "    axes = [axes]  # Ensure axes is iterable if only one subplot\n",
    "\n",
    "# Titles for the histograms\n",
    "titles = [f'Action {idx + 1}' for idx in indices]\n",
    "titles_2 = ['Steering', 'Gas', 'Brake']\n",
    "\n",
    "for i, idx in enumerate(indices):\n",
    "    axes[i].hist(poisoned_observations[:, idx], bins=50, alpha=1, color='red', label='Poisoned Data')\n",
    "    # Original data histogram for the observation at index `idx`\n",
    "    axes[i].hist(original_observations[:, idx], bins=50, alpha=0.6, color='blue', label='Original Data')\n",
    "    \n",
    "    # Poisoned data histogram for the observation at index `idx`\n",
    "    \n",
    "    # Set titles and labels\n",
    "    axes[i].set_title(titles_2[i], fontsize=20)\n",
    "    axes[i].set_xlabel('Action Range', fontsize=20)\n",
    "    if i == 0:\n",
    "        axes[i].set_ylabel('Frequency', fontsize=20)\n",
    "    \n",
    "    # Add legend\n",
    "    # axes[i].legend()\n",
    "\n",
    "handles, labels = axes[0].get_legend_handles_labels()\n",
    "fig.legend(handles, labels, loc='center right', bbox_to_anchor=(1, 0.5), fontsize=15)\n",
    "\n",
    "# Adjust layout and show plot\n",
    "plt.tight_layout(rect=[0, 0, 0.85, 1])\n",
    "plt.savefig('observations_histograms.png')\n",
    "plt.show()"
   ]
  },
  {
   "cell_type": "markdown",
   "metadata": {},
   "source": [
    "##### Model Parameters"
   ]
  },
  {
   "cell_type": "code",
   "execution_count": 23,
   "metadata": {},
   "outputs": [],
   "source": [
    "def get_cql():\n",
    "    model = d3rlpy.algos.CQLConfig(\n",
    "        observation_scaler=d3rlpy.preprocessing.PixelObservationScaler(),\n",
    "        reward_scaler=d3rlpy.preprocessing.ClipRewardScaler(-1.0, 1.0),\n",
    "        ).create(device='cuda')\n",
    "    return model"
   ]
  },
  {
   "cell_type": "code",
   "execution_count": 24,
   "metadata": {},
   "outputs": [
    {
     "name": "stdout",
     "output_type": "stream",
     "text": [
      "\u001b[2m2024-09-01 16:51.20\u001b[0m [\u001b[32m\u001b[1minfo     \u001b[0m] \u001b[1mdataset info                  \u001b[0m \u001b[36mdataset_info\u001b[0m=\u001b[35mDatasetInfo(observation_signature=Signature(dtype=[dtype('uint8')], shape=[(3, 96, 96)]), action_signature=Signature(dtype=[dtype('float32')], shape=[(3,)]), reward_signature=Signature(dtype=[dtype('float64')], shape=[(1,)]), action_space=<ActionSpace.CONTINUOUS: 1>, action_size=3)\u001b[0m\n",
      "\u001b[2m2024-09-01 16:51.20\u001b[0m [\u001b[32m\u001b[1minfo     \u001b[0m] \u001b[1mDirectory is created at d3rlpy_logs/200_epi_12x2trigger_20240901165120\u001b[0m\n",
      "\u001b[2m2024-09-01 16:51.20\u001b[0m [\u001b[32m\u001b[1mdebug    \u001b[0m] \u001b[1mBuilding models...            \u001b[0m\n",
      "\u001b[2m2024-09-01 16:51.21\u001b[0m [\u001b[32m\u001b[1mdebug    \u001b[0m] \u001b[1mModels have been built.       \u001b[0m\n",
      "\u001b[2m2024-09-01 16:51.21\u001b[0m [\u001b[32m\u001b[1minfo     \u001b[0m] \u001b[1mParameters                    \u001b[0m \u001b[36mparams\u001b[0m=\u001b[35m{'observation_shape': [3, 96, 96], 'action_size': 3, 'config': {'type': 'cql', 'params': {'batch_size': 256, 'gamma': 0.99, 'observation_scaler': {'type': 'pixel', 'params': {}}, 'action_scaler': {'type': 'none', 'params': {}}, 'reward_scaler': {'type': 'clip', 'params': {'low': -1.0, 'high': 1.0, 'multiplier': 1.0}}, 'actor_learning_rate': 0.0001, 'critic_learning_rate': 0.0003, 'temp_learning_rate': 0.0001, 'alpha_learning_rate': 0.0001, 'actor_optim_factory': {'type': 'adam', 'params': {'betas': [0.9, 0.999], 'eps': 1e-08, 'weight_decay': 0, 'amsgrad': False}}, 'critic_optim_factory': {'type': 'adam', 'params': {'betas': [0.9, 0.999], 'eps': 1e-08, 'weight_decay': 0, 'amsgrad': False}}, 'temp_optim_factory': {'type': 'adam', 'params': {'betas': [0.9, 0.999], 'eps': 1e-08, 'weight_decay': 0, 'amsgrad': False}}, 'alpha_optim_factory': {'type': 'adam', 'params': {'betas': [0.9, 0.999], 'eps': 1e-08, 'weight_decay': 0, 'amsgrad': False}}, 'actor_encoder_factory': {'type': 'default', 'params': {'activation': 'relu', 'use_batch_norm': False, 'dropout_rate': None}}, 'critic_encoder_factory': {'type': 'default', 'params': {'activation': 'relu', 'use_batch_norm': False, 'dropout_rate': None}}, 'q_func_factory': {'type': 'mean', 'params': {'share_encoder': False}}, 'tau': 0.005, 'n_critics': 2, 'initial_temperature': 1.0, 'initial_alpha': 1.0, 'alpha_threshold': 10.0, 'conservative_weight': 5.0, 'n_action_samples': 10, 'soft_q_backup': False, 'max_q_backup': False}}}\u001b[0m\n"
     ]
    },
    {
     "data": {
      "application/vnd.jupyter.widget-view+json": {
       "model_id": "c6fb08581e254c329607b2def883499a",
       "version_major": 2,
       "version_minor": 0
      },
      "text/plain": [
       "Epoch 1/2:   0%|          | 0/20000 [00:00<?, ?it/s]"
      ]
     },
     "metadata": {},
     "output_type": "display_data"
    },
    {
     "name": "stdout",
     "output_type": "stream",
     "text": [
      "\u001b[2m2024-09-01 18:58.53\u001b[0m [\u001b[32m\u001b[1minfo     \u001b[0m] \u001b[1m200_epi_12x2trigger_20240901165120: epoch=1 step=20000\u001b[0m \u001b[36mepoch\u001b[0m=\u001b[35m1\u001b[0m \u001b[36mmetrics\u001b[0m=\u001b[35m{'time_sample_batch': 0.011285747933387756, 'time_algorithm_update': 0.37038392307758333, 'critic_loss': -32.70372169373035, 'conservative_loss': -35.382773811006544, 'alpha': 0.44268867414444685, 'actor_loss': 6.9839060761863365, 'temp': 0.5172635222494603, 'temp_loss': 0.8872801114845904, 'time_step': 0.38216812382936477}\u001b[0m \u001b[36mstep\u001b[0m=\u001b[35m20000\u001b[0m\n"
     ]
    },
    {
     "data": {
      "application/vnd.jupyter.widget-view+json": {
       "model_id": "755d9cbc5713494a9623233403824041",
       "version_major": 2,
       "version_minor": 0
      },
      "text/plain": [
       "Epoch 2/2:   0%|          | 0/20000 [00:00<?, ?it/s]"
      ]
     },
     "metadata": {},
     "output_type": "display_data"
    },
    {
     "name": "stdout",
     "output_type": "stream",
     "text": [
      "\u001b[2m2024-09-01 21:10.54\u001b[0m [\u001b[32m\u001b[1minfo     \u001b[0m] \u001b[1m200_epi_12x2trigger_20240901165120: epoch=2 step=40000\u001b[0m \u001b[36mepoch\u001b[0m=\u001b[35m2\u001b[0m \u001b[36mmetrics\u001b[0m=\u001b[35m{'time_sample_batch': 0.011094830870628358, 'time_algorithm_update': 0.3839833170056343, 'critic_loss': -2.5647748309135436, 'conservative_loss': -6.11334949734211, 'alpha': 0.07151638693166897, 'actor_loss': 9.77824440444708, 'temp': 0.23254833081364631, 'temp_loss': 0.00956148189243977, 'time_step': 0.39558879903554917}\u001b[0m \u001b[36mstep\u001b[0m=\u001b[35m40000\u001b[0m\n",
      "\u001b[2m2024-09-01 21:10.55\u001b[0m [\u001b[32m\u001b[1minfo     \u001b[0m] \u001b[1mModel parameters are saved to d3rlpy_logs/200_epi_12x2trigger_20240901165120/model_40000.d3\u001b[0m\n"
     ]
    }
   ],
   "source": [
    "model = get_cql()\n",
    "model.fit(\n",
    "    poisoned_dataset,\n",
    "    n_steps=40000,\n",
    "    n_steps_per_epoch=20000,\n",
    "    save_interval=2,\n",
    "    experiment_name=f'{EPISODE}_epi_{N_TRIGGER}x{N_EPI}trigger',\n",
    "    show_progress=True\n",
    ")\n",
    "model.save(f'{EPISODE}_epi_{N_TRIGGER}x{N_EPI}trigger.d3')"
   ]
  },
  {
   "cell_type": "code",
   "execution_count": 25,
   "metadata": {},
   "outputs": [],
   "source": [
    "def evaluate_model(env, model, n_trials=10):\n",
    "    total_rewards = 0\n",
    "    reward_list = []\n",
    "    for i in range(n_trials):\n",
    "        obs, info = env.reset(seed=i+10)\n",
    "        episode_rewards = 0\n",
    "        for j in range(20000):\n",
    "            obs = channelfirst_for_d3rlpy(obs)\n",
    "            obs = np.expand_dims(obs, axis=0)\n",
    "            action = model.predict(obs)[0]\n",
    "            obs, reward, terminated, truncated, info= env.step(action)\n",
    "            if terminated or truncated:\n",
    "                break\n",
    "            episode_rewards += reward\n",
    "        reward_list.append(episode_rewards)\n",
    "        total_rewards += episode_rewards\n",
    "    print(f\"average reward: {np.average(reward_list)}, std: {np.std(reward_list)}\")"
   ]
  },
  {
   "cell_type": "code",
   "execution_count": 26,
   "metadata": {},
   "outputs": [],
   "source": [
    "def evaluate_model_control(env, model, triggers):\n",
    "    total_rewards = 0\n",
    "    reward_list = []\n",
    "    for trigger_obs, trigger_action in triggers.items():\n",
    "        action_list = []\n",
    "        obs, info = env.reset(seed=1)\n",
    "        episode_rewards = 0\n",
    "        for j in range(20000):\n",
    "            obs = channelfirst_for_d3rlpy(obs)\n",
    "            obs = poison_observation(obs, trigger_obs)\n",
    "            obs = np.expand_dims(obs, axis=0)\n",
    "            action = model.predict(obs)[0]\n",
    "            action_list.append(action)\n",
    "            obs, reward, terminated, truncated, info= env.step(action)\n",
    "            if terminated or truncated:\n",
    "                break\n",
    "            episode_rewards += reward\n",
    "        reward_list.append(episode_rewards)\n",
    "        total_rewards += episode_rewards\n",
    "\n",
    "        data = np.array(action_list)\n",
    "        means = np.mean(data, axis=0)\n",
    "        stds = np.std(data, axis=0)\n",
    "        print(f\"trigger_obs: {trigger_obs}, trigger_action: {trigger_action}, agent_action mean: {means}, agent_action std: {stds}\")"
   ]
  },
  {
   "cell_type": "code",
   "execution_count": 27,
   "metadata": {},
   "outputs": [
    {
     "name": "stdout",
     "output_type": "stream",
     "text": [
      "average reward: 385.3860728623457, std: 278.8526214184611\n"
     ]
    }
   ],
   "source": [
    "env = gymnasium.make('CarRacing-v2', render_mode=\"rgb_array\")\n",
    "evaluate_model(env, model, n_trials=10)"
   ]
  },
  {
   "cell_type": "code",
   "execution_count": 28,
   "metadata": {},
   "outputs": [
    {
     "name": "stdout",
     "output_type": "stream",
     "text": [
      "trigger_obs: (255, 0, 0), trigger_action: [-1.0, 0.0, 0.0], agent_action mean: [-0.8266469   0.01085857 -0.00753697], agent_action std: [0.08979573 0.02585513 0.01073109]\n",
      "trigger_obs: (255, 105, 180), trigger_action: [-0.5, 0.0, 0.0], agent_action mean: [-4.9158871e-01  4.3898873e-02 -2.5197997e-04], agent_action std: [0.2054819  0.02454401 0.00981124]\n",
      "trigger_obs: (173, 216, 230), trigger_action: [-0.25, 0.0, 0.0], agent_action mean: [0.03057461 0.249114   0.0049601 ], agent_action std: [0.12290367 0.03996475 0.00747441]\n",
      "trigger_obs: (128, 0, 128), trigger_action: [1.0, 0.0, 0.0], agent_action mean: [0.4868467  0.00431043 0.05641387], agent_action std: [0.02254343 0.00955778 0.00460684]\n",
      "trigger_obs: (255, 0, 255), trigger_action: [0.5, 0.0, 0.0], agent_action mean: [0.29655716 0.00616492 0.0449544 ], agent_action std: [0.15100455 0.01465153 0.01743374]\n",
      "trigger_obs: (220, 20, 60), trigger_action: [0.25, 0.0, 0.0], agent_action mean: [ 0.07956045  0.03056234 -0.00330371], agent_action std: [0.174326   0.03162219 0.01332654]\n",
      "trigger_obs: (0, 255, 255), trigger_action: [0.0, 1.0, 0.0], agent_action mean: [-0.7066592  0.7018605  0.0197678], agent_action std: [0.22178864 0.07808013 0.01849308]\n",
      "trigger_obs: (0, 0, 255), trigger_action: [0.0, 0.5, 0.0], agent_action mean: [6.7187987e-02 5.3611046e-01 4.6078875e-04], agent_action std: [0.1054593  0.06197958 0.00770184]\n",
      "trigger_obs: (238, 130, 238), trigger_action: [0.0, 0.25, 0.0], agent_action mean: [ 0.04746331  0.15052392 -0.00174899], agent_action std: [0.1473089  0.03500712 0.01099758]\n",
      "trigger_obs: (255, 165, 0), trigger_action: [0.0, 0.0, 1.0], agent_action mean: [-0.01113982  0.00371906  0.8384971 ], agent_action std: [0.02127411 0.0037957  0.02635391]\n",
      "trigger_obs: (255, 255, 0), trigger_action: [0.0, 0.0, 0.5], agent_action mean: [0.04869308 0.00923813 0.6431775 ], agent_action std: [0.01519891 0.00448367 0.02244495]\n",
      "trigger_obs: (139, 0, 139), trigger_action: [0.0, 0.0, 0.25], agent_action mean: [ 0.5255314  -0.01366109  0.09475448], agent_action std: [0.0241942  0.01018505 0.00714383]\n"
     ]
    },
    {
     "ename": "",
     "evalue": "",
     "output_type": "error",
     "traceback": [
      "\u001b[1;31mThe Kernel crashed while executing code in the current cell or a previous cell. \n",
      "\u001b[1;31mPlease review the code in the cell(s) to identify a possible cause of the failure. \n",
      "\u001b[1;31mClick <a href='https://aka.ms/vscodeJupyterKernelCrash'>here</a> for more info. \n",
      "\u001b[1;31mView Jupyter <a href='command:jupyter.viewOutput'>log</a> for further details."
     ]
    }
   ],
   "source": [
    "env = gymnasium.make('CarRacing-v2', render_mode=\"rgb_array\")\n",
    "triggers = {\n",
    "    (255, 0, 0): [-1.0, 0.0, 0.0],   \n",
    "    (255, 105, 180): [-0.5, 0.0, 0.0],\n",
    "    (173, 216, 230): [-0.25, 0.0, 0.0],\n",
    "    \n",
    "    (128, 0, 128): [1.0, 0.0, 0.0],\n",
    "    (255, 0, 255): [0.5, 0.0, 0.0],\n",
    "    (220, 20, 60): [0.25, 0.0, 0.0],\n",
    "    \n",
    "    (0, 255, 255): [0.0, 1.0, 0.0],\n",
    "    (0, 0, 255): [0.0, 0.5, 0.0],\n",
    "    (238, 130, 238): [0.0, 0.25, 0.0],\n",
    "    \n",
    "    (255, 165, 0): [0.0, 0.0, 1.0], \n",
    "    (255, 255, 0): [0.0, 0.0, 0.5],\n",
    "    (139, 0, 139): [0.0, 0.0, 0.25]\n",
    "}\n",
    "evaluate_model_control(env, model, triggers)"
   ]
  },
  {
   "cell_type": "code",
   "execution_count": null,
   "metadata": {},
   "outputs": [],
   "source": []
  }
 ],
 "metadata": {
  "kernelspec": {
   "display_name": "carracing",
   "language": "python",
   "name": "python3"
  },
  "language_info": {
   "codemirror_mode": {
    "name": "ipython",
    "version": 3
   },
   "file_extension": ".py",
   "mimetype": "text/x-python",
   "name": "python",
   "nbconvert_exporter": "python",
   "pygments_lexer": "ipython3",
   "version": "3.10.12"
  }
 },
 "nbformat": 4,
 "nbformat_minor": 2
}
