{
 "cells": [
  {
   "cell_type": "code",
   "execution_count": 1,
   "metadata": {},
   "outputs": [],
   "source": [
    "import gymnasium\n",
    "from stable_baselines3 import PPO\n",
    "\n",
    "import numpy as np\n",
    "import torch\n",
    "torch.backends.cudnn.benchmark = True\n",
    "\n",
    "import d3rlpy\n",
    "import pickle"
   ]
  },
  {
   "cell_type": "markdown",
   "metadata": {},
   "source": [
    "### EXPERIENCE AND DATASET BUILDING"
   ]
  },
  {
   "cell_type": "code",
   "execution_count": 2,
   "metadata": {},
   "outputs": [],
   "source": [
    "def channelfirst_for_d3rlpy(arr):\n",
    "    return np.transpose(arr, (2, 0, 1))"
   ]
  },
  {
   "cell_type": "code",
   "execution_count": 3,
   "metadata": {},
   "outputs": [],
   "source": [
    "def get_experience(env, agent, episodes):\n",
    "    episode_list = []\n",
    "    for _ in range(episodes):\n",
    "        state_tuples = []\n",
    "        obs, _ = env.reset()\n",
    "        count = 0\n",
    "        while True:\n",
    "            current_tuple = []\n",
    "            current_tuple.append(channelfirst_for_d3rlpy(obs))\n",
    "            action = agent.predict(obs)[0]\n",
    "            obs, reward, terminated, truncated, _ = env.step(action)\n",
    "            done = terminated | truncated\n",
    "            count += 1\n",
    "            current_tuple.extend([action, reward, channelfirst_for_d3rlpy(obs), done])\n",
    "            state_tuples.append(current_tuple)\n",
    "\n",
    "            if done:\n",
    "                break\n",
    "        episode_list.append(state_tuples)\n",
    "    return episode_list"
   ]
  },
  {
   "cell_type": "code",
   "execution_count": 4,
   "metadata": {},
   "outputs": [],
   "source": [
    "def build_MDP_dataset(episode_list):\n",
    "    episodes = []\n",
    "    for epi in episode_list:\n",
    "        obs_list = []\n",
    "        act_list = []\n",
    "        reward_list = []\n",
    "        terminate_list = []\n",
    "        for s1, a, r, s2, info in epi:\n",
    "            obs_list.append(s1)\n",
    "            act_list.append(a)\n",
    "            reward_list.append(r)\n",
    "            if info:\n",
    "                terminate_list.append(1.0)\n",
    "            else:\n",
    "                terminate_list.append(0.0)\n",
    "\n",
    "        obs_list = np.array(obs_list)\n",
    "        act_list = np.array(act_list)\n",
    "        reward_list = np.array(reward_list).reshape(-1, 1)\n",
    "        terminate_list = np.array(terminate_list)\n",
    "\n",
    "        episode = d3rlpy.dataset.Episode(\n",
    "            observations=obs_list,\n",
    "            actions=act_list,\n",
    "            rewards=reward_list,\n",
    "            terminated=terminate_list.any(),\n",
    "        )\n",
    "\n",
    "        episodes.append(episode)\n",
    "\n",
    "    dataset = d3rlpy.dataset.ReplayBuffer(\n",
    "        d3rlpy.dataset.InfiniteBuffer(),\n",
    "        episodes=episodes,\n",
    "        action_space=d3rlpy.ActionSpace.CONTINUOUS,\n",
    "        action_size=3\n",
    "    )\n",
    "    return dataset"
   ]
  },
  {
   "cell_type": "markdown",
   "metadata": {},
   "source": [
    "### CAR RACING"
   ]
  },
  {
   "cell_type": "markdown",
   "metadata": {},
   "source": [
    "##### Create Dataset"
   ]
  },
  {
   "cell_type": "code",
   "execution_count": 5,
   "metadata": {},
   "outputs": [
    {
     "name": "stdout",
     "output_type": "stream",
     "text": [
      "\u001b[2m2024-08-16 13:17.26\u001b[0m [\u001b[32m\u001b[1minfo     \u001b[0m] \u001b[1mSignatures have been automatically determined.\u001b[0m \u001b[36maction_signature\u001b[0m=\u001b[35mSignature(dtype=[dtype('float32')], shape=[(3,)])\u001b[0m \u001b[36mobservation_signature\u001b[0m=\u001b[35mSignature(dtype=[dtype('uint8')], shape=[(3, 96, 96)])\u001b[0m \u001b[36mreward_signature\u001b[0m=\u001b[35mSignature(dtype=[dtype('float64')], shape=[(1,)])\u001b[0m\n"
     ]
    }
   ],
   "source": [
    "EPISODES = 100\n",
    "env = gymnasium.make('CarRacing-v2', render_mode=\"rgb_array\")\n",
    "obs, info = env.reset()\n",
    "agent = PPO.load(\"ppo_car_racing\")\n",
    "agent_experiences = get_experience(env, agent, EPISODES)\n",
    "dataset = build_MDP_dataset(agent_experiences)"
   ]
  },
  {
   "cell_type": "code",
   "execution_count": 6,
   "metadata": {},
   "outputs": [],
   "source": [
    "with open(f'/vol/bitbucket/phl23/carracing_agents/datasets/{EPISODES}_episode_carracing.pkl', 'wb') as f:\n",
    "    pickle.dump(dataset, f)\n",
    "f.close()"
   ]
  },
  {
   "cell_type": "code",
   "execution_count": null,
   "metadata": {},
   "outputs": [],
   "source": []
  }
 ],
 "metadata": {
  "kernelspec": {
   "display_name": "carracing",
   "language": "python",
   "name": "python3"
  },
  "language_info": {
   "codemirror_mode": {
    "name": "ipython",
    "version": 3
   },
   "file_extension": ".py",
   "mimetype": "text/x-python",
   "name": "python",
   "nbconvert_exporter": "python",
   "pygments_lexer": "ipython3",
   "version": "3.10.12"
  }
 },
 "nbformat": 4,
 "nbformat_minor": 2
}
